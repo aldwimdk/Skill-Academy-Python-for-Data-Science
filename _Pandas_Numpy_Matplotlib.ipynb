{
 "cells": [
  {
   "cell_type": "code",
   "execution_count": 5,
   "id": "b3e8c9d4",
   "metadata": {},
   "outputs": [],
   "source": [
    "import pandas as pd"
   ]
  },
  {
   "cell_type": "markdown",
   "id": "5de31897",
   "metadata": {},
   "source": [
    "# Pandas Data Series"
   ]
  },
  {
   "cell_type": "code",
   "execution_count": 2,
   "id": "5d21c1a7",
   "metadata": {},
   "outputs": [],
   "source": [
    "Nama_Reptil = [\"Buaya\", \"Ular\", \"Kadal\", \"Komodo\", \"Kura-Kura\"]"
   ]
  },
  {
   "cell_type": "code",
   "execution_count": 3,
   "id": "a90393b7",
   "metadata": {},
   "outputs": [
    {
     "data": {
      "text/plain": [
       "['Buaya', 'Ular', 'Kadal', 'Komodo', 'Kura-Kura']"
      ]
     },
     "execution_count": 3,
     "metadata": {},
     "output_type": "execute_result"
    }
   ],
   "source": [
    "Nama_Reptil"
   ]
  },
  {
   "cell_type": "code",
   "execution_count": 4,
   "id": "e014abd4",
   "metadata": {},
   "outputs": [],
   "source": [
    "ds = pd.Series(Nama_Reptil)"
   ]
  },
  {
   "cell_type": "code",
   "execution_count": 5,
   "id": "884c87ce",
   "metadata": {},
   "outputs": [
    {
     "data": {
      "text/plain": [
       "0        Buaya\n",
       "1         Ular\n",
       "2        Kadal\n",
       "3       Komodo\n",
       "4    Kura-Kura\n",
       "dtype: object"
      ]
     },
     "execution_count": 5,
     "metadata": {},
     "output_type": "execute_result"
    }
   ],
   "source": [
    "ds"
   ]
  },
  {
   "cell_type": "code",
   "execution_count": 6,
   "id": "08c9301e",
   "metadata": {},
   "outputs": [
    {
     "data": {
      "text/plain": [
       "pandas.core.series.Series"
      ]
     },
     "execution_count": 6,
     "metadata": {},
     "output_type": "execute_result"
    }
   ],
   "source": [
    "type(ds)"
   ]
  },
  {
   "cell_type": "code",
   "execution_count": 7,
   "id": "c7452871",
   "metadata": {},
   "outputs": [],
   "source": [
    "ds = pd.Series(Nama_Reptil, index=['a','b','c','d','e'])"
   ]
  },
  {
   "cell_type": "code",
   "execution_count": 8,
   "id": "f02ffa18",
   "metadata": {},
   "outputs": [
    {
     "data": {
      "text/plain": [
       "a        Buaya\n",
       "b         Ular\n",
       "c        Kadal\n",
       "d       Komodo\n",
       "e    Kura-Kura\n",
       "dtype: object"
      ]
     },
     "execution_count": 8,
     "metadata": {},
     "output_type": "execute_result"
    }
   ],
   "source": [
    "ds"
   ]
  },
  {
   "cell_type": "code",
   "execution_count": 9,
   "id": "8e6b72d6",
   "metadata": {},
   "outputs": [
    {
     "data": {
      "text/plain": [
       "array(['Buaya', 'Ular', 'Kadal', 'Komodo', 'Kura-Kura'], dtype=object)"
      ]
     },
     "execution_count": 9,
     "metadata": {},
     "output_type": "execute_result"
    }
   ],
   "source": [
    "ds.values"
   ]
  },
  {
   "cell_type": "code",
   "execution_count": 12,
   "id": "b27dfcbf",
   "metadata": {},
   "outputs": [
    {
     "data": {
      "text/plain": [
       "'Buaya'"
      ]
     },
     "execution_count": 12,
     "metadata": {},
     "output_type": "execute_result"
    }
   ],
   "source": [
    "ds[0]"
   ]
  },
  {
   "cell_type": "code",
   "execution_count": 13,
   "id": "b6bdb08d",
   "metadata": {},
   "outputs": [
    {
     "data": {
      "text/plain": [
       "'Buaya'"
      ]
     },
     "execution_count": 13,
     "metadata": {},
     "output_type": "execute_result"
    }
   ],
   "source": [
    "ds[\"a\"]"
   ]
  },
  {
   "cell_type": "code",
   "execution_count": 14,
   "id": "59a4f38f",
   "metadata": {},
   "outputs": [
    {
     "data": {
      "text/plain": [
       "True"
      ]
     },
     "execution_count": 14,
     "metadata": {},
     "output_type": "execute_result"
    }
   ],
   "source": [
    "ds[0]==ds[\"a\"]"
   ]
  },
  {
   "cell_type": "code",
   "execution_count": 15,
   "id": "e7eb8eeb",
   "metadata": {},
   "outputs": [
    {
     "data": {
      "text/plain": [
       "a    Buaya\n",
       "b     Ular\n",
       "dtype: object"
      ]
     },
     "execution_count": 15,
     "metadata": {},
     "output_type": "execute_result"
    }
   ],
   "source": [
    "ds[0:2]"
   ]
  },
  {
   "cell_type": "code",
   "execution_count": 16,
   "id": "68b4cbe7",
   "metadata": {},
   "outputs": [
    {
     "data": {
      "text/plain": [
       "a    Buaya\n",
       "b     Ular\n",
       "dtype: object"
      ]
     },
     "execution_count": 16,
     "metadata": {},
     "output_type": "execute_result"
    }
   ],
   "source": [
    "ds[['a','b']]"
   ]
  },
  {
   "cell_type": "code",
   "execution_count": 17,
   "id": "7877bcdb",
   "metadata": {},
   "outputs": [
    {
     "data": {
      "text/plain": [
       "a        Buaya\n",
       "e    Kura-Kura\n",
       "dtype: object"
      ]
     },
     "execution_count": 17,
     "metadata": {},
     "output_type": "execute_result"
    }
   ],
   "source": [
    "ds[['a','e']]"
   ]
  },
  {
   "cell_type": "code",
   "execution_count": 18,
   "id": "0636e8de",
   "metadata": {},
   "outputs": [
    {
     "data": {
      "text/plain": [
       "'Kura-Kura'"
      ]
     },
     "execution_count": 18,
     "metadata": {},
     "output_type": "execute_result"
    }
   ],
   "source": [
    "ds[-1]"
   ]
  },
  {
   "cell_type": "code",
   "execution_count": null,
   "id": "3eb9eb02",
   "metadata": {},
   "outputs": [],
   "source": []
  },
  {
   "cell_type": "code",
   "execution_count": 28,
   "id": "efe67d36",
   "metadata": {},
   "outputs": [],
   "source": [
    "var2 = {\"Nama\" : \"Aldwi\",\n",
    "       \"Umur\" : 22,\n",
    "       \"Kota\" : \"Lampung\"}"
   ]
  },
  {
   "cell_type": "code",
   "execution_count": 29,
   "id": "93377acc",
   "metadata": {},
   "outputs": [
    {
     "data": {
      "text/plain": [
       "dict"
      ]
     },
     "execution_count": 29,
     "metadata": {},
     "output_type": "execute_result"
    }
   ],
   "source": [
    "type(var2)"
   ]
  },
  {
   "cell_type": "code",
   "execution_count": 30,
   "id": "1c6b2ccd",
   "metadata": {},
   "outputs": [],
   "source": [
    "cv = pd.Series(var2)"
   ]
  },
  {
   "cell_type": "code",
   "execution_count": 31,
   "id": "b8ca6f72",
   "metadata": {},
   "outputs": [
    {
     "data": {
      "text/plain": [
       "Nama      Aldwi\n",
       "Umur         22\n",
       "Kota    Lampung\n",
       "dtype: object"
      ]
     },
     "execution_count": 31,
     "metadata": {},
     "output_type": "execute_result"
    }
   ],
   "source": [
    "cv"
   ]
  },
  {
   "cell_type": "code",
   "execution_count": 32,
   "id": "42577c00",
   "metadata": {},
   "outputs": [
    {
     "data": {
      "text/plain": [
       "Index(['Nama', 'Umur', 'Kota'], dtype='object')"
      ]
     },
     "execution_count": 32,
     "metadata": {},
     "output_type": "execute_result"
    }
   ],
   "source": [
    "cv.index"
   ]
  },
  {
   "cell_type": "code",
   "execution_count": 33,
   "id": "56585c6d",
   "metadata": {},
   "outputs": [
    {
     "data": {
      "text/plain": [
       "array(['Aldwi', 22, 'Lampung'], dtype=object)"
      ]
     },
     "execution_count": 33,
     "metadata": {},
     "output_type": "execute_result"
    }
   ],
   "source": [
    "cv.values"
   ]
  },
  {
   "cell_type": "code",
   "execution_count": 34,
   "id": "61416d74",
   "metadata": {},
   "outputs": [
    {
     "data": {
      "text/plain": [
       "'Aldwi'"
      ]
     },
     "execution_count": 34,
     "metadata": {},
     "output_type": "execute_result"
    }
   ],
   "source": [
    "cv['Nama']"
   ]
  },
  {
   "cell_type": "code",
   "execution_count": 37,
   "id": "2e3c4672",
   "metadata": {},
   "outputs": [
    {
     "name": "stdout",
     "output_type": "stream",
     "text": [
      "Ganti Identitas\n",
      "Nama=Masukkan Identitas= jisoo\n",
      "Umur=Masukkan Identitas= 10\n",
      "Kota=Masukkan Identitas= lamopung\n"
     ]
    }
   ],
   "source": [
    "print(\"Ganti Identitas\")\n",
    "for i in cv.index:\n",
    "    print(i, end=\"=\")\n",
    "    cv[i]=str(input(\"Masukkan Identitas= \"))"
   ]
  },
  {
   "cell_type": "code",
   "execution_count": 38,
   "id": "b61b1ee4",
   "metadata": {},
   "outputs": [
    {
     "data": {
      "text/plain": [
       "Nama       jisoo\n",
       "Umur          10\n",
       "Kota    lamopung\n",
       "dtype: object"
      ]
     },
     "execution_count": 38,
     "metadata": {},
     "output_type": "execute_result"
    }
   ],
   "source": [
    "cv"
   ]
  },
  {
   "cell_type": "markdown",
   "id": "84cb1045",
   "metadata": {},
   "source": [
    "# Pandas DataFrame"
   ]
  },
  {
   "cell_type": "code",
   "execution_count": 6,
   "id": "a0f7fe81",
   "metadata": {},
   "outputs": [],
   "source": [
    "Ular ={\"Nama\":[\"Anaconda\",\"Sanca\", \"Boa\", \"Kobra\", \"Beludak\",\"Tambang\"],\n",
    "       \"Panjang\":[\"4.5\", \"5\", \"5.5\", \"4\", \"7\", \"8\"],\n",
    "       \"Bobot (Kg)\":[\"15\", \"20\", \"27\", \"14\", \"40\", \"21\"]}"
   ]
  },
  {
   "cell_type": "code",
   "execution_count": 7,
   "id": "ebdffc99",
   "metadata": {},
   "outputs": [
    {
     "data": {
      "text/plain": [
       "dict"
      ]
     },
     "execution_count": 7,
     "metadata": {},
     "output_type": "execute_result"
    }
   ],
   "source": [
    "type(Ular)"
   ]
  },
  {
   "cell_type": "code",
   "execution_count": 8,
   "id": "fd37174a",
   "metadata": {},
   "outputs": [
    {
     "data": {
      "text/plain": [
       "3"
      ]
     },
     "execution_count": 8,
     "metadata": {},
     "output_type": "execute_result"
    }
   ],
   "source": [
    "len(Ular)"
   ]
  },
  {
   "cell_type": "code",
   "execution_count": 9,
   "id": "3e5a1c79",
   "metadata": {},
   "outputs": [],
   "source": [
    "df = pd.DataFrame(Ular)"
   ]
  },
  {
   "cell_type": "code",
   "execution_count": 10,
   "id": "82c3387f",
   "metadata": {},
   "outputs": [
    {
     "data": {
      "text/html": [
       "<div>\n",
       "<style scoped>\n",
       "    .dataframe tbody tr th:only-of-type {\n",
       "        vertical-align: middle;\n",
       "    }\n",
       "\n",
       "    .dataframe tbody tr th {\n",
       "        vertical-align: top;\n",
       "    }\n",
       "\n",
       "    .dataframe thead th {\n",
       "        text-align: right;\n",
       "    }\n",
       "</style>\n",
       "<table border=\"1\" class=\"dataframe\">\n",
       "  <thead>\n",
       "    <tr style=\"text-align: right;\">\n",
       "      <th></th>\n",
       "      <th>Nama</th>\n",
       "      <th>Panjang</th>\n",
       "      <th>Bobot (Kg)</th>\n",
       "    </tr>\n",
       "  </thead>\n",
       "  <tbody>\n",
       "    <tr>\n",
       "      <th>0</th>\n",
       "      <td>Anaconda</td>\n",
       "      <td>4.5</td>\n",
       "      <td>15</td>\n",
       "    </tr>\n",
       "    <tr>\n",
       "      <th>1</th>\n",
       "      <td>Sanca</td>\n",
       "      <td>5</td>\n",
       "      <td>20</td>\n",
       "    </tr>\n",
       "    <tr>\n",
       "      <th>2</th>\n",
       "      <td>Boa</td>\n",
       "      <td>5.5</td>\n",
       "      <td>27</td>\n",
       "    </tr>\n",
       "    <tr>\n",
       "      <th>3</th>\n",
       "      <td>Kobra</td>\n",
       "      <td>4</td>\n",
       "      <td>14</td>\n",
       "    </tr>\n",
       "    <tr>\n",
       "      <th>4</th>\n",
       "      <td>Beludak</td>\n",
       "      <td>7</td>\n",
       "      <td>40</td>\n",
       "    </tr>\n",
       "    <tr>\n",
       "      <th>5</th>\n",
       "      <td>Tambang</td>\n",
       "      <td>8</td>\n",
       "      <td>21</td>\n",
       "    </tr>\n",
       "  </tbody>\n",
       "</table>\n",
       "</div>"
      ],
      "text/plain": [
       "       Nama Panjang Bobot (Kg)\n",
       "0  Anaconda     4.5         15\n",
       "1     Sanca       5         20\n",
       "2       Boa     5.5         27\n",
       "3     Kobra       4         14\n",
       "4   Beludak       7         40\n",
       "5   Tambang       8         21"
      ]
     },
     "execution_count": 10,
     "metadata": {},
     "output_type": "execute_result"
    }
   ],
   "source": [
    "df"
   ]
  },
  {
   "cell_type": "code",
   "execution_count": 11,
   "id": "ba6726b8",
   "metadata": {},
   "outputs": [
    {
     "data": {
      "text/plain": [
       "RangeIndex(start=0, stop=6, step=1)"
      ]
     },
     "execution_count": 11,
     "metadata": {},
     "output_type": "execute_result"
    }
   ],
   "source": [
    "df.index"
   ]
  },
  {
   "cell_type": "code",
   "execution_count": 12,
   "id": "b44332d6",
   "metadata": {},
   "outputs": [
    {
     "data": {
      "text/plain": [
       "array([['Anaconda', '4.5', '15'],\n",
       "       ['Sanca', '5', '20'],\n",
       "       ['Boa', '5.5', '27'],\n",
       "       ['Kobra', '4', '14'],\n",
       "       ['Beludak', '7', '40'],\n",
       "       ['Tambang', '8', '21']], dtype=object)"
      ]
     },
     "execution_count": 12,
     "metadata": {},
     "output_type": "execute_result"
    }
   ],
   "source": [
    "df.values"
   ]
  },
  {
   "cell_type": "code",
   "execution_count": 13,
   "id": "ab6ff8f4",
   "metadata": {},
   "outputs": [
    {
     "data": {
      "text/plain": [
       "Index(['Nama', 'Panjang', 'Bobot (Kg)'], dtype='object')"
      ]
     },
     "execution_count": 13,
     "metadata": {},
     "output_type": "execute_result"
    }
   ],
   "source": [
    "df.columns"
   ]
  },
  {
   "cell_type": "code",
   "execution_count": 14,
   "id": "6f90c611",
   "metadata": {},
   "outputs": [
    {
     "data": {
      "text/plain": [
       "0    Anaconda\n",
       "1       Sanca\n",
       "2         Boa\n",
       "3       Kobra\n",
       "4     Beludak\n",
       "5     Tambang\n",
       "Name: Nama, dtype: object"
      ]
     },
     "execution_count": 14,
     "metadata": {},
     "output_type": "execute_result"
    }
   ],
   "source": [
    "df['Nama']"
   ]
  },
  {
   "cell_type": "code",
   "execution_count": 15,
   "id": "b25f6947",
   "metadata": {},
   "outputs": [
    {
     "data": {
      "text/plain": [
       "0    15\n",
       "1    20\n",
       "2    27\n",
       "3    14\n",
       "4    40\n",
       "5    21\n",
       "Name: Bobot (Kg), dtype: object"
      ]
     },
     "execution_count": 15,
     "metadata": {},
     "output_type": "execute_result"
    }
   ],
   "source": [
    "df['Bobot (Kg)']"
   ]
  },
  {
   "cell_type": "code",
   "execution_count": 16,
   "id": "455850ba",
   "metadata": {},
   "outputs": [
    {
     "data": {
      "text/plain": [
       "0    4.5\n",
       "1      5\n",
       "2    5.5\n",
       "3      4\n",
       "4      7\n",
       "5      8\n",
       "Name: Panjang, dtype: object"
      ]
     },
     "execution_count": 16,
     "metadata": {},
     "output_type": "execute_result"
    }
   ],
   "source": [
    "df['Panjang']"
   ]
  },
  {
   "cell_type": "code",
   "execution_count": 17,
   "id": "e9a2d556",
   "metadata": {},
   "outputs": [
    {
     "data": {
      "text/plain": [
       "'Anaconda'"
      ]
     },
     "execution_count": 17,
     "metadata": {},
     "output_type": "execute_result"
    }
   ],
   "source": [
    "df['Nama'].loc[0]"
   ]
  },
  {
   "cell_type": "code",
   "execution_count": 18,
   "id": "01a5e5d4",
   "metadata": {},
   "outputs": [
    {
     "data": {
      "text/plain": [
       "'Tambang'"
      ]
     },
     "execution_count": 18,
     "metadata": {},
     "output_type": "execute_result"
    }
   ],
   "source": [
    "df['Nama'].iloc[-1]"
   ]
  },
  {
   "cell_type": "code",
   "execution_count": 19,
   "id": "662ba113",
   "metadata": {},
   "outputs": [],
   "source": [
    "df.at[0, \"Nama\"]= \"Laba-Laba\""
   ]
  },
  {
   "cell_type": "code",
   "execution_count": 20,
   "id": "47c6de56",
   "metadata": {},
   "outputs": [
    {
     "data": {
      "text/html": [
       "<div>\n",
       "<style scoped>\n",
       "    .dataframe tbody tr th:only-of-type {\n",
       "        vertical-align: middle;\n",
       "    }\n",
       "\n",
       "    .dataframe tbody tr th {\n",
       "        vertical-align: top;\n",
       "    }\n",
       "\n",
       "    .dataframe thead th {\n",
       "        text-align: right;\n",
       "    }\n",
       "</style>\n",
       "<table border=\"1\" class=\"dataframe\">\n",
       "  <thead>\n",
       "    <tr style=\"text-align: right;\">\n",
       "      <th></th>\n",
       "      <th>Nama</th>\n",
       "      <th>Panjang</th>\n",
       "      <th>Bobot (Kg)</th>\n",
       "    </tr>\n",
       "  </thead>\n",
       "  <tbody>\n",
       "    <tr>\n",
       "      <th>0</th>\n",
       "      <td>Laba-Laba</td>\n",
       "      <td>4.5</td>\n",
       "      <td>15</td>\n",
       "    </tr>\n",
       "    <tr>\n",
       "      <th>1</th>\n",
       "      <td>Sanca</td>\n",
       "      <td>5</td>\n",
       "      <td>20</td>\n",
       "    </tr>\n",
       "    <tr>\n",
       "      <th>2</th>\n",
       "      <td>Boa</td>\n",
       "      <td>5.5</td>\n",
       "      <td>27</td>\n",
       "    </tr>\n",
       "    <tr>\n",
       "      <th>3</th>\n",
       "      <td>Kobra</td>\n",
       "      <td>4</td>\n",
       "      <td>14</td>\n",
       "    </tr>\n",
       "    <tr>\n",
       "      <th>4</th>\n",
       "      <td>Beludak</td>\n",
       "      <td>7</td>\n",
       "      <td>40</td>\n",
       "    </tr>\n",
       "    <tr>\n",
       "      <th>5</th>\n",
       "      <td>Tambang</td>\n",
       "      <td>8</td>\n",
       "      <td>21</td>\n",
       "    </tr>\n",
       "  </tbody>\n",
       "</table>\n",
       "</div>"
      ],
      "text/plain": [
       "        Nama Panjang Bobot (Kg)\n",
       "0  Laba-Laba     4.5         15\n",
       "1      Sanca       5         20\n",
       "2        Boa     5.5         27\n",
       "3      Kobra       4         14\n",
       "4    Beludak       7         40\n",
       "5    Tambang       8         21"
      ]
     },
     "execution_count": 20,
     "metadata": {},
     "output_type": "execute_result"
    }
   ],
   "source": [
    "df"
   ]
  },
  {
   "cell_type": "code",
   "execution_count": 21,
   "id": "7c98786b",
   "metadata": {},
   "outputs": [],
   "source": [
    "df.at[3, \"Panjang\"]= \"10\""
   ]
  },
  {
   "cell_type": "code",
   "execution_count": 22,
   "id": "6068d109",
   "metadata": {},
   "outputs": [
    {
     "data": {
      "text/html": [
       "<div>\n",
       "<style scoped>\n",
       "    .dataframe tbody tr th:only-of-type {\n",
       "        vertical-align: middle;\n",
       "    }\n",
       "\n",
       "    .dataframe tbody tr th {\n",
       "        vertical-align: top;\n",
       "    }\n",
       "\n",
       "    .dataframe thead th {\n",
       "        text-align: right;\n",
       "    }\n",
       "</style>\n",
       "<table border=\"1\" class=\"dataframe\">\n",
       "  <thead>\n",
       "    <tr style=\"text-align: right;\">\n",
       "      <th></th>\n",
       "      <th>Nama</th>\n",
       "      <th>Panjang</th>\n",
       "      <th>Bobot (Kg)</th>\n",
       "    </tr>\n",
       "  </thead>\n",
       "  <tbody>\n",
       "    <tr>\n",
       "      <th>0</th>\n",
       "      <td>Laba-Laba</td>\n",
       "      <td>4.5</td>\n",
       "      <td>15</td>\n",
       "    </tr>\n",
       "    <tr>\n",
       "      <th>1</th>\n",
       "      <td>Sanca</td>\n",
       "      <td>5</td>\n",
       "      <td>20</td>\n",
       "    </tr>\n",
       "    <tr>\n",
       "      <th>2</th>\n",
       "      <td>Boa</td>\n",
       "      <td>5.5</td>\n",
       "      <td>27</td>\n",
       "    </tr>\n",
       "    <tr>\n",
       "      <th>3</th>\n",
       "      <td>Kobra</td>\n",
       "      <td>10</td>\n",
       "      <td>14</td>\n",
       "    </tr>\n",
       "    <tr>\n",
       "      <th>4</th>\n",
       "      <td>Beludak</td>\n",
       "      <td>7</td>\n",
       "      <td>40</td>\n",
       "    </tr>\n",
       "    <tr>\n",
       "      <th>5</th>\n",
       "      <td>Tambang</td>\n",
       "      <td>8</td>\n",
       "      <td>21</td>\n",
       "    </tr>\n",
       "  </tbody>\n",
       "</table>\n",
       "</div>"
      ],
      "text/plain": [
       "        Nama Panjang Bobot (Kg)\n",
       "0  Laba-Laba     4.5         15\n",
       "1      Sanca       5         20\n",
       "2        Boa     5.5         27\n",
       "3      Kobra      10         14\n",
       "4    Beludak       7         40\n",
       "5    Tambang       8         21"
      ]
     },
     "execution_count": 22,
     "metadata": {},
     "output_type": "execute_result"
    }
   ],
   "source": [
    "df"
   ]
  },
  {
   "cell_type": "code",
   "execution_count": 23,
   "id": "7ac66044",
   "metadata": {},
   "outputs": [],
   "source": [
    "df[\"Status Bahaya\"]=[\"5\",\"4\",\"3\",\"2\",\"5\",\"1\"]"
   ]
  },
  {
   "cell_type": "code",
   "execution_count": 24,
   "id": "57f9d316",
   "metadata": {},
   "outputs": [
    {
     "data": {
      "text/html": [
       "<div>\n",
       "<style scoped>\n",
       "    .dataframe tbody tr th:only-of-type {\n",
       "        vertical-align: middle;\n",
       "    }\n",
       "\n",
       "    .dataframe tbody tr th {\n",
       "        vertical-align: top;\n",
       "    }\n",
       "\n",
       "    .dataframe thead th {\n",
       "        text-align: right;\n",
       "    }\n",
       "</style>\n",
       "<table border=\"1\" class=\"dataframe\">\n",
       "  <thead>\n",
       "    <tr style=\"text-align: right;\">\n",
       "      <th></th>\n",
       "      <th>Nama</th>\n",
       "      <th>Panjang</th>\n",
       "      <th>Bobot (Kg)</th>\n",
       "      <th>Status Bahaya</th>\n",
       "    </tr>\n",
       "  </thead>\n",
       "  <tbody>\n",
       "    <tr>\n",
       "      <th>0</th>\n",
       "      <td>Laba-Laba</td>\n",
       "      <td>4.5</td>\n",
       "      <td>15</td>\n",
       "      <td>5</td>\n",
       "    </tr>\n",
       "    <tr>\n",
       "      <th>1</th>\n",
       "      <td>Sanca</td>\n",
       "      <td>5</td>\n",
       "      <td>20</td>\n",
       "      <td>4</td>\n",
       "    </tr>\n",
       "    <tr>\n",
       "      <th>2</th>\n",
       "      <td>Boa</td>\n",
       "      <td>5.5</td>\n",
       "      <td>27</td>\n",
       "      <td>3</td>\n",
       "    </tr>\n",
       "    <tr>\n",
       "      <th>3</th>\n",
       "      <td>Kobra</td>\n",
       "      <td>10</td>\n",
       "      <td>14</td>\n",
       "      <td>2</td>\n",
       "    </tr>\n",
       "    <tr>\n",
       "      <th>4</th>\n",
       "      <td>Beludak</td>\n",
       "      <td>7</td>\n",
       "      <td>40</td>\n",
       "      <td>5</td>\n",
       "    </tr>\n",
       "    <tr>\n",
       "      <th>5</th>\n",
       "      <td>Tambang</td>\n",
       "      <td>8</td>\n",
       "      <td>21</td>\n",
       "      <td>1</td>\n",
       "    </tr>\n",
       "  </tbody>\n",
       "</table>\n",
       "</div>"
      ],
      "text/plain": [
       "        Nama Panjang Bobot (Kg) Status Bahaya\n",
       "0  Laba-Laba     4.5         15             5\n",
       "1      Sanca       5         20             4\n",
       "2        Boa     5.5         27             3\n",
       "3      Kobra      10         14             2\n",
       "4    Beludak       7         40             5\n",
       "5    Tambang       8         21             1"
      ]
     },
     "execution_count": 24,
     "metadata": {},
     "output_type": "execute_result"
    }
   ],
   "source": [
    "df"
   ]
  },
  {
   "cell_type": "code",
   "execution_count": 25,
   "id": "8ad94618",
   "metadata": {},
   "outputs": [
    {
     "data": {
      "text/plain": [
       "Index(['Nama', 'Panjang', 'Bobot (Kg)', 'Status Bahaya'], dtype='object')"
      ]
     },
     "execution_count": 25,
     "metadata": {},
     "output_type": "execute_result"
    }
   ],
   "source": [
    "df.columns"
   ]
  },
  {
   "cell_type": "code",
   "execution_count": 26,
   "id": "2ff5cfa9",
   "metadata": {},
   "outputs": [],
   "source": [
    "var1= {\"Nama\":\"Kawat\",\n",
    "      \"Panjang\":10,\n",
    "      \"Bobot (Kg)\":20,\n",
    "      \"Status Bahaya\":5}"
   ]
  },
  {
   "cell_type": "code",
   "execution_count": 27,
   "id": "52d61615",
   "metadata": {},
   "outputs": [
    {
     "data": {
      "text/plain": [
       "dict"
      ]
     },
     "execution_count": 27,
     "metadata": {},
     "output_type": "execute_result"
    }
   ],
   "source": [
    "type(var1)"
   ]
  },
  {
   "cell_type": "code",
   "execution_count": 28,
   "id": "a92fcff8",
   "metadata": {},
   "outputs": [
    {
     "name": "stderr",
     "output_type": "stream",
     "text": [
      "C:\\Users\\user\\AppData\\Local\\Temp\\ipykernel_1884\\1527821462.py:1: FutureWarning: The frame.append method is deprecated and will be removed from pandas in a future version. Use pandas.concat instead.\n",
      "  df=df.append(var1, ignore_index=True)\n"
     ]
    }
   ],
   "source": [
    "df=df.append(var1, ignore_index=True)"
   ]
  },
  {
   "cell_type": "code",
   "execution_count": 29,
   "id": "015fd18e",
   "metadata": {},
   "outputs": [
    {
     "data": {
      "text/html": [
       "<div>\n",
       "<style scoped>\n",
       "    .dataframe tbody tr th:only-of-type {\n",
       "        vertical-align: middle;\n",
       "    }\n",
       "\n",
       "    .dataframe tbody tr th {\n",
       "        vertical-align: top;\n",
       "    }\n",
       "\n",
       "    .dataframe thead th {\n",
       "        text-align: right;\n",
       "    }\n",
       "</style>\n",
       "<table border=\"1\" class=\"dataframe\">\n",
       "  <thead>\n",
       "    <tr style=\"text-align: right;\">\n",
       "      <th></th>\n",
       "      <th>Nama</th>\n",
       "      <th>Panjang</th>\n",
       "      <th>Bobot (Kg)</th>\n",
       "      <th>Status Bahaya</th>\n",
       "    </tr>\n",
       "  </thead>\n",
       "  <tbody>\n",
       "    <tr>\n",
       "      <th>0</th>\n",
       "      <td>Laba-Laba</td>\n",
       "      <td>4.5</td>\n",
       "      <td>15</td>\n",
       "      <td>5</td>\n",
       "    </tr>\n",
       "    <tr>\n",
       "      <th>1</th>\n",
       "      <td>Sanca</td>\n",
       "      <td>5</td>\n",
       "      <td>20</td>\n",
       "      <td>4</td>\n",
       "    </tr>\n",
       "    <tr>\n",
       "      <th>2</th>\n",
       "      <td>Boa</td>\n",
       "      <td>5.5</td>\n",
       "      <td>27</td>\n",
       "      <td>3</td>\n",
       "    </tr>\n",
       "    <tr>\n",
       "      <th>3</th>\n",
       "      <td>Kobra</td>\n",
       "      <td>10</td>\n",
       "      <td>14</td>\n",
       "      <td>2</td>\n",
       "    </tr>\n",
       "    <tr>\n",
       "      <th>4</th>\n",
       "      <td>Beludak</td>\n",
       "      <td>7</td>\n",
       "      <td>40</td>\n",
       "      <td>5</td>\n",
       "    </tr>\n",
       "    <tr>\n",
       "      <th>5</th>\n",
       "      <td>Tambang</td>\n",
       "      <td>8</td>\n",
       "      <td>21</td>\n",
       "      <td>1</td>\n",
       "    </tr>\n",
       "    <tr>\n",
       "      <th>6</th>\n",
       "      <td>Kawat</td>\n",
       "      <td>10</td>\n",
       "      <td>20</td>\n",
       "      <td>5</td>\n",
       "    </tr>\n",
       "  </tbody>\n",
       "</table>\n",
       "</div>"
      ],
      "text/plain": [
       "        Nama Panjang Bobot (Kg) Status Bahaya\n",
       "0  Laba-Laba     4.5         15             5\n",
       "1      Sanca       5         20             4\n",
       "2        Boa     5.5         27             3\n",
       "3      Kobra      10         14             2\n",
       "4    Beludak       7         40             5\n",
       "5    Tambang       8         21             1\n",
       "6      Kawat      10         20             5"
      ]
     },
     "execution_count": 29,
     "metadata": {},
     "output_type": "execute_result"
    }
   ],
   "source": [
    "df"
   ]
  },
  {
   "cell_type": "code",
   "execution_count": 30,
   "id": "959bdcca",
   "metadata": {},
   "outputs": [],
   "source": [
    "var2=[\"Siput\",3,5,1]\n",
    "df.loc[len(df)]=var2"
   ]
  },
  {
   "cell_type": "code",
   "execution_count": 31,
   "id": "49b58cb9",
   "metadata": {},
   "outputs": [
    {
     "data": {
      "text/plain": [
       "8"
      ]
     },
     "execution_count": 31,
     "metadata": {},
     "output_type": "execute_result"
    }
   ],
   "source": [
    "len(df)"
   ]
  },
  {
   "cell_type": "code",
   "execution_count": 32,
   "id": "90ccab14",
   "metadata": {},
   "outputs": [
    {
     "data": {
      "text/html": [
       "<div>\n",
       "<style scoped>\n",
       "    .dataframe tbody tr th:only-of-type {\n",
       "        vertical-align: middle;\n",
       "    }\n",
       "\n",
       "    .dataframe tbody tr th {\n",
       "        vertical-align: top;\n",
       "    }\n",
       "\n",
       "    .dataframe thead th {\n",
       "        text-align: right;\n",
       "    }\n",
       "</style>\n",
       "<table border=\"1\" class=\"dataframe\">\n",
       "  <thead>\n",
       "    <tr style=\"text-align: right;\">\n",
       "      <th></th>\n",
       "      <th>Nama</th>\n",
       "      <th>Panjang</th>\n",
       "      <th>Bobot (Kg)</th>\n",
       "      <th>Status Bahaya</th>\n",
       "    </tr>\n",
       "  </thead>\n",
       "  <tbody>\n",
       "    <tr>\n",
       "      <th>0</th>\n",
       "      <td>Laba-Laba</td>\n",
       "      <td>4.5</td>\n",
       "      <td>15</td>\n",
       "      <td>5</td>\n",
       "    </tr>\n",
       "    <tr>\n",
       "      <th>1</th>\n",
       "      <td>Sanca</td>\n",
       "      <td>5</td>\n",
       "      <td>20</td>\n",
       "      <td>4</td>\n",
       "    </tr>\n",
       "    <tr>\n",
       "      <th>2</th>\n",
       "      <td>Boa</td>\n",
       "      <td>5.5</td>\n",
       "      <td>27</td>\n",
       "      <td>3</td>\n",
       "    </tr>\n",
       "    <tr>\n",
       "      <th>3</th>\n",
       "      <td>Kobra</td>\n",
       "      <td>10</td>\n",
       "      <td>14</td>\n",
       "      <td>2</td>\n",
       "    </tr>\n",
       "    <tr>\n",
       "      <th>4</th>\n",
       "      <td>Beludak</td>\n",
       "      <td>7</td>\n",
       "      <td>40</td>\n",
       "      <td>5</td>\n",
       "    </tr>\n",
       "    <tr>\n",
       "      <th>5</th>\n",
       "      <td>Tambang</td>\n",
       "      <td>8</td>\n",
       "      <td>21</td>\n",
       "      <td>1</td>\n",
       "    </tr>\n",
       "    <tr>\n",
       "      <th>6</th>\n",
       "      <td>Kawat</td>\n",
       "      <td>10</td>\n",
       "      <td>20</td>\n",
       "      <td>5</td>\n",
       "    </tr>\n",
       "    <tr>\n",
       "      <th>7</th>\n",
       "      <td>Siput</td>\n",
       "      <td>3</td>\n",
       "      <td>5</td>\n",
       "      <td>1</td>\n",
       "    </tr>\n",
       "  </tbody>\n",
       "</table>\n",
       "</div>"
      ],
      "text/plain": [
       "        Nama Panjang Bobot (Kg) Status Bahaya\n",
       "0  Laba-Laba     4.5         15             5\n",
       "1      Sanca       5         20             4\n",
       "2        Boa     5.5         27             3\n",
       "3      Kobra      10         14             2\n",
       "4    Beludak       7         40             5\n",
       "5    Tambang       8         21             1\n",
       "6      Kawat      10         20             5\n",
       "7      Siput       3          5             1"
      ]
     },
     "execution_count": 32,
     "metadata": {},
     "output_type": "execute_result"
    }
   ],
   "source": [
    "df"
   ]
  },
  {
   "cell_type": "code",
   "execution_count": 33,
   "id": "18352251",
   "metadata": {},
   "outputs": [],
   "source": [
    "var3=[\"Ayam\",3,10,0]"
   ]
  },
  {
   "cell_type": "code",
   "execution_count": 34,
   "id": "012457fb",
   "metadata": {},
   "outputs": [
    {
     "data": {
      "text/html": [
       "<div>\n",
       "<style scoped>\n",
       "    .dataframe tbody tr th:only-of-type {\n",
       "        vertical-align: middle;\n",
       "    }\n",
       "\n",
       "    .dataframe tbody tr th {\n",
       "        vertical-align: top;\n",
       "    }\n",
       "\n",
       "    .dataframe thead th {\n",
       "        text-align: right;\n",
       "    }\n",
       "</style>\n",
       "<table border=\"1\" class=\"dataframe\">\n",
       "  <thead>\n",
       "    <tr style=\"text-align: right;\">\n",
       "      <th></th>\n",
       "      <th>Nama</th>\n",
       "      <th>Panjang</th>\n",
       "      <th>Bobot (Kg)</th>\n",
       "      <th>Status Bahaya</th>\n",
       "    </tr>\n",
       "  </thead>\n",
       "  <tbody>\n",
       "    <tr>\n",
       "      <th>0</th>\n",
       "      <td>Laba-Laba</td>\n",
       "      <td>4.5</td>\n",
       "      <td>15</td>\n",
       "      <td>5</td>\n",
       "    </tr>\n",
       "    <tr>\n",
       "      <th>1</th>\n",
       "      <td>Sanca</td>\n",
       "      <td>5</td>\n",
       "      <td>20</td>\n",
       "      <td>4</td>\n",
       "    </tr>\n",
       "    <tr>\n",
       "      <th>2</th>\n",
       "      <td>Boa</td>\n",
       "      <td>5.5</td>\n",
       "      <td>27</td>\n",
       "      <td>3</td>\n",
       "    </tr>\n",
       "    <tr>\n",
       "      <th>3</th>\n",
       "      <td>Kobra</td>\n",
       "      <td>10</td>\n",
       "      <td>14</td>\n",
       "      <td>2</td>\n",
       "    </tr>\n",
       "    <tr>\n",
       "      <th>4</th>\n",
       "      <td>Beludak</td>\n",
       "      <td>7</td>\n",
       "      <td>40</td>\n",
       "      <td>5</td>\n",
       "    </tr>\n",
       "    <tr>\n",
       "      <th>5</th>\n",
       "      <td>Tambang</td>\n",
       "      <td>8</td>\n",
       "      <td>21</td>\n",
       "      <td>1</td>\n",
       "    </tr>\n",
       "    <tr>\n",
       "      <th>6</th>\n",
       "      <td>Kawat</td>\n",
       "      <td>10</td>\n",
       "      <td>20</td>\n",
       "      <td>5</td>\n",
       "    </tr>\n",
       "    <tr>\n",
       "      <th>7</th>\n",
       "      <td>Siput</td>\n",
       "      <td>3</td>\n",
       "      <td>5</td>\n",
       "      <td>1</td>\n",
       "    </tr>\n",
       "  </tbody>\n",
       "</table>\n",
       "</div>"
      ],
      "text/plain": [
       "        Nama Panjang Bobot (Kg) Status Bahaya\n",
       "0  Laba-Laba     4.5         15             5\n",
       "1      Sanca       5         20             4\n",
       "2        Boa     5.5         27             3\n",
       "3      Kobra      10         14             2\n",
       "4    Beludak       7         40             5\n",
       "5    Tambang       8         21             1\n",
       "6      Kawat      10         20             5\n",
       "7      Siput       3          5             1"
      ]
     },
     "execution_count": 34,
     "metadata": {},
     "output_type": "execute_result"
    }
   ],
   "source": [
    "df"
   ]
  },
  {
   "cell_type": "code",
   "execution_count": 35,
   "id": "73fc3623",
   "metadata": {},
   "outputs": [],
   "source": [
    "df.loc[len(df)]=var3"
   ]
  },
  {
   "cell_type": "code",
   "execution_count": 36,
   "id": "fb0e4bdc",
   "metadata": {},
   "outputs": [
    {
     "data": {
      "text/html": [
       "<div>\n",
       "<style scoped>\n",
       "    .dataframe tbody tr th:only-of-type {\n",
       "        vertical-align: middle;\n",
       "    }\n",
       "\n",
       "    .dataframe tbody tr th {\n",
       "        vertical-align: top;\n",
       "    }\n",
       "\n",
       "    .dataframe thead th {\n",
       "        text-align: right;\n",
       "    }\n",
       "</style>\n",
       "<table border=\"1\" class=\"dataframe\">\n",
       "  <thead>\n",
       "    <tr style=\"text-align: right;\">\n",
       "      <th></th>\n",
       "      <th>Nama</th>\n",
       "      <th>Panjang</th>\n",
       "      <th>Bobot (Kg)</th>\n",
       "      <th>Status Bahaya</th>\n",
       "    </tr>\n",
       "  </thead>\n",
       "  <tbody>\n",
       "    <tr>\n",
       "      <th>0</th>\n",
       "      <td>Laba-Laba</td>\n",
       "      <td>4.5</td>\n",
       "      <td>15</td>\n",
       "      <td>5</td>\n",
       "    </tr>\n",
       "    <tr>\n",
       "      <th>1</th>\n",
       "      <td>Sanca</td>\n",
       "      <td>5</td>\n",
       "      <td>20</td>\n",
       "      <td>4</td>\n",
       "    </tr>\n",
       "    <tr>\n",
       "      <th>2</th>\n",
       "      <td>Boa</td>\n",
       "      <td>5.5</td>\n",
       "      <td>27</td>\n",
       "      <td>3</td>\n",
       "    </tr>\n",
       "    <tr>\n",
       "      <th>3</th>\n",
       "      <td>Kobra</td>\n",
       "      <td>10</td>\n",
       "      <td>14</td>\n",
       "      <td>2</td>\n",
       "    </tr>\n",
       "    <tr>\n",
       "      <th>4</th>\n",
       "      <td>Beludak</td>\n",
       "      <td>7</td>\n",
       "      <td>40</td>\n",
       "      <td>5</td>\n",
       "    </tr>\n",
       "    <tr>\n",
       "      <th>5</th>\n",
       "      <td>Tambang</td>\n",
       "      <td>8</td>\n",
       "      <td>21</td>\n",
       "      <td>1</td>\n",
       "    </tr>\n",
       "    <tr>\n",
       "      <th>6</th>\n",
       "      <td>Kawat</td>\n",
       "      <td>10</td>\n",
       "      <td>20</td>\n",
       "      <td>5</td>\n",
       "    </tr>\n",
       "    <tr>\n",
       "      <th>7</th>\n",
       "      <td>Siput</td>\n",
       "      <td>3</td>\n",
       "      <td>5</td>\n",
       "      <td>1</td>\n",
       "    </tr>\n",
       "    <tr>\n",
       "      <th>8</th>\n",
       "      <td>Ayam</td>\n",
       "      <td>3</td>\n",
       "      <td>10</td>\n",
       "      <td>0</td>\n",
       "    </tr>\n",
       "  </tbody>\n",
       "</table>\n",
       "</div>"
      ],
      "text/plain": [
       "        Nama Panjang Bobot (Kg) Status Bahaya\n",
       "0  Laba-Laba     4.5         15             5\n",
       "1      Sanca       5         20             4\n",
       "2        Boa     5.5         27             3\n",
       "3      Kobra      10         14             2\n",
       "4    Beludak       7         40             5\n",
       "5    Tambang       8         21             1\n",
       "6      Kawat      10         20             5\n",
       "7      Siput       3          5             1\n",
       "8       Ayam       3         10             0"
      ]
     },
     "execution_count": 36,
     "metadata": {},
     "output_type": "execute_result"
    }
   ],
   "source": [
    "df"
   ]
  },
  {
   "cell_type": "code",
   "execution_count": 38,
   "id": "c5cc1d83",
   "metadata": {},
   "outputs": [],
   "source": [
    "del df[\"Panjang\"]"
   ]
  },
  {
   "cell_type": "code",
   "execution_count": 39,
   "id": "95452ded",
   "metadata": {},
   "outputs": [
    {
     "data": {
      "text/html": [
       "<div>\n",
       "<style scoped>\n",
       "    .dataframe tbody tr th:only-of-type {\n",
       "        vertical-align: middle;\n",
       "    }\n",
       "\n",
       "    .dataframe tbody tr th {\n",
       "        vertical-align: top;\n",
       "    }\n",
       "\n",
       "    .dataframe thead th {\n",
       "        text-align: right;\n",
       "    }\n",
       "</style>\n",
       "<table border=\"1\" class=\"dataframe\">\n",
       "  <thead>\n",
       "    <tr style=\"text-align: right;\">\n",
       "      <th></th>\n",
       "      <th>Nama</th>\n",
       "      <th>Bobot (Kg)</th>\n",
       "      <th>Status Bahaya</th>\n",
       "    </tr>\n",
       "  </thead>\n",
       "  <tbody>\n",
       "    <tr>\n",
       "      <th>0</th>\n",
       "      <td>Laba-Laba</td>\n",
       "      <td>15</td>\n",
       "      <td>5</td>\n",
       "    </tr>\n",
       "    <tr>\n",
       "      <th>1</th>\n",
       "      <td>Sanca</td>\n",
       "      <td>20</td>\n",
       "      <td>4</td>\n",
       "    </tr>\n",
       "    <tr>\n",
       "      <th>2</th>\n",
       "      <td>Boa</td>\n",
       "      <td>27</td>\n",
       "      <td>3</td>\n",
       "    </tr>\n",
       "    <tr>\n",
       "      <th>3</th>\n",
       "      <td>Kobra</td>\n",
       "      <td>14</td>\n",
       "      <td>2</td>\n",
       "    </tr>\n",
       "    <tr>\n",
       "      <th>4</th>\n",
       "      <td>Beludak</td>\n",
       "      <td>40</td>\n",
       "      <td>5</td>\n",
       "    </tr>\n",
       "    <tr>\n",
       "      <th>5</th>\n",
       "      <td>Tambang</td>\n",
       "      <td>21</td>\n",
       "      <td>1</td>\n",
       "    </tr>\n",
       "    <tr>\n",
       "      <th>6</th>\n",
       "      <td>Kawat</td>\n",
       "      <td>20</td>\n",
       "      <td>5</td>\n",
       "    </tr>\n",
       "    <tr>\n",
       "      <th>7</th>\n",
       "      <td>Siput</td>\n",
       "      <td>5</td>\n",
       "      <td>1</td>\n",
       "    </tr>\n",
       "    <tr>\n",
       "      <th>8</th>\n",
       "      <td>Ayam</td>\n",
       "      <td>10</td>\n",
       "      <td>0</td>\n",
       "    </tr>\n",
       "  </tbody>\n",
       "</table>\n",
       "</div>"
      ],
      "text/plain": [
       "        Nama Bobot (Kg) Status Bahaya\n",
       "0  Laba-Laba         15             5\n",
       "1      Sanca         20             4\n",
       "2        Boa         27             3\n",
       "3      Kobra         14             2\n",
       "4    Beludak         40             5\n",
       "5    Tambang         21             1\n",
       "6      Kawat         20             5\n",
       "7      Siput          5             1\n",
       "8       Ayam         10             0"
      ]
     },
     "execution_count": 39,
     "metadata": {},
     "output_type": "execute_result"
    }
   ],
   "source": [
    "df"
   ]
  },
  {
   "cell_type": "code",
   "execution_count": 40,
   "id": "fa0923f4",
   "metadata": {},
   "outputs": [],
   "source": [
    "df = df.drop(index=0)"
   ]
  },
  {
   "cell_type": "code",
   "execution_count": 41,
   "id": "2d65b2c9",
   "metadata": {},
   "outputs": [
    {
     "data": {
      "text/html": [
       "<div>\n",
       "<style scoped>\n",
       "    .dataframe tbody tr th:only-of-type {\n",
       "        vertical-align: middle;\n",
       "    }\n",
       "\n",
       "    .dataframe tbody tr th {\n",
       "        vertical-align: top;\n",
       "    }\n",
       "\n",
       "    .dataframe thead th {\n",
       "        text-align: right;\n",
       "    }\n",
       "</style>\n",
       "<table border=\"1\" class=\"dataframe\">\n",
       "  <thead>\n",
       "    <tr style=\"text-align: right;\">\n",
       "      <th></th>\n",
       "      <th>Nama</th>\n",
       "      <th>Bobot (Kg)</th>\n",
       "      <th>Status Bahaya</th>\n",
       "    </tr>\n",
       "  </thead>\n",
       "  <tbody>\n",
       "    <tr>\n",
       "      <th>1</th>\n",
       "      <td>Sanca</td>\n",
       "      <td>20</td>\n",
       "      <td>4</td>\n",
       "    </tr>\n",
       "    <tr>\n",
       "      <th>2</th>\n",
       "      <td>Boa</td>\n",
       "      <td>27</td>\n",
       "      <td>3</td>\n",
       "    </tr>\n",
       "    <tr>\n",
       "      <th>3</th>\n",
       "      <td>Kobra</td>\n",
       "      <td>14</td>\n",
       "      <td>2</td>\n",
       "    </tr>\n",
       "    <tr>\n",
       "      <th>4</th>\n",
       "      <td>Beludak</td>\n",
       "      <td>40</td>\n",
       "      <td>5</td>\n",
       "    </tr>\n",
       "    <tr>\n",
       "      <th>5</th>\n",
       "      <td>Tambang</td>\n",
       "      <td>21</td>\n",
       "      <td>1</td>\n",
       "    </tr>\n",
       "    <tr>\n",
       "      <th>6</th>\n",
       "      <td>Kawat</td>\n",
       "      <td>20</td>\n",
       "      <td>5</td>\n",
       "    </tr>\n",
       "    <tr>\n",
       "      <th>7</th>\n",
       "      <td>Siput</td>\n",
       "      <td>5</td>\n",
       "      <td>1</td>\n",
       "    </tr>\n",
       "    <tr>\n",
       "      <th>8</th>\n",
       "      <td>Ayam</td>\n",
       "      <td>10</td>\n",
       "      <td>0</td>\n",
       "    </tr>\n",
       "  </tbody>\n",
       "</table>\n",
       "</div>"
      ],
      "text/plain": [
       "      Nama Bobot (Kg) Status Bahaya\n",
       "1    Sanca         20             4\n",
       "2      Boa         27             3\n",
       "3    Kobra         14             2\n",
       "4  Beludak         40             5\n",
       "5  Tambang         21             1\n",
       "6    Kawat         20             5\n",
       "7    Siput          5             1\n",
       "8     Ayam         10             0"
      ]
     },
     "execution_count": 41,
     "metadata": {},
     "output_type": "execute_result"
    }
   ],
   "source": [
    "df"
   ]
  },
  {
   "cell_type": "markdown",
   "id": "b2890768",
   "metadata": {},
   "source": [
    "### Project Perpustakaan 5"
   ]
  },
  {
   "cell_type": "code",
   "execution_count": 1,
   "id": "dce1e8b2",
   "metadata": {},
   "outputs": [],
   "source": [
    "#Inisialisasi\n",
    "Nama_buku_1=\"Fisika\"\n",
    "Nama_buku_2=\"Kimia\"\n",
    "Nama_buku_3=\"Biologi\"\n",
    "durasi=3"
   ]
  },
  {
   "cell_type": "code",
   "execution_count": 2,
   "id": "7dac3844",
   "metadata": {},
   "outputs": [
    {
     "data": {
      "text/plain": [
       "(str, str, str, int)"
      ]
     },
     "execution_count": 2,
     "metadata": {},
     "output_type": "execute_result"
    }
   ],
   "source": [
    "type(Nama_buku_1),type(Nama_buku_2),type(Nama_buku_3), type(durasi)"
   ]
  },
  {
   "cell_type": "code",
   "execution_count": 3,
   "id": "6dad2822",
   "metadata": {},
   "outputs": [],
   "source": [
    "kode_buku_1=\"PS_001\"\n",
    "kode_buku_2=\"PS_002\"\n",
    "kode_buku_3=\"PS_003\""
   ]
  },
  {
   "cell_type": "code",
   "execution_count": 4,
   "id": "80c166d3",
   "metadata": {},
   "outputs": [],
   "source": [
    "N_buku_1=N_buku_2=N_buku_3=10"
   ]
  },
  {
   "cell_type": "code",
   "execution_count": 5,
   "id": "3d2a2a9b",
   "metadata": {},
   "outputs": [
    {
     "data": {
      "text/plain": [
       "int"
      ]
     },
     "execution_count": 5,
     "metadata": {},
     "output_type": "execute_result"
    }
   ],
   "source": [
    "type(N_buku_1)"
   ]
  },
  {
   "cell_type": "code",
   "execution_count": 6,
   "id": "4348c5d5",
   "metadata": {},
   "outputs": [],
   "source": [
    "Nama_buku=(Nama_buku_1,Nama_buku_2,Nama_buku_3)\n",
    "Kode_buku=[kode_buku_1,kode_buku_2,kode_buku_3]\n",
    "N_buku=[N_buku_1, N_buku_2, N_buku_3]"
   ]
  },
  {
   "cell_type": "code",
   "execution_count": 7,
   "id": "933a483c",
   "metadata": {},
   "outputs": [
    {
     "data": {
      "text/plain": [
       "(tuple, list, list)"
      ]
     },
     "execution_count": 7,
     "metadata": {},
     "output_type": "execute_result"
    }
   ],
   "source": [
    "type(Nama_buku), type(Kode_buku), type(N_buku)"
   ]
  },
  {
   "cell_type": "code",
   "execution_count": 8,
   "id": "884c1388",
   "metadata": {},
   "outputs": [],
   "source": [
    "pustaka={\"Nama\":Nama_buku,\n",
    "         \"Kode\":Kode_buku,\n",
    "         \"Jumlah\":N_buku}"
   ]
  },
  {
   "cell_type": "code",
   "execution_count": 9,
   "id": "638a4542",
   "metadata": {},
   "outputs": [
    {
     "data": {
      "text/plain": [
       "dict"
      ]
     },
     "execution_count": 9,
     "metadata": {},
     "output_type": "execute_result"
    }
   ],
   "source": [
    "type(pustaka)"
   ]
  },
  {
   "cell_type": "code",
   "execution_count": 10,
   "id": "4185c166",
   "metadata": {},
   "outputs": [
    {
     "data": {
      "text/plain": [
       "{'Nama': ('Fisika', 'Kimia', 'Biologi'),\n",
       " 'Kode': ['PS_001', 'PS_002', 'PS_003'],\n",
       " 'Jumlah': [10, 10, 10]}"
      ]
     },
     "execution_count": 10,
     "metadata": {},
     "output_type": "execute_result"
    }
   ],
   "source": [
    "pustaka"
   ]
  },
  {
   "cell_type": "code",
   "execution_count": 11,
   "id": "ae6dd2e5",
   "metadata": {},
   "outputs": [],
   "source": [
    "Nama_buku=[Nama_buku_1,Nama_buku_2,Nama_buku_3]\n",
    "pustaka={\"Nama\":Nama_buku,\n",
    "         \"Kode\":Kode_buku,\n",
    "         \"Jumlah\":N_buku}\n"
   ]
  },
  {
   "cell_type": "code",
   "execution_count": 12,
   "id": "cf1164a7",
   "metadata": {},
   "outputs": [
    {
     "data": {
      "text/plain": [
       "{'Nama': ['Fisika', 'Kimia', 'Biologi'],\n",
       " 'Kode': ['PS_001', 'PS_002', 'PS_003'],\n",
       " 'Jumlah': [10, 10, 10]}"
      ]
     },
     "execution_count": 12,
     "metadata": {},
     "output_type": "execute_result"
    }
   ],
   "source": [
    "pustaka"
   ]
  },
  {
   "cell_type": "code",
   "execution_count": 13,
   "id": "8cb3b779",
   "metadata": {},
   "outputs": [
    {
     "name": "stdout",
     "output_type": "stream",
     "text": [
      "Buku Seni dengan jumlah 15\n"
     ]
    }
   ],
   "source": [
    "pustaka['Nama'].append('Seni')\n",
    "pustaka['Kode'].append('PS_004')\n",
    "pustaka['Jumlah'].append(15)\n",
    "print(\"Buku {} dengan jumlah {}\".format(pustaka[\"Nama\"][-1],\n",
    "                                        pustaka['Jumlah'][-1]))"
   ]
  },
  {
   "cell_type": "code",
   "execution_count": 14,
   "id": "19e0ade5",
   "metadata": {},
   "outputs": [
    {
     "data": {
      "text/plain": [
       "{'Nama': ['Fisika', 'Kimia', 'Biologi', 'Seni'],\n",
       " 'Kode': ['PS_001', 'PS_002', 'PS_003', 'PS_004'],\n",
       " 'Jumlah': [10, 10, 10, 15]}"
      ]
     },
     "execution_count": 14,
     "metadata": {},
     "output_type": "execute_result"
    }
   ],
   "source": [
    "pustaka"
   ]
  },
  {
   "cell_type": "code",
   "execution_count": null,
   "id": "a40c9243",
   "metadata": {},
   "outputs": [],
   "source": []
  },
  {
   "cell_type": "code",
   "execution_count": 15,
   "id": "e4d1fca9",
   "metadata": {},
   "outputs": [
    {
     "name": "stdout",
     "output_type": "stream",
     "text": [
      "Buku yang tersedia:\n",
      "Nama Buku\t Kode Buku\t Jumlah\n",
      "Buku Fisika\t kode PS_001\t 10\n",
      "Buku Kimia\t kode PS_002\t 10\n",
      "Buku Biologi\t kode PS_003\t 10\n",
      "Buku Seni\t kode PS_004\t 15\n"
     ]
    }
   ],
   "source": [
    "print(\"Buku yang tersedia:\")\n",
    "print(\"Nama Buku\\t Kode Buku\\t Jumlah\")\n",
    "for i in range(len(pustaka['Nama'])):\n",
    "    print(\"Buku {}\\t kode {}\\t {}\".format(\n",
    "        pustaka['Nama'][i],\n",
    "        pustaka['Kode'][i],\n",
    "        pustaka['Jumlah'][i]))"
   ]
  },
  {
   "cell_type": "code",
   "execution_count": 18,
   "id": "c8e8bd99",
   "metadata": {},
   "outputs": [
    {
     "name": "stdout",
     "output_type": "stream",
     "text": [
      "Form Peminjaman\n",
      "Nama Peminjam =ali\n",
      "Kode Buku= PS_002\n",
      "Bisa pinjam\n",
      "Durasi waktu pinjam 3 hari\n"
     ]
    }
   ],
   "source": [
    "print(\"Form Peminjaman\")\n",
    "varNama=str(input(\"Nama Peminjam =\"))\n",
    "varBuku=str(input(\"Kode Buku= \"))\n",
    "for i in range(len(pustaka['Kode'])):\n",
    "    if varBuku==pustaka['Kode'][i] and pustaka['Jumlah'][i]>1:\n",
    "        print(\"Bisa pinjam\".format(varNama))\n",
    "        print(\"Durasi waktu pinjam {} hari\".format(durasi))\n",
    "        pustaka['Jumlah'][i]-=1\n",
    "        break\n",
    "    elif i==len(pustaka['Kode'])-1:\n",
    "        print(\"Tidak bisa dipinjam\")"
   ]
  },
  {
   "cell_type": "code",
   "execution_count": 19,
   "id": "d37e7f53",
   "metadata": {},
   "outputs": [
    {
     "name": "stdout",
     "output_type": "stream",
     "text": [
      "Form Pengembalian\n",
      "Nama Peminjam\t=ali\n",
      "Kode Buku\t=PS_002\n",
      "Jumlah Hari\t=34\n",
      "Terima kasih, ali\n",
      "Denda sebesar Rp.31000\n"
     ]
    }
   ],
   "source": [
    "print(\"Form Pengembalian\")\n",
    "varNama=str(input(\"Nama Peminjam\\t=\"))\n",
    "varBuku=str(input(\"Kode Buku\\t=\"))\n",
    "varHari=int(input(\"Jumlah Hari\\t=\"))\n",
    "for i in range(len(pustaka['Kode'])):\n",
    "    if varBuku==pustaka['Kode'][i]:\n",
    "        if varHari>=durasi:\n",
    "            denda=(varHari-durasi)*1000\n",
    "            print(\"Terima kasih, {}\\nDenda sebesar Rp.{}\".format(varNama,denda))\n",
    "            pustaka['Jumlah'][i]+=1\n",
    "            break\n",
    "        else:\n",
    "            print(\"Terima kasih,{}\".format(varNama))\n",
    "            pustaka['Jumlah'][i]+=1\n",
    "            break\n",
    "    elif i==len(pustaka['Kode'])-1:\n",
    "        print(\"Salah kode\")"
   ]
  },
  {
   "cell_type": "code",
   "execution_count": 20,
   "id": "f724f908",
   "metadata": {},
   "outputs": [
    {
     "data": {
      "text/plain": [
       "{'Nama': ['Fisika', 'Kimia', 'Biologi', 'Seni'],\n",
       " 'Kode': ['PS_001', 'PS_002', 'PS_003', 'PS_004'],\n",
       " 'Jumlah': [10, 8, 10, 15]}"
      ]
     },
     "execution_count": 20,
     "metadata": {},
     "output_type": "execute_result"
    }
   ],
   "source": [
    "pustaka"
   ]
  },
  {
   "cell_type": "code",
   "execution_count": 21,
   "id": "287d9280",
   "metadata": {},
   "outputs": [],
   "source": [
    "def Data_terakhir():\n",
    "    print(\"Buku yang tersedia\")\n",
    "    print(\"Nama Buku\\t Kode Buku\\t Jumlah\")\n",
    "    for i in range(len(pustaka['Nama'])):\n",
    "        print(\"Buku {}\\t kode {}\\t {}\".format(\n",
    "            pustaka['Nama'][i],\n",
    "            pustaka['Kode'][i],\n",
    "            pustaka['Jumlah'][i]))"
   ]
  },
  {
   "cell_type": "code",
   "execution_count": 22,
   "id": "1b87f27a",
   "metadata": {},
   "outputs": [
    {
     "name": "stdout",
     "output_type": "stream",
     "text": [
      "Buku yang tersedia\n",
      "Nama Buku\t Kode Buku\t Jumlah\n",
      "Buku Fisika\t kode PS_001\t 10\n",
      "Buku Kimia\t kode PS_002\t 8\n",
      "Buku Biologi\t kode PS_003\t 10\n",
      "Buku Seni\t kode PS_004\t 15\n"
     ]
    }
   ],
   "source": [
    "Data_terakhir()"
   ]
  },
  {
   "cell_type": "code",
   "execution_count": 23,
   "id": "a6b43945",
   "metadata": {},
   "outputs": [],
   "source": [
    "def peminjaman():\n",
    "    print(\"Form Peminjaman\")\n",
    "    varNama=str(input(\"Nama Peminjam =\"))\n",
    "    varBuku=str(input(\"Kode Buku= \"))\n",
    "    for i in range(len(pustaka['Kode'])):\n",
    "        if varBuku==pustaka['Kode'][i] and pustaka['Jumlah'][i]>1:\n",
    "            print(\"Bisa pinjam\".format(varNama))\n",
    "            print(\"Durasi waktu pinjam {} hari\".format(durasi))\n",
    "            pustaka['Jumlah'][i]-=1\n",
    "            break\n",
    "        elif i==len(pustaka['Kode'])-1:\n",
    "            print(\"Tidak bisa dipinjam\")"
   ]
  },
  {
   "cell_type": "code",
   "execution_count": 24,
   "id": "f383f048",
   "metadata": {},
   "outputs": [
    {
     "name": "stdout",
     "output_type": "stream",
     "text": [
      "Form Peminjaman\n",
      "Nama Peminjam =ali\n",
      "Kode Buku= PS_002\n",
      "Bisa pinjam\n",
      "Durasi waktu pinjam 3 hari\n"
     ]
    }
   ],
   "source": [
    "peminjaman()"
   ]
  },
  {
   "cell_type": "code",
   "execution_count": 25,
   "id": "57f835a9",
   "metadata": {},
   "outputs": [
    {
     "name": "stdout",
     "output_type": "stream",
     "text": [
      "Buku yang tersedia\n",
      "Nama Buku\t Kode Buku\t Jumlah\n",
      "Buku Fisika\t kode PS_001\t 10\n",
      "Buku Kimia\t kode PS_002\t 7\n",
      "Buku Biologi\t kode PS_003\t 10\n",
      "Buku Seni\t kode PS_004\t 15\n"
     ]
    }
   ],
   "source": [
    "Data_terakhir()"
   ]
  },
  {
   "cell_type": "code",
   "execution_count": null,
   "id": "b5194ecf",
   "metadata": {},
   "outputs": [],
   "source": []
  },
  {
   "cell_type": "code",
   "execution_count": 26,
   "id": "c8dd2636",
   "metadata": {},
   "outputs": [],
   "source": [
    "def pengembalian(pustaka=pustaka):\n",
    "    print(\"Form Pengembalian\")\n",
    "    varNama=str(input(\"Nama Peminjam\\t=\"))\n",
    "    varBuku=str(input(\"Kode Buku\\t=\"))\n",
    "    varHari=int(input(\"Jumlah Hari\\t=\"))\n",
    "    for i in range(len(pustaka['Kode'])):\n",
    "        if varBuku==pustaka['Kode'][i]:\n",
    "            if varHari>=durasi:\n",
    "                denda=(varHari-durasi)*1000\n",
    "                print(\"Terima kasih, {}\\nDenda sebesar Rp.{}\".format(varNama,denda))\n",
    "                pustaka['Jumlah'][i]+=1\n",
    "                break\n",
    "            else:\n",
    "                print(\"Terima kasih,{}\".format(varNama,denda))\n",
    "                pustaka['Jumlah'][i]+=1\n",
    "                break\n",
    "        elif i==len(pustaka['Kode'])-1:\n",
    "            print(\"Salah kode\")"
   ]
  },
  {
   "cell_type": "code",
   "execution_count": 27,
   "id": "0a7040a0",
   "metadata": {},
   "outputs": [
    {
     "name": "stdout",
     "output_type": "stream",
     "text": [
      "Form Pengembalian\n",
      "Nama Peminjam\t=ali\n",
      "Kode Buku\t=PS_002\n",
      "Jumlah Hari\t=500\n",
      "Terima kasih, ali\n",
      "Denda sebesar Rp.497000\n"
     ]
    }
   ],
   "source": [
    "pengembalian()"
   ]
  },
  {
   "cell_type": "code",
   "execution_count": 28,
   "id": "0202b69e",
   "metadata": {},
   "outputs": [],
   "source": [
    "def tambah_buku(varBuku,varKode,varJumlah):\n",
    "    for i in range(len(pustaka['Kode'])):\n",
    "        if varKode==pustaka['Kode'][i]:\n",
    "            pustaka['Jumlah'][i]+=varJumlah\n",
    "            print(\"Buku {} dengan Jumlah {}\".format(pustaka[\"Nama\"][i],\n",
    "                                                    pustaka['Jumlah'][i]))\n",
    "            break\n",
    "    else:\n",
    "        pustaka['Nama'].append(varBuku)\n",
    "        pustaka['Kode'].append(varKode)\n",
    "        pustaka['Jumlah'].append(varJumlah)\n",
    "        \n",
    "        print(\"Buku Baru {} dengan Jumlah {}\".format(pustaka[\"Nama\"][-1],\n",
    "                                                     pustaka['Jumlah'][-1]))"
   ]
  },
  {
   "cell_type": "code",
   "execution_count": 29,
   "id": "7b000eff",
   "metadata": {},
   "outputs": [
    {
     "name": "stdout",
     "output_type": "stream",
     "text": [
      "Buku yang tersedia\n",
      "Nama Buku\t Kode Buku\t Jumlah\n",
      "Buku Fisika\t kode PS_001\t 10\n",
      "Buku Kimia\t kode PS_002\t 8\n",
      "Buku Biologi\t kode PS_003\t 10\n",
      "Buku Seni\t kode PS_004\t 15\n"
     ]
    }
   ],
   "source": [
    "Data_terakhir()"
   ]
  },
  {
   "cell_type": "code",
   "execution_count": 30,
   "id": "739ba8a0",
   "metadata": {},
   "outputs": [
    {
     "name": "stdout",
     "output_type": "stream",
     "text": [
      "Buku Seni dengan Jumlah 22\n"
     ]
    }
   ],
   "source": [
    "Judul=\"Seni\"\n",
    "Kode=\"PS_004\"\n",
    "Jumlah=7\n",
    "tambah_buku(Judul,Kode,Jumlah)"
   ]
  },
  {
   "cell_type": "code",
   "execution_count": 31,
   "id": "d5f82cc6",
   "metadata": {},
   "outputs": [
    {
     "name": "stdout",
     "output_type": "stream",
     "text": [
      "Buku yang tersedia\n",
      "Nama Buku\t Kode Buku\t Jumlah\n",
      "Buku Fisika\t kode PS_001\t 10\n",
      "Buku Kimia\t kode PS_002\t 8\n",
      "Buku Biologi\t kode PS_003\t 10\n",
      "Buku Seni\t kode PS_004\t 22\n"
     ]
    }
   ],
   "source": [
    "Data_terakhir()"
   ]
  },
  {
   "cell_type": "code",
   "execution_count": 32,
   "id": "1bc8b2b7",
   "metadata": {},
   "outputs": [
    {
     "name": "stdout",
     "output_type": "stream",
     "text": [
      "Buku Baru Sastra dengan Jumlah 5\n"
     ]
    }
   ],
   "source": [
    "Judul=\"Sastra\"\n",
    "Kode=\"PS_005\"\n",
    "Jumlah=5\n",
    "tambah_buku(Judul,Kode,Jumlah)"
   ]
  },
  {
   "cell_type": "code",
   "execution_count": 33,
   "id": "dcfea20e",
   "metadata": {},
   "outputs": [
    {
     "name": "stdout",
     "output_type": "stream",
     "text": [
      "Buku yang tersedia\n",
      "Nama Buku\t Kode Buku\t Jumlah\n",
      "Buku Fisika\t kode PS_001\t 10\n",
      "Buku Kimia\t kode PS_002\t 8\n",
      "Buku Biologi\t kode PS_003\t 10\n",
      "Buku Seni\t kode PS_004\t 22\n",
      "Buku Sastra\t kode PS_005\t 5\n"
     ]
    }
   ],
   "source": [
    "Data_terakhir()"
   ]
  },
  {
   "cell_type": "code",
   "execution_count": 34,
   "id": "27797b97",
   "metadata": {},
   "outputs": [],
   "source": [
    "import pandas as pd"
   ]
  },
  {
   "cell_type": "code",
   "execution_count": 35,
   "id": "fd39e0e8",
   "metadata": {},
   "outputs": [],
   "source": [
    "df=pd.DataFrame(pustaka)"
   ]
  },
  {
   "cell_type": "code",
   "execution_count": 36,
   "id": "3f21caeb",
   "metadata": {},
   "outputs": [
    {
     "data": {
      "text/html": [
       "<div>\n",
       "<style scoped>\n",
       "    .dataframe tbody tr th:only-of-type {\n",
       "        vertical-align: middle;\n",
       "    }\n",
       "\n",
       "    .dataframe tbody tr th {\n",
       "        vertical-align: top;\n",
       "    }\n",
       "\n",
       "    .dataframe thead th {\n",
       "        text-align: right;\n",
       "    }\n",
       "</style>\n",
       "<table border=\"1\" class=\"dataframe\">\n",
       "  <thead>\n",
       "    <tr style=\"text-align: right;\">\n",
       "      <th></th>\n",
       "      <th>Nama</th>\n",
       "      <th>Kode</th>\n",
       "      <th>Jumlah</th>\n",
       "    </tr>\n",
       "  </thead>\n",
       "  <tbody>\n",
       "    <tr>\n",
       "      <th>0</th>\n",
       "      <td>Fisika</td>\n",
       "      <td>PS_001</td>\n",
       "      <td>10</td>\n",
       "    </tr>\n",
       "    <tr>\n",
       "      <th>1</th>\n",
       "      <td>Kimia</td>\n",
       "      <td>PS_002</td>\n",
       "      <td>8</td>\n",
       "    </tr>\n",
       "    <tr>\n",
       "      <th>2</th>\n",
       "      <td>Biologi</td>\n",
       "      <td>PS_003</td>\n",
       "      <td>10</td>\n",
       "    </tr>\n",
       "    <tr>\n",
       "      <th>3</th>\n",
       "      <td>Seni</td>\n",
       "      <td>PS_004</td>\n",
       "      <td>22</td>\n",
       "    </tr>\n",
       "    <tr>\n",
       "      <th>4</th>\n",
       "      <td>Sastra</td>\n",
       "      <td>PS_005</td>\n",
       "      <td>5</td>\n",
       "    </tr>\n",
       "  </tbody>\n",
       "</table>\n",
       "</div>"
      ],
      "text/plain": [
       "      Nama    Kode  Jumlah\n",
       "0   Fisika  PS_001      10\n",
       "1    Kimia  PS_002       8\n",
       "2  Biologi  PS_003      10\n",
       "3     Seni  PS_004      22\n",
       "4   Sastra  PS_005       5"
      ]
     },
     "execution_count": 36,
     "metadata": {},
     "output_type": "execute_result"
    }
   ],
   "source": [
    "df"
   ]
  },
  {
   "cell_type": "code",
   "execution_count": 37,
   "id": "484b546a",
   "metadata": {},
   "outputs": [
    {
     "data": {
      "text/plain": [
       "5"
      ]
     },
     "execution_count": 37,
     "metadata": {},
     "output_type": "execute_result"
    }
   ],
   "source": [
    "len(df)"
   ]
  },
  {
   "cell_type": "code",
   "execution_count": 38,
   "id": "8a381ae2",
   "metadata": {},
   "outputs": [],
   "source": [
    "def peminjaman_df(durasi=durasi):\n",
    "    print(\"Form Peminjaman\")\n",
    "    varNama=str(input(\"Nama Peminjam =\"))\n",
    "    varBuku=str(input(\"Kode Buku= \"))\n",
    "    for i in range(len(df)):\n",
    "        if (varBuku==df['Kode'].iloc[i] and df['Jumlah'].iloc[i]>1):\n",
    "            print(\"Bisa pinjam {}\".format(varNama))\n",
    "            print(\"Durasi waktu pinjam {} hari\".format(durasi))\n",
    "            df.at[i,'Jumlah']-=1\n",
    "            return df\n",
    "            break\n",
    "        elif i==len(df):\n",
    "            print(\"Tidak bisa dipinjam\")\n",
    "        \n",
    "def pengembalian_df(durasi=durasi):\n",
    "    print(\"Form Pengembalian\")\n",
    "    varNama=str(input(\"Nama Peminjam\\t=\"))\n",
    "    varBuku=str(input(\"Kode Buku\\t=\"))\n",
    "    varHari=int(input(\"Jumlah Hari\\t=\"))\n",
    "    for i in range(len(df)):\n",
    "        if varBuku==df['Kode'].iloc[i]:\n",
    "            if varHari>=durasi:\n",
    "                denda=(varHari-durasi)*1000\n",
    "                print(\"Terima kasih, {}\\nDenda sebesar Rp.{}\".format(varNama,denda))\n",
    "                df.at[i,'Jumlah']+=1\n",
    "                return df\n",
    "                break\n",
    "            else:\n",
    "                print(\"Terima kasih,{}\".format(varNama))\n",
    "                varBar=df['Jumlah'].iloc[i]\n",
    "                df.at[i,'Jumlah']+=1\n",
    "                return df\n",
    "                break\n",
    "        elif i==len(df)-1:\n",
    "            print(\"Salah kode\")"
   ]
  },
  {
   "cell_type": "code",
   "execution_count": 39,
   "id": "ab3712a1",
   "metadata": {},
   "outputs": [],
   "source": [
    "def tambah_buku_df(varBuku,varKode,varJumlah):\n",
    "    for i in range(len(df)):\n",
    "        if varKode==df['Kode'].iloc[i]:\n",
    "            df.at[i,'Jumlah']+=varJumlah\n",
    "            return df\n",
    "            print(\"Buku {} dengan Jumlah {}\".format(df[\"Nama\"].iloc[i],\n",
    "                                                    df['Jumlah'].iloc[i]))\n",
    "            break\n",
    "        else:\n",
    "            var1={\"Nama\":varBuku,\n",
    "                  \"Kode\":varKode,\n",
    "                  \"Jumlah\":varJumlah}\n",
    "            df=df.append(var1, ignore_index=True)\n",
    "            print(\"Buku Baru {} dengan Jumlah {}\".format(df[\"Nama\"].iloc[-1],\n",
    "                                                         df['Jumlah'].iloc[-1]))\n",
    "    return df"
   ]
  },
  {
   "cell_type": "code",
   "execution_count": 40,
   "id": "60929e3b",
   "metadata": {},
   "outputs": [
    {
     "data": {
      "text/html": [
       "<div>\n",
       "<style scoped>\n",
       "    .dataframe tbody tr th:only-of-type {\n",
       "        vertical-align: middle;\n",
       "    }\n",
       "\n",
       "    .dataframe tbody tr th {\n",
       "        vertical-align: top;\n",
       "    }\n",
       "\n",
       "    .dataframe thead th {\n",
       "        text-align: right;\n",
       "    }\n",
       "</style>\n",
       "<table border=\"1\" class=\"dataframe\">\n",
       "  <thead>\n",
       "    <tr style=\"text-align: right;\">\n",
       "      <th></th>\n",
       "      <th>Nama</th>\n",
       "      <th>Kode</th>\n",
       "      <th>Jumlah</th>\n",
       "    </tr>\n",
       "  </thead>\n",
       "  <tbody>\n",
       "    <tr>\n",
       "      <th>0</th>\n",
       "      <td>Fisika</td>\n",
       "      <td>PS_001</td>\n",
       "      <td>10</td>\n",
       "    </tr>\n",
       "    <tr>\n",
       "      <th>1</th>\n",
       "      <td>Kimia</td>\n",
       "      <td>PS_002</td>\n",
       "      <td>8</td>\n",
       "    </tr>\n",
       "    <tr>\n",
       "      <th>2</th>\n",
       "      <td>Biologi</td>\n",
       "      <td>PS_003</td>\n",
       "      <td>10</td>\n",
       "    </tr>\n",
       "    <tr>\n",
       "      <th>3</th>\n",
       "      <td>Seni</td>\n",
       "      <td>PS_004</td>\n",
       "      <td>22</td>\n",
       "    </tr>\n",
       "    <tr>\n",
       "      <th>4</th>\n",
       "      <td>Sastra</td>\n",
       "      <td>PS_005</td>\n",
       "      <td>5</td>\n",
       "    </tr>\n",
       "  </tbody>\n",
       "</table>\n",
       "</div>"
      ],
      "text/plain": [
       "      Nama    Kode  Jumlah\n",
       "0   Fisika  PS_001      10\n",
       "1    Kimia  PS_002       8\n",
       "2  Biologi  PS_003      10\n",
       "3     Seni  PS_004      22\n",
       "4   Sastra  PS_005       5"
      ]
     },
     "execution_count": 40,
     "metadata": {},
     "output_type": "execute_result"
    }
   ],
   "source": [
    "df"
   ]
  },
  {
   "cell_type": "code",
   "execution_count": 41,
   "id": "668021b6",
   "metadata": {},
   "outputs": [
    {
     "name": "stdout",
     "output_type": "stream",
     "text": [
      "Form Peminjaman\n",
      "Nama Peminjam =ali\n",
      "Kode Buku= PS_002\n",
      "Bisa pinjam ali\n",
      "Durasi waktu pinjam 3 hari\n"
     ]
    }
   ],
   "source": [
    "df=peminjaman_df()"
   ]
  },
  {
   "cell_type": "code",
   "execution_count": 42,
   "id": "8f2618a6",
   "metadata": {},
   "outputs": [
    {
     "data": {
      "text/html": [
       "<div>\n",
       "<style scoped>\n",
       "    .dataframe tbody tr th:only-of-type {\n",
       "        vertical-align: middle;\n",
       "    }\n",
       "\n",
       "    .dataframe tbody tr th {\n",
       "        vertical-align: top;\n",
       "    }\n",
       "\n",
       "    .dataframe thead th {\n",
       "        text-align: right;\n",
       "    }\n",
       "</style>\n",
       "<table border=\"1\" class=\"dataframe\">\n",
       "  <thead>\n",
       "    <tr style=\"text-align: right;\">\n",
       "      <th></th>\n",
       "      <th>Nama</th>\n",
       "      <th>Kode</th>\n",
       "      <th>Jumlah</th>\n",
       "    </tr>\n",
       "  </thead>\n",
       "  <tbody>\n",
       "    <tr>\n",
       "      <th>0</th>\n",
       "      <td>Fisika</td>\n",
       "      <td>PS_001</td>\n",
       "      <td>10</td>\n",
       "    </tr>\n",
       "    <tr>\n",
       "      <th>1</th>\n",
       "      <td>Kimia</td>\n",
       "      <td>PS_002</td>\n",
       "      <td>7</td>\n",
       "    </tr>\n",
       "    <tr>\n",
       "      <th>2</th>\n",
       "      <td>Biologi</td>\n",
       "      <td>PS_003</td>\n",
       "      <td>10</td>\n",
       "    </tr>\n",
       "    <tr>\n",
       "      <th>3</th>\n",
       "      <td>Seni</td>\n",
       "      <td>PS_004</td>\n",
       "      <td>22</td>\n",
       "    </tr>\n",
       "    <tr>\n",
       "      <th>4</th>\n",
       "      <td>Sastra</td>\n",
       "      <td>PS_005</td>\n",
       "      <td>5</td>\n",
       "    </tr>\n",
       "  </tbody>\n",
       "</table>\n",
       "</div>"
      ],
      "text/plain": [
       "      Nama    Kode  Jumlah\n",
       "0   Fisika  PS_001      10\n",
       "1    Kimia  PS_002       7\n",
       "2  Biologi  PS_003      10\n",
       "3     Seni  PS_004      22\n",
       "4   Sastra  PS_005       5"
      ]
     },
     "execution_count": 42,
     "metadata": {},
     "output_type": "execute_result"
    }
   ],
   "source": [
    "df"
   ]
  },
  {
   "cell_type": "code",
   "execution_count": 43,
   "id": "5da4476e",
   "metadata": {},
   "outputs": [],
   "source": [
    "def tambah_buku_df(varBuku,varKode,varJumlah,df=df):\n",
    "    for i in range(len(df)):\n",
    "        if varKode==df['Kode'].iloc[i]:\n",
    "            df.at[i,'Jumlah']+=varJumlah\n",
    "            return df\n",
    "            print(\"Buku {} dengan Jumlah {}\".format(df[\"Nama\"].iloc[i],\n",
    "                                                    df['Jumlah'].iloc[i]))\n",
    "            break\n",
    "    else:\n",
    "        var1={\"Nama\":varBuku,\n",
    "              \"Kode\":varKode,\n",
    "              \"Jumlah\":varJumlah}\n",
    "        df=df.append(var1, ignore_index=True)\n",
    "        print(\"Buku Baru {} dengan Jumlah {}\".format(df[\"Nama\"].iloc[-1],\n",
    "                                                     df['Jumlah'].iloc[-1]))\n",
    "    return df"
   ]
  },
  {
   "cell_type": "code",
   "execution_count": 44,
   "id": "5499ab2e",
   "metadata": {},
   "outputs": [],
   "source": [
    "Judul=\"Astronomi\"\n",
    "Kode=\"PS_006\"\n",
    "Jumlah=5\n"
   ]
  },
  {
   "cell_type": "code",
   "execution_count": 45,
   "id": "aecab7a4",
   "metadata": {},
   "outputs": [
    {
     "name": "stdout",
     "output_type": "stream",
     "text": [
      "Buku Baru Astronomi dengan Jumlah 5\n"
     ]
    },
    {
     "name": "stderr",
     "output_type": "stream",
     "text": [
      "C:\\Users\\user\\AppData\\Local\\Temp\\ipykernel_8348\\3433950982.py:13: FutureWarning: The frame.append method is deprecated and will be removed from pandas in a future version. Use pandas.concat instead.\n",
      "  df=df.append(var1, ignore_index=True)\n"
     ]
    }
   ],
   "source": [
    "df=tambah_buku_df(Judul,Kode,Jumlah)"
   ]
  },
  {
   "cell_type": "code",
   "execution_count": 46,
   "id": "4d657af6",
   "metadata": {},
   "outputs": [
    {
     "data": {
      "text/html": [
       "<div>\n",
       "<style scoped>\n",
       "    .dataframe tbody tr th:only-of-type {\n",
       "        vertical-align: middle;\n",
       "    }\n",
       "\n",
       "    .dataframe tbody tr th {\n",
       "        vertical-align: top;\n",
       "    }\n",
       "\n",
       "    .dataframe thead th {\n",
       "        text-align: right;\n",
       "    }\n",
       "</style>\n",
       "<table border=\"1\" class=\"dataframe\">\n",
       "  <thead>\n",
       "    <tr style=\"text-align: right;\">\n",
       "      <th></th>\n",
       "      <th>Nama</th>\n",
       "      <th>Kode</th>\n",
       "      <th>Jumlah</th>\n",
       "    </tr>\n",
       "  </thead>\n",
       "  <tbody>\n",
       "    <tr>\n",
       "      <th>0</th>\n",
       "      <td>Fisika</td>\n",
       "      <td>PS_001</td>\n",
       "      <td>10</td>\n",
       "    </tr>\n",
       "    <tr>\n",
       "      <th>1</th>\n",
       "      <td>Kimia</td>\n",
       "      <td>PS_002</td>\n",
       "      <td>7</td>\n",
       "    </tr>\n",
       "    <tr>\n",
       "      <th>2</th>\n",
       "      <td>Biologi</td>\n",
       "      <td>PS_003</td>\n",
       "      <td>10</td>\n",
       "    </tr>\n",
       "    <tr>\n",
       "      <th>3</th>\n",
       "      <td>Seni</td>\n",
       "      <td>PS_004</td>\n",
       "      <td>22</td>\n",
       "    </tr>\n",
       "    <tr>\n",
       "      <th>4</th>\n",
       "      <td>Sastra</td>\n",
       "      <td>PS_005</td>\n",
       "      <td>5</td>\n",
       "    </tr>\n",
       "    <tr>\n",
       "      <th>5</th>\n",
       "      <td>Astronomi</td>\n",
       "      <td>PS_006</td>\n",
       "      <td>5</td>\n",
       "    </tr>\n",
       "  </tbody>\n",
       "</table>\n",
       "</div>"
      ],
      "text/plain": [
       "        Nama    Kode  Jumlah\n",
       "0     Fisika  PS_001      10\n",
       "1      Kimia  PS_002       7\n",
       "2    Biologi  PS_003      10\n",
       "3       Seni  PS_004      22\n",
       "4     Sastra  PS_005       5\n",
       "5  Astronomi  PS_006       5"
      ]
     },
     "execution_count": 46,
     "metadata": {},
     "output_type": "execute_result"
    }
   ],
   "source": [
    "df"
   ]
  },
  {
   "cell_type": "markdown",
   "id": "4afdc872",
   "metadata": {},
   "source": [
    "# Numpy"
   ]
  },
  {
   "cell_type": "code",
   "execution_count": 1,
   "id": "7eb52cec",
   "metadata": {},
   "outputs": [],
   "source": [
    "import numpy as np"
   ]
  },
  {
   "cell_type": "code",
   "execution_count": 6,
   "id": "7f2722e3",
   "metadata": {},
   "outputs": [],
   "source": [
    "var1 = np.array([1,2,3,4])"
   ]
  },
  {
   "cell_type": "code",
   "execution_count": 7,
   "id": "dfcc1f49",
   "metadata": {},
   "outputs": [
    {
     "data": {
      "text/plain": [
       "array([1, 2, 3, 4])"
      ]
     },
     "execution_count": 7,
     "metadata": {},
     "output_type": "execute_result"
    }
   ],
   "source": [
    "var1"
   ]
  },
  {
   "cell_type": "code",
   "execution_count": 8,
   "id": "d6b2689c",
   "metadata": {},
   "outputs": [
    {
     "data": {
      "text/plain": [
       "numpy.ndarray"
      ]
     },
     "execution_count": 8,
     "metadata": {},
     "output_type": "execute_result"
    }
   ],
   "source": [
    "type(var1)"
   ]
  },
  {
   "cell_type": "code",
   "execution_count": 9,
   "id": "52e61427",
   "metadata": {},
   "outputs": [
    {
     "data": {
      "text/plain": [
       "dtype('int32')"
      ]
     },
     "execution_count": 9,
     "metadata": {},
     "output_type": "execute_result"
    }
   ],
   "source": [
    "var1.dtype"
   ]
  },
  {
   "cell_type": "code",
   "execution_count": 10,
   "id": "dfb8dc67",
   "metadata": {},
   "outputs": [],
   "source": [
    "varA=[1.2,2,3,4]\n",
    "var2 = np.array(varA)"
   ]
  },
  {
   "cell_type": "code",
   "execution_count": 11,
   "id": "d6ff7bab",
   "metadata": {},
   "outputs": [
    {
     "data": {
      "text/plain": [
       "array([1.2, 2. , 3. , 4. ])"
      ]
     },
     "execution_count": 11,
     "metadata": {},
     "output_type": "execute_result"
    }
   ],
   "source": [
    "var2"
   ]
  },
  {
   "cell_type": "code",
   "execution_count": 12,
   "id": "53e90581",
   "metadata": {},
   "outputs": [
    {
     "data": {
      "text/plain": [
       "dtype('float64')"
      ]
     },
     "execution_count": 12,
     "metadata": {},
     "output_type": "execute_result"
    }
   ],
   "source": [
    "var2.dtype"
   ]
  },
  {
   "cell_type": "code",
   "execution_count": 13,
   "id": "f4a8b2fc",
   "metadata": {},
   "outputs": [
    {
     "data": {
      "text/plain": [
       "(4,)"
      ]
     },
     "execution_count": 13,
     "metadata": {},
     "output_type": "execute_result"
    }
   ],
   "source": [
    "var2.shape"
   ]
  },
  {
   "cell_type": "code",
   "execution_count": 14,
   "id": "950d69d2",
   "metadata": {},
   "outputs": [],
   "source": [
    "var3=np.array([[1.2, 2.5],[3,4]],dtype=object)"
   ]
  },
  {
   "cell_type": "code",
   "execution_count": 16,
   "id": "3b772052",
   "metadata": {},
   "outputs": [
    {
     "data": {
      "text/plain": [
       "array([[1.2, 2.5],\n",
       "       [3, 4]], dtype=object)"
      ]
     },
     "execution_count": 16,
     "metadata": {},
     "output_type": "execute_result"
    }
   ],
   "source": [
    "var3"
   ]
  },
  {
   "cell_type": "code",
   "execution_count": 17,
   "id": "f42b9b59",
   "metadata": {},
   "outputs": [
    {
     "data": {
      "text/plain": [
       "(2, 2)"
      ]
     },
     "execution_count": 17,
     "metadata": {},
     "output_type": "execute_result"
    }
   ],
   "source": [
    "var3.shape"
   ]
  },
  {
   "cell_type": "code",
   "execution_count": 18,
   "id": "f8bdc54a",
   "metadata": {},
   "outputs": [
    {
     "data": {
      "text/plain": [
       "array([1.2, 2.5], dtype=object)"
      ]
     },
     "execution_count": 18,
     "metadata": {},
     "output_type": "execute_result"
    }
   ],
   "source": [
    "var3[0]"
   ]
  },
  {
   "cell_type": "code",
   "execution_count": 19,
   "id": "134031b0",
   "metadata": {},
   "outputs": [
    {
     "data": {
      "text/plain": [
       "1.2"
      ]
     },
     "execution_count": 19,
     "metadata": {},
     "output_type": "execute_result"
    }
   ],
   "source": [
    "var3[0,0]"
   ]
  },
  {
   "cell_type": "code",
   "execution_count": 20,
   "id": "dadd2a1d",
   "metadata": {},
   "outputs": [
    {
     "data": {
      "text/plain": [
       "4"
      ]
     },
     "execution_count": 20,
     "metadata": {},
     "output_type": "execute_result"
    }
   ],
   "source": [
    "var3[-1,-1]"
   ]
  },
  {
   "cell_type": "code",
   "execution_count": 21,
   "id": "d30b42be",
   "metadata": {},
   "outputs": [],
   "source": [
    "var3[-1,0]='Aldwi'"
   ]
  },
  {
   "cell_type": "code",
   "execution_count": 22,
   "id": "0996340f",
   "metadata": {},
   "outputs": [
    {
     "data": {
      "text/plain": [
       "array([[1.2, 2.5],\n",
       "       ['Aldwi', 4]], dtype=object)"
      ]
     },
     "execution_count": 22,
     "metadata": {},
     "output_type": "execute_result"
    }
   ],
   "source": [
    "var3"
   ]
  },
  {
   "cell_type": "markdown",
   "id": "b1969844",
   "metadata": {},
   "source": [
    "### Alokasi dan Random Array"
   ]
  },
  {
   "cell_type": "code",
   "execution_count": 23,
   "id": "b3146366",
   "metadata": {},
   "outputs": [],
   "source": [
    "varA=np.empty(3)"
   ]
  },
  {
   "cell_type": "code",
   "execution_count": 25,
   "id": "788ed06f",
   "metadata": {},
   "outputs": [
    {
     "data": {
      "text/plain": [
       "array([1.12658943e-311, 0.00000000e+000, 4.94065646e-324])"
      ]
     },
     "execution_count": 25,
     "metadata": {},
     "output_type": "execute_result"
    }
   ],
   "source": [
    "varA"
   ]
  },
  {
   "cell_type": "code",
   "execution_count": 26,
   "id": "62f09f34",
   "metadata": {},
   "outputs": [],
   "source": [
    "varB=np.empty((3,2))"
   ]
  },
  {
   "cell_type": "code",
   "execution_count": 27,
   "id": "9054fab8",
   "metadata": {},
   "outputs": [
    {
     "data": {
      "text/plain": [
       "array([[0., 0.],\n",
       "       [0., 0.],\n",
       "       [0., 0.]])"
      ]
     },
     "execution_count": 27,
     "metadata": {},
     "output_type": "execute_result"
    }
   ],
   "source": [
    "varB"
   ]
  },
  {
   "cell_type": "code",
   "execution_count": 28,
   "id": "fd89e896",
   "metadata": {},
   "outputs": [
    {
     "data": {
      "text/plain": [
       "0.005"
      ]
     },
     "execution_count": 28,
     "metadata": {},
     "output_type": "execute_result"
    }
   ],
   "source": [
    "5*0.001"
   ]
  },
  {
   "cell_type": "code",
   "execution_count": 29,
   "id": "07823a2a",
   "metadata": {},
   "outputs": [
    {
     "data": {
      "text/plain": [
       "0.005"
      ]
     },
     "execution_count": 29,
     "metadata": {},
     "output_type": "execute_result"
    }
   ],
   "source": [
    "5*1e-3"
   ]
  },
  {
   "cell_type": "code",
   "execution_count": 30,
   "id": "60ea98c0",
   "metadata": {},
   "outputs": [],
   "source": [
    "varB=np.zeros((3,2))"
   ]
  },
  {
   "cell_type": "code",
   "execution_count": 33,
   "id": "ffa60c27",
   "metadata": {},
   "outputs": [
    {
     "data": {
      "text/plain": [
       "array([[0., 0.],\n",
       "       [0., 0.],\n",
       "       [0., 0.]])"
      ]
     },
     "execution_count": 33,
     "metadata": {},
     "output_type": "execute_result"
    }
   ],
   "source": [
    "varB"
   ]
  },
  {
   "cell_type": "code",
   "execution_count": 34,
   "id": "a59242f8",
   "metadata": {},
   "outputs": [],
   "source": [
    "varC=np.empty((10,10))"
   ]
  },
  {
   "cell_type": "code",
   "execution_count": 35,
   "id": "8e0c43a1",
   "metadata": {},
   "outputs": [
    {
     "data": {
      "text/plain": [
       "array([[ 9.75019444e+199,  1.14115712e+243,  3.33760407e+257,\n",
       "         3.65881510e+233,  1.89305159e+219,  1.23478921e-259,\n",
       "         1.97632840e+166,  2.32161324e-152,  2.45243596e+198,\n",
       "         1.29883049e+219],\n",
       "       [ 2.58415096e+161,  8.89492561e+252,  6.45311834e+247,\n",
       "         1.97718662e+161,  1.68187919e+195,  7.07377193e+194,\n",
       "         5.47558075e+241,  7.62870154e+228,  6.19635167e+223,\n",
       "         1.33856861e-152],\n",
       "       [ 1.96680888e+243,  7.34292359e+223,  5.04526614e+223,\n",
       "         3.94153710e+180,  1.97716591e+161,  5.48471621e+241,\n",
       "         1.21698086e-152,  5.74377921e+257,  7.24925785e+228,\n",
       "        -2.95465823e-311],\n",
       "       [ 9.42064168e-095,  4.65680250e+164,  1.33326055e+179,\n",
       "         6.19518708e+223,  8.98909150e+276,  4.69282034e+223,\n",
       "         7.47016432e-114,  4.53977527e+257,  3.94609756e+180,\n",
       "         1.32971161e-152],\n",
       "       [ 1.84684903e-258,  2.32065361e-152,  9.18856875e+170,\n",
       "         8.78422036e+247,  1.89294661e+219,  1.87650121e-152,\n",
       "         7.34377081e+223,  5.48007861e-096,  1.72050462e+243,\n",
       "         7.22759544e+159],\n",
       "       [ 2.64522203e+185,  6.60064688e+265,  3.10130535e+169,\n",
       "         1.13556094e-153,  3.17112094e+180,  2.21208742e+214,\n",
       "         2.46695056e+179,  3.46215664e+198,  7.10532984e+159,\n",
       "         8.15462781e+173],\n",
       "       [ 7.47590811e+247,  9.76508568e+199,  3.99255555e+252,\n",
       "         6.52020697e+252,  9.75012840e+199,  2.45068391e+198,\n",
       "         3.15091948e+161,  2.04571143e-258,  9.19596628e+170,\n",
       "         3.99260455e+252],\n",
       "       [ 2.41816958e-109, -1.86183101e-311,  4.07914681e+155,\n",
       "         3.98567540e+252,  1.17050831e+171,  8.02629035e+165,\n",
       "         1.94624920e+227,  2.58634777e+161,  1.27802880e-152,\n",
       "         9.69723811e+189],\n",
       "       [ 1.04829598e+228,  2.21208742e+214,  5.28627078e-085,\n",
       "         4.72990116e-120,  1.70141041e+155,  5.22373814e+257,\n",
       "         2.65765345e-258,  2.81230861e+184,  5.28627005e-085,\n",
       "         2.28303784e-109],\n",
       "       [ 8.18434960e-085,  2.61298622e-085,  1.11039158e+219,\n",
       "         4.53792929e+217,  1.46915507e+195,  6.20315585e+223,\n",
       "         8.79716941e+199,  1.27966001e-152,  5.04758270e+223,\n",
       "         1.27617601e-152]])"
      ]
     },
     "execution_count": 35,
     "metadata": {},
     "output_type": "execute_result"
    }
   ],
   "source": [
    "varC"
   ]
  },
  {
   "cell_type": "code",
   "execution_count": 36,
   "id": "cf7f9653",
   "metadata": {},
   "outputs": [],
   "source": [
    "varC=np.zeros((10,10))"
   ]
  },
  {
   "cell_type": "code",
   "execution_count": 37,
   "id": "950178df",
   "metadata": {},
   "outputs": [
    {
     "data": {
      "text/plain": [
       "array([[0., 0., 0., 0., 0., 0., 0., 0., 0., 0.],\n",
       "       [0., 0., 0., 0., 0., 0., 0., 0., 0., 0.],\n",
       "       [0., 0., 0., 0., 0., 0., 0., 0., 0., 0.],\n",
       "       [0., 0., 0., 0., 0., 0., 0., 0., 0., 0.],\n",
       "       [0., 0., 0., 0., 0., 0., 0., 0., 0., 0.],\n",
       "       [0., 0., 0., 0., 0., 0., 0., 0., 0., 0.],\n",
       "       [0., 0., 0., 0., 0., 0., 0., 0., 0., 0.],\n",
       "       [0., 0., 0., 0., 0., 0., 0., 0., 0., 0.],\n",
       "       [0., 0., 0., 0., 0., 0., 0., 0., 0., 0.],\n",
       "       [0., 0., 0., 0., 0., 0., 0., 0., 0., 0.]])"
      ]
     },
     "execution_count": 37,
     "metadata": {},
     "output_type": "execute_result"
    }
   ],
   "source": [
    "varC"
   ]
  },
  {
   "cell_type": "code",
   "execution_count": 38,
   "id": "5fe48c01",
   "metadata": {},
   "outputs": [],
   "source": [
    "varC=np.ones((5,10))"
   ]
  },
  {
   "cell_type": "code",
   "execution_count": 39,
   "id": "14c1b083",
   "metadata": {},
   "outputs": [
    {
     "data": {
      "text/plain": [
       "array([[1., 1., 1., 1., 1., 1., 1., 1., 1., 1.],\n",
       "       [1., 1., 1., 1., 1., 1., 1., 1., 1., 1.],\n",
       "       [1., 1., 1., 1., 1., 1., 1., 1., 1., 1.],\n",
       "       [1., 1., 1., 1., 1., 1., 1., 1., 1., 1.],\n",
       "       [1., 1., 1., 1., 1., 1., 1., 1., 1., 1.]])"
      ]
     },
     "execution_count": 39,
     "metadata": {},
     "output_type": "execute_result"
    }
   ],
   "source": [
    "varC"
   ]
  },
  {
   "cell_type": "code",
   "execution_count": 41,
   "id": "6bdc6017",
   "metadata": {},
   "outputs": [],
   "source": [
    "varE=np.arange(1,10)"
   ]
  },
  {
   "cell_type": "code",
   "execution_count": 42,
   "id": "951264c6",
   "metadata": {},
   "outputs": [
    {
     "data": {
      "text/plain": [
       "array([1, 2, 3, 4, 5, 6, 7, 8, 9])"
      ]
     },
     "execution_count": 42,
     "metadata": {},
     "output_type": "execute_result"
    }
   ],
   "source": [
    "varE"
   ]
  },
  {
   "cell_type": "code",
   "execution_count": 43,
   "id": "7f9bf418",
   "metadata": {},
   "outputs": [],
   "source": [
    "varF=np.arange(1,10,2)"
   ]
  },
  {
   "cell_type": "code",
   "execution_count": 45,
   "id": "b8985a7e",
   "metadata": {},
   "outputs": [
    {
     "data": {
      "text/plain": [
       "array([1, 3, 5, 7, 9])"
      ]
     },
     "execution_count": 45,
     "metadata": {},
     "output_type": "execute_result"
    }
   ],
   "source": [
    "varF"
   ]
  },
  {
   "cell_type": "code",
   "execution_count": 47,
   "id": "20b33acc",
   "metadata": {},
   "outputs": [
    {
     "data": {
      "text/plain": [
       "array([1, 3, 5, 7, 9])"
      ]
     },
     "execution_count": 47,
     "metadata": {},
     "output_type": "execute_result"
    }
   ],
   "source": [
    "varMin = 1\n",
    "varMax = 10\n",
    "varDelta = 2\n",
    "np.arange(varMin,varMax,varDelta)"
   ]
  },
  {
   "cell_type": "markdown",
   "id": "b47d327b",
   "metadata": {},
   "source": [
    "### Random Numpy"
   ]
  },
  {
   "cell_type": "code",
   "execution_count": 49,
   "id": "d81677d8",
   "metadata": {},
   "outputs": [
    {
     "data": {
      "text/plain": [
       "array([[0.25156852, 0.66312436],\n",
       "       [0.12817458, 0.40247076],\n",
       "       [0.68789857, 0.13090038]])"
      ]
     },
     "execution_count": 49,
     "metadata": {},
     "output_type": "execute_result"
    }
   ],
   "source": [
    "np.random.random((3,2))"
   ]
  },
  {
   "cell_type": "markdown",
   "id": "2180ff68",
   "metadata": {},
   "source": [
    "# Matplotlib"
   ]
  },
  {
   "cell_type": "code",
   "execution_count": 50,
   "id": "2988972e",
   "metadata": {},
   "outputs": [],
   "source": [
    "import matplotlib.pyplot as plt\n",
    "import numpy as np"
   ]
  },
  {
   "cell_type": "markdown",
   "id": "58a47598",
   "metadata": {},
   "source": [
    "### Plot"
   ]
  },
  {
   "cell_type": "code",
   "execution_count": 51,
   "id": "0c7bbe53",
   "metadata": {},
   "outputs": [],
   "source": [
    "var1 = np.arange(0,10,2)\n",
    "var2 = var1**2"
   ]
  },
  {
   "cell_type": "code",
   "execution_count": 53,
   "id": "4f83bf42",
   "metadata": {},
   "outputs": [
    {
     "data": {
      "image/png": "[encoded data removed]",
      "text/plain": [
       "<Figure size 640x480 with 1 Axes>"
      ]
     },
     "metadata": {},
     "output_type": "display_data"
    }
   ],
   "source": [
    "plt.plot(var1)\n",
    "plt.show()"
   ]
  },
  {
   "cell_type": "code",
   "execution_count": 54,
   "id": "d6393ec7",
   "metadata": {},
   "outputs": [
    {
     "data": {
      "image/png": "[encoded data removed]",
      "text/plain": [
       "<Figure size 640x480 with 1 Axes>"
      ]
     },
     "metadata": {},
     "output_type": "display_data"
    }
   ],
   "source": [
    "plt.plot(var2)\n",
    "plt.show()"
   ]
  },
  {
   "cell_type": "code",
   "execution_count": 55,
   "id": "51c266ed",
   "metadata": {},
   "outputs": [
    {
     "data": {
      "image/png": "[encoded data removed]",
      "text/plain": [
       "<Figure size 640x480 with 1 Axes>"
      ]
     },
     "metadata": {},
     "output_type": "display_data"
    }
   ],
   "source": [
    "plt.plot(var1,var2)\n",
    "plt.show()"
   ]
  },
  {
   "cell_type": "code",
   "execution_count": 56,
   "id": "15ddfc4b",
   "metadata": {},
   "outputs": [],
   "source": [
    "var3=var1**3"
   ]
  },
  {
   "cell_type": "code",
   "execution_count": 58,
   "id": "3dbbd28b",
   "metadata": {},
   "outputs": [
    {
     "data": {
      "image/png": "[encoded data removed]",
      "text/plain": [
       "<Figure size 640x480 with 1 Axes>"
      ]
     },
     "metadata": {},
     "output_type": "display_data"
    }
   ],
   "source": [
    "plt.plot(var1, var2)\n",
    "plt.plot(var1, var3)\n",
    "\n",
    "plt.show()"
   ]
  },
  {
   "cell_type": "code",
   "execution_count": 59,
   "id": "7407afdb",
   "metadata": {},
   "outputs": [
    {
     "data": {
      "image/png": "[encoded data removed]",
      "text/plain": [
       "<Figure size 640x480 with 1 Axes>"
      ]
     },
     "metadata": {},
     "output_type": "display_data"
    }
   ],
   "source": [
    "plt.plot(var1, var2)\n",
    "plt.plot(var1, var3)\n",
    "plt.xlabel(\"Jarak\")\n",
    "plt.ylabel(\"Waktu\")\n",
    "\n",
    "plt.show()"
   ]
  },
  {
   "cell_type": "code",
   "execution_count": 60,
   "id": "c014b978",
   "metadata": {},
   "outputs": [
    {
     "data": {
      "image/png": "[encoded data removed]",
      "text/plain": [
       "<Figure size 640x480 with 1 Axes>"
      ]
     },
     "metadata": {},
     "output_type": "display_data"
    }
   ],
   "source": [
    "plt.plot(var1, var2, label=\"Var Ke-2\", marker='x')\n",
    "plt.plot(var1, var3, label=\"Var Ke-3\", marker='o')\n",
    "plt.legend(loc='best')\n",
    "plt.xlabel(\"Jarak\")\n",
    "plt.ylabel(\"Waktu\")\n",
    "plt.title(\"Contoh Gambar 1\")\n",
    "plt.grid()\n",
    "plt.show()"
   ]
  },
  {
   "cell_type": "markdown",
   "id": "12285f14",
   "metadata": {},
   "source": [
    "### Bar"
   ]
  },
  {
   "cell_type": "code",
   "execution_count": 61,
   "id": "c782e388",
   "metadata": {},
   "outputs": [
    {
     "data": {
      "image/png": "[encoded data removed]",
      "text/plain": [
       "<Figure size 640x480 with 1 Axes>"
      ]
     },
     "metadata": {},
     "output_type": "display_data"
    }
   ],
   "source": [
    "var1=['a', 'b', 'c']\n",
    "var2=[1,2,3]\n",
    "plt.bar(var1, var2)\n",
    "plt.show()"
   ]
  },
  {
   "cell_type": "code",
   "execution_count": 62,
   "id": "176ceb38",
   "metadata": {},
   "outputs": [
    {
     "data": {
      "image/png": "[encoded data removed]",
      "text/plain": [
       "<Figure size 640x480 with 1 Axes>"
      ]
     },
     "metadata": {},
     "output_type": "display_data"
    }
   ],
   "source": [
    "var1=['a', 'b', 'c']\n",
    "var2=[1,2,3]\n",
    "plt.bar(var1, var2)\n",
    "plt.ylabel(\"Nilai\")\n",
    "plt.show()"
   ]
  },
  {
   "cell_type": "code",
   "execution_count": 63,
   "id": "8d34f983",
   "metadata": {},
   "outputs": [
    {
     "data": {
      "image/png": "[encoded data removed]",
      "text/plain": [
       "<Figure size 640x480 with 1 Axes>"
      ]
     },
     "metadata": {},
     "output_type": "display_data"
    }
   ],
   "source": [
    "var1=['a', 'b', 'c']\n",
    "var2=[1,2,3]\n",
    "plt.bar(var1, var2)\n",
    "plt.ylabel(\"Nilai\")\n",
    "plt.grid()\n",
    "plt.show()"
   ]
  },
  {
   "cell_type": "code",
   "execution_count": 66,
   "id": "ebde01c8",
   "metadata": {},
   "outputs": [
    {
     "ename": "TypeError",
     "evalue": "can only concatenate list (not \"float\") to list",
     "output_type": "error",
     "traceback": [
      "\u001b[1;31m---------------------------------------------------------------------------\u001b[0m",
      "\u001b[1;31mTypeError\u001b[0m                                 Traceback (most recent call last)",
      "Cell \u001b[1;32mIn[66], line 8\u001b[0m\n\u001b[0;32m      5\u001b[0m lbr\u001b[38;5;241m=\u001b[39m\u001b[38;5;241m0.3\u001b[39m\n\u001b[0;32m      7\u001b[0m plt\u001b[38;5;241m.\u001b[39mbar(no_label, varA, color\u001b[38;5;241m=\u001b[39m\u001b[38;5;124m'\u001b[39m\u001b[38;5;124mgold\u001b[39m\u001b[38;5;124m'\u001b[39m, width\u001b[38;5;241m=\u001b[39mlbr, label\u001b[38;5;241m=\u001b[39m\u001b[38;5;124m\"\u001b[39m\u001b[38;5;124mvarA\u001b[39m\u001b[38;5;124m\"\u001b[39m)\n\u001b[1;32m----> 8\u001b[0m plt\u001b[38;5;241m.\u001b[39mbar(\u001b[43mno_label\u001b[49m\u001b[38;5;241;43m+\u001b[39;49m\u001b[43mlbr\u001b[49m, varB, color\u001b[38;5;241m=\u001b[39m\u001b[38;5;124m'\u001b[39m\u001b[38;5;124mgreen\u001b[39m\u001b[38;5;124m'\u001b[39m, width\u001b[38;5;241m=\u001b[39mlbr, label\u001b[38;5;241m=\u001b[39m\u001b[38;5;124m\"\u001b[39m\u001b[38;5;124mvarB\u001b[39m\u001b[38;5;124m\"\u001b[39m)\n\u001b[0;32m      9\u001b[0m plt\u001b[38;5;241m.\u001b[39mgrid()\n\u001b[0;32m     10\u001b[0m plt\u001b[38;5;241m.\u001b[39mlegend(loc\u001b[38;5;241m=\u001b[39m\u001b[38;5;124m'\u001b[39m\u001b[38;5;124mbest\u001b[39m\u001b[38;5;124m'\u001b[39m)\n",
      "\u001b[1;31mTypeError\u001b[0m: can only concatenate list (not \"float\") to list"
     ]
    },
    {
     "data": {
      "image/png": "[encoded data removed]",
      "text/plain": [
       "<Figure size 640x480 with 1 Axes>"
      ]
     },
     "metadata": {},
     "output_type": "display_data"
    }
   ],
   "source": [
    "label= ['var1','var2','var3']\n",
    "no_label=[0,2,3]\n",
    "varA=[1,2,3]\n",
    "varB=[3,4,5]\n",
    "lbr=0.3\n",
    "\n",
    "plt.bar(no_label, varA, color='gold', width=lbr, label=\"varA\")\n",
    "plt.bar(no_label+lbr, varB, color='green', width=lbr, label=\"varB\")\n",
    "plt.grid()\n",
    "plt.legend(loc='best')\n",
    "plt.show()"
   ]
  },
  {
   "cell_type": "code",
   "execution_count": 67,
   "id": "6e302f08",
   "metadata": {},
   "outputs": [
    {
     "ename": "TypeError",
     "evalue": "can only concatenate list (not \"float\") to list",
     "output_type": "error",
     "traceback": [
      "\u001b[1;31m---------------------------------------------------------------------------\u001b[0m",
      "\u001b[1;31mTypeError\u001b[0m                                 Traceback (most recent call last)",
      "Cell \u001b[1;32mIn[67], line 8\u001b[0m\n\u001b[0;32m      5\u001b[0m lbr\u001b[38;5;241m=\u001b[39m\u001b[38;5;241m0.3\u001b[39m\n\u001b[0;32m      7\u001b[0m plt\u001b[38;5;241m.\u001b[39mbar(no_label, varA, color\u001b[38;5;241m=\u001b[39m\u001b[38;5;124m'\u001b[39m\u001b[38;5;124mgold\u001b[39m\u001b[38;5;124m'\u001b[39m, width\u001b[38;5;241m=\u001b[39mlbr, label\u001b[38;5;241m=\u001b[39m\u001b[38;5;124m\"\u001b[39m\u001b[38;5;124mvarA\u001b[39m\u001b[38;5;124m\"\u001b[39m)\n\u001b[1;32m----> 8\u001b[0m plt\u001b[38;5;241m.\u001b[39mbar(\u001b[43mno_label\u001b[49m\u001b[38;5;241;43m+\u001b[39;49m\u001b[43mlbr\u001b[49m, varB, color\u001b[38;5;241m=\u001b[39m\u001b[38;5;124m'\u001b[39m\u001b[38;5;124mgreen\u001b[39m\u001b[38;5;124m'\u001b[39m, width\u001b[38;5;241m=\u001b[39mlbr, label\u001b[38;5;241m=\u001b[39m\u001b[38;5;124m\"\u001b[39m\u001b[38;5;124mvarB\u001b[39m\u001b[38;5;124m\"\u001b[39m)\n\u001b[0;32m      9\u001b[0m plt\u001b[38;5;241m.\u001b[39mgrid()\n\u001b[0;32m     10\u001b[0m plt\u001b[38;5;241m.\u001b[39mlegend(loc\u001b[38;5;241m=\u001b[39m\u001b[38;5;124m'\u001b[39m\u001b[38;5;124mbest\u001b[39m\u001b[38;5;124m'\u001b[39m)\n",
      "\u001b[1;31mTypeError\u001b[0m: can only concatenate list (not \"float\") to list"
     ]
    },
    {
     "data": {
      "image/png": "[encoded data removed]",
      "text/plain": [
       "<Figure size 640x480 with 1 Axes>"
      ]
     },
     "metadata": {},
     "output_type": "display_data"
    }
   ],
   "source": [
    "label= ['var1','var2','var3']\n",
    "no_label=[0,1,2]\n",
    "varA=[1,2,3]\n",
    "varB=[3,4,5]\n",
    "lbr=0.3\n",
    "\n",
    "plt.bar(no_label, varA, color='gold', width=lbr, label=\"varA\")\n",
    "plt.bar(no_label+lbr, varB, color='green', width=lbr, label=\"varB\")\n",
    "plt.grid()\n",
    "plt.legend(loc='best')\n",
    "plt.show()"
   ]
  },
  {
   "cell_type": "code",
   "execution_count": 70,
   "id": "0cdc8389",
   "metadata": {},
   "outputs": [
    {
     "data": {
      "image/png": "[encoded data removed]",
      "text/plain": [
       "<Figure size 640x480 with 1 Axes>"
      ]
     },
     "metadata": {},
     "output_type": "display_data"
    }
   ],
   "source": [
    "label= ['var1','var2','var3']\n",
    "no_label=np.array([0,1,2])\n",
    "varA=[1,2,3]\n",
    "varB=[3,4,5]\n",
    "lbr=0.3\n",
    "\n",
    "plt.bar(no_label, varA, color='gold', width=lbr, label=\"varA\")\n",
    "plt.bar(no_label+lbr, varB, color='green', width=lbr, label=\"varB\")\n",
    "plt.grid()\n",
    "plt.legend(loc='best')\n",
    "plt.show()"
   ]
  },
  {
   "cell_type": "code",
   "execution_count": 71,
   "id": "de121c41",
   "metadata": {},
   "outputs": [
    {
     "data": {
      "image/png": "[encoded data removed]",
      "text/plain": [
       "<Figure size 640x480 with 1 Axes>"
      ]
     },
     "metadata": {},
     "output_type": "display_data"
    }
   ],
   "source": [
    "label= ['var1','var2','var3']\n",
    "no_label=np.arange(len(label))\n",
    "varA=[1,2,3]\n",
    "varB=[3,4,5]\n",
    "lbr=0.3\n",
    "\n",
    "plt.bar(no_label, varA, color='gold', width=lbr, label=\"varA\")\n",
    "plt.bar(no_label+lbr, varB, color='green', width=lbr, label=\"varB\")\n",
    "plt.grid()\n",
    "plt.legend(loc='best')\n",
    "plt.show()"
   ]
  },
  {
   "cell_type": "markdown",
   "id": "618db7f3",
   "metadata": {},
   "source": [
    "# Pie"
   ]
  },
  {
   "cell_type": "code",
   "execution_count": 73,
   "id": "e9ce35c4",
   "metadata": {},
   "outputs": [
    {
     "data": {
      "image/png": "[encoded data removed]",
      "text/plain": [
       "<Figure size 640x480 with 1 Axes>"
      ]
     },
     "metadata": {},
     "output_type": "display_data"
    }
   ],
   "source": [
    "var_label=['a', 'b', 'c']\n",
    "var_val=[1,2,3]\n",
    "\n",
    "plt.pie(var_val, labels=var_label)\n",
    "plt.show()"
   ]
  },
  {
   "cell_type": "code",
   "execution_count": 75,
   "id": "bc36fbb5",
   "metadata": {},
   "outputs": [
    {
     "data": {
      "image/png": "[encoded data removed]",
      "text/plain": [
       "<Figure size 640x480 with 1 Axes>"
      ]
     },
     "metadata": {},
     "output_type": "display_data"
    }
   ],
   "source": [
    "var_lab=['a', 'b', 'c']\n",
    "var_val=[3,2,1]\n",
    "\n",
    "plt.pie(var_val, labels=var_lab, autopct=\"%1.1f%%\")\n",
    "plt.show()"
   ]
  },
  {
   "cell_type": "code",
   "execution_count": 78,
   "id": "3dfae810",
   "metadata": {},
   "outputs": [
    {
     "data": {
      "image/png": "[encoded data removed]",
      "text/plain": [
       "<Figure size 640x480 with 1 Axes>"
      ]
     },
     "metadata": {},
     "output_type": "display_data"
    }
   ],
   "source": [
    "var_lab=['a', 'b', 'c']\n",
    "var_val=[3,2,1]\n",
    "\n",
    "plt.pie(var_val, labels=var_lab, autopct=\"%1.1f%%\",shadow=True, explode=[0,0.2,0.2])\n",
    "plt.show()"
   ]
  }
 ],
 "metadata": {
  "kernelspec": {
   "display_name": "Python 3 (ipykernel)",
   "language": "python",
   "name": "python3"
  },
  "language_info": {
   "codemirror_mode": {
    "name": "ipython",
    "version": 3
   },
   "file_extension": ".py",
   "mimetype": "text/x-python",
   "name": "python",
   "nbconvert_exporter": "python",
   "pygments_lexer": "ipython3",
   "version": "3.10.8"
  }
 },
 "nbformat": 4,
 "nbformat_minor": 5
}
