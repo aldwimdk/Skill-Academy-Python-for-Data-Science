{
 "cells": [
  {
   "cell_type": "markdown",
   "id": "b3934ae3",
   "metadata": {},
   "source": [
    "# Covid-19 Study Case\n",
    "## Memprediksi Kasus Puncak dan Akhir Pandemi Covid-19 di Indonesia"
   ]
  },
  {
   "cell_type": "markdown",
   "id": "51303e24",
   "metadata": {},
   "source": [
    "1. Kerjakan tugas pada Anaconda-Jupyter Notebook.\n",
    "2. Pandas\n",
    "    - Import file ke Jupyter Notebook dan ubah dalam bentuk DataFrame"
   ]
  },
  {
   "cell_type": "code",
   "execution_count": 1,
   "id": "a5e4c271",
   "metadata": {},
   "outputs": [],
   "source": [
    "import pandas as pd\n",
    "import numpy as np\n",
    "import matplotlib.pyplot as plt"
   ]
  },
  {
   "cell_type": "code",
   "execution_count": 10,
   "id": "5ff0f739",
   "metadata": {},
   "outputs": [],
   "source": [
    "df = pd.read_csv(\"owid-covid-data_2.csv\")"
   ]
  },
  {
   "cell_type": "code",
   "execution_count": 11,
   "id": "9ce46a13",
   "metadata": {},
   "outputs": [
    {
     "data": {
      "text/html": [
       "<div>\n",
       "<style scoped>\n",
       "    .dataframe tbody tr th:only-of-type {\n",
       "        vertical-align: middle;\n",
       "    }\n",
       "\n",
       "    .dataframe tbody tr th {\n",
       "        vertical-align: top;\n",
       "    }\n",
       "\n",
       "    .dataframe thead th {\n",
       "        text-align: right;\n",
       "    }\n",
       "</style>\n",
       "<table border=\"1\" class=\"dataframe\">\n",
       "  <thead>\n",
       "    <tr style=\"text-align: right;\">\n",
       "      <th></th>\n",
       "      <th>iso_code</th>\n",
       "      <th>continent</th>\n",
       "      <th>location</th>\n",
       "      <th>date</th>\n",
       "      <th>total_cases</th>\n",
       "      <th>new_cases</th>\n",
       "      <th>new_cases_smoothed</th>\n",
       "      <th>total_deaths</th>\n",
       "      <th>new_deaths</th>\n",
       "      <th>new_deaths_smoothed</th>\n",
       "      <th>...</th>\n",
       "      <th>gdp_per_capita</th>\n",
       "      <th>extreme_poverty</th>\n",
       "      <th>cardiovasc_death_rate</th>\n",
       "      <th>diabetes_prevalence</th>\n",
       "      <th>female_smokers</th>\n",
       "      <th>male_smokers</th>\n",
       "      <th>handwashing_facilities</th>\n",
       "      <th>hospital_beds_per_thousand</th>\n",
       "      <th>life_expectancy</th>\n",
       "      <th>human_development_index</th>\n",
       "    </tr>\n",
       "  </thead>\n",
       "  <tbody>\n",
       "    <tr>\n",
       "      <th>0</th>\n",
       "      <td>AFG</td>\n",
       "      <td>Asia</td>\n",
       "      <td>Afghanistan</td>\n",
       "      <td>2020-02-24</td>\n",
       "      <td>1.0</td>\n",
       "      <td>1.0</td>\n",
       "      <td>NaN</td>\n",
       "      <td>NaN</td>\n",
       "      <td>NaN</td>\n",
       "      <td>NaN</td>\n",
       "      <td>...</td>\n",
       "      <td>1803.987</td>\n",
       "      <td>NaN</td>\n",
       "      <td>597.029</td>\n",
       "      <td>9.59</td>\n",
       "      <td>NaN</td>\n",
       "      <td>NaN</td>\n",
       "      <td>37.746</td>\n",
       "      <td>0.5</td>\n",
       "      <td>64.83</td>\n",
       "      <td>0.511</td>\n",
       "    </tr>\n",
       "    <tr>\n",
       "      <th>1</th>\n",
       "      <td>AFG</td>\n",
       "      <td>Asia</td>\n",
       "      <td>Afghanistan</td>\n",
       "      <td>2020-02-25</td>\n",
       "      <td>1.0</td>\n",
       "      <td>0.0</td>\n",
       "      <td>NaN</td>\n",
       "      <td>NaN</td>\n",
       "      <td>NaN</td>\n",
       "      <td>NaN</td>\n",
       "      <td>...</td>\n",
       "      <td>1803.987</td>\n",
       "      <td>NaN</td>\n",
       "      <td>597.029</td>\n",
       "      <td>9.59</td>\n",
       "      <td>NaN</td>\n",
       "      <td>NaN</td>\n",
       "      <td>37.746</td>\n",
       "      <td>0.5</td>\n",
       "      <td>64.83</td>\n",
       "      <td>0.511</td>\n",
       "    </tr>\n",
       "    <tr>\n",
       "      <th>2</th>\n",
       "      <td>AFG</td>\n",
       "      <td>Asia</td>\n",
       "      <td>Afghanistan</td>\n",
       "      <td>2020-02-26</td>\n",
       "      <td>1.0</td>\n",
       "      <td>0.0</td>\n",
       "      <td>NaN</td>\n",
       "      <td>NaN</td>\n",
       "      <td>NaN</td>\n",
       "      <td>NaN</td>\n",
       "      <td>...</td>\n",
       "      <td>1803.987</td>\n",
       "      <td>NaN</td>\n",
       "      <td>597.029</td>\n",
       "      <td>9.59</td>\n",
       "      <td>NaN</td>\n",
       "      <td>NaN</td>\n",
       "      <td>37.746</td>\n",
       "      <td>0.5</td>\n",
       "      <td>64.83</td>\n",
       "      <td>0.511</td>\n",
       "    </tr>\n",
       "    <tr>\n",
       "      <th>3</th>\n",
       "      <td>AFG</td>\n",
       "      <td>Asia</td>\n",
       "      <td>Afghanistan</td>\n",
       "      <td>2020-02-27</td>\n",
       "      <td>1.0</td>\n",
       "      <td>0.0</td>\n",
       "      <td>NaN</td>\n",
       "      <td>NaN</td>\n",
       "      <td>NaN</td>\n",
       "      <td>NaN</td>\n",
       "      <td>...</td>\n",
       "      <td>1803.987</td>\n",
       "      <td>NaN</td>\n",
       "      <td>597.029</td>\n",
       "      <td>9.59</td>\n",
       "      <td>NaN</td>\n",
       "      <td>NaN</td>\n",
       "      <td>37.746</td>\n",
       "      <td>0.5</td>\n",
       "      <td>64.83</td>\n",
       "      <td>0.511</td>\n",
       "    </tr>\n",
       "    <tr>\n",
       "      <th>4</th>\n",
       "      <td>AFG</td>\n",
       "      <td>Asia</td>\n",
       "      <td>Afghanistan</td>\n",
       "      <td>2020-02-28</td>\n",
       "      <td>1.0</td>\n",
       "      <td>0.0</td>\n",
       "      <td>NaN</td>\n",
       "      <td>NaN</td>\n",
       "      <td>NaN</td>\n",
       "      <td>NaN</td>\n",
       "      <td>...</td>\n",
       "      <td>1803.987</td>\n",
       "      <td>NaN</td>\n",
       "      <td>597.029</td>\n",
       "      <td>9.59</td>\n",
       "      <td>NaN</td>\n",
       "      <td>NaN</td>\n",
       "      <td>37.746</td>\n",
       "      <td>0.5</td>\n",
       "      <td>64.83</td>\n",
       "      <td>0.511</td>\n",
       "    </tr>\n",
       "    <tr>\n",
       "      <th>...</th>\n",
       "      <td>...</td>\n",
       "      <td>...</td>\n",
       "      <td>...</td>\n",
       "      <td>...</td>\n",
       "      <td>...</td>\n",
       "      <td>...</td>\n",
       "      <td>...</td>\n",
       "      <td>...</td>\n",
       "      <td>...</td>\n",
       "      <td>...</td>\n",
       "      <td>...</td>\n",
       "      <td>...</td>\n",
       "      <td>...</td>\n",
       "      <td>...</td>\n",
       "      <td>...</td>\n",
       "      <td>...</td>\n",
       "      <td>...</td>\n",
       "      <td>...</td>\n",
       "      <td>...</td>\n",
       "      <td>...</td>\n",
       "      <td>...</td>\n",
       "    </tr>\n",
       "    <tr>\n",
       "      <th>76406</th>\n",
       "      <td>ZWE</td>\n",
       "      <td>Africa</td>\n",
       "      <td>Zimbabwe</td>\n",
       "      <td>2021-03-17</td>\n",
       "      <td>36552.0</td>\n",
       "      <td>17.0</td>\n",
       "      <td>30.143</td>\n",
       "      <td>1508.0</td>\n",
       "      <td>1.0</td>\n",
       "      <td>2.714</td>\n",
       "      <td>...</td>\n",
       "      <td>1899.775</td>\n",
       "      <td>21.4</td>\n",
       "      <td>307.846</td>\n",
       "      <td>1.82</td>\n",
       "      <td>1.6</td>\n",
       "      <td>30.7</td>\n",
       "      <td>36.791</td>\n",
       "      <td>1.7</td>\n",
       "      <td>61.49</td>\n",
       "      <td>0.571</td>\n",
       "    </tr>\n",
       "    <tr>\n",
       "      <th>76407</th>\n",
       "      <td>ZWE</td>\n",
       "      <td>Africa</td>\n",
       "      <td>Zimbabwe</td>\n",
       "      <td>2021-03-18</td>\n",
       "      <td>36611.0</td>\n",
       "      <td>59.0</td>\n",
       "      <td>33.429</td>\n",
       "      <td>1509.0</td>\n",
       "      <td>1.0</td>\n",
       "      <td>2.429</td>\n",
       "      <td>...</td>\n",
       "      <td>1899.775</td>\n",
       "      <td>21.4</td>\n",
       "      <td>307.846</td>\n",
       "      <td>1.82</td>\n",
       "      <td>1.6</td>\n",
       "      <td>30.7</td>\n",
       "      <td>36.791</td>\n",
       "      <td>1.7</td>\n",
       "      <td>61.49</td>\n",
       "      <td>0.571</td>\n",
       "    </tr>\n",
       "    <tr>\n",
       "      <th>76408</th>\n",
       "      <td>ZWE</td>\n",
       "      <td>Africa</td>\n",
       "      <td>Zimbabwe</td>\n",
       "      <td>2021-03-19</td>\n",
       "      <td>36652.0</td>\n",
       "      <td>41.0</td>\n",
       "      <td>32.714</td>\n",
       "      <td>1510.0</td>\n",
       "      <td>1.0</td>\n",
       "      <td>2.000</td>\n",
       "      <td>...</td>\n",
       "      <td>1899.775</td>\n",
       "      <td>21.4</td>\n",
       "      <td>307.846</td>\n",
       "      <td>1.82</td>\n",
       "      <td>1.6</td>\n",
       "      <td>30.7</td>\n",
       "      <td>36.791</td>\n",
       "      <td>1.7</td>\n",
       "      <td>61.49</td>\n",
       "      <td>0.571</td>\n",
       "    </tr>\n",
       "    <tr>\n",
       "      <th>76409</th>\n",
       "      <td>ZWE</td>\n",
       "      <td>Africa</td>\n",
       "      <td>Zimbabwe</td>\n",
       "      <td>2021-03-20</td>\n",
       "      <td>36662.0</td>\n",
       "      <td>10.0</td>\n",
       "      <td>27.286</td>\n",
       "      <td>1510.0</td>\n",
       "      <td>0.0</td>\n",
       "      <td>1.286</td>\n",
       "      <td>...</td>\n",
       "      <td>1899.775</td>\n",
       "      <td>21.4</td>\n",
       "      <td>307.846</td>\n",
       "      <td>1.82</td>\n",
       "      <td>1.6</td>\n",
       "      <td>30.7</td>\n",
       "      <td>36.791</td>\n",
       "      <td>1.7</td>\n",
       "      <td>61.49</td>\n",
       "      <td>0.571</td>\n",
       "    </tr>\n",
       "    <tr>\n",
       "      <th>76410</th>\n",
       "      <td>ZWE</td>\n",
       "      <td>Africa</td>\n",
       "      <td>Zimbabwe</td>\n",
       "      <td>2021-03-21</td>\n",
       "      <td>36665.0</td>\n",
       "      <td>3.0</td>\n",
       "      <td>25.857</td>\n",
       "      <td>1512.0</td>\n",
       "      <td>2.0</td>\n",
       "      <td>1.286</td>\n",
       "      <td>...</td>\n",
       "      <td>1899.775</td>\n",
       "      <td>21.4</td>\n",
       "      <td>307.846</td>\n",
       "      <td>1.82</td>\n",
       "      <td>1.6</td>\n",
       "      <td>30.7</td>\n",
       "      <td>36.791</td>\n",
       "      <td>1.7</td>\n",
       "      <td>61.49</td>\n",
       "      <td>0.571</td>\n",
       "    </tr>\n",
       "  </tbody>\n",
       "</table>\n",
       "<p>76411 rows × 59 columns</p>\n",
       "</div>"
      ],
      "text/plain": [
       "      iso_code continent     location        date  total_cases  new_cases  \\\n",
       "0          AFG      Asia  Afghanistan  2020-02-24          1.0        1.0   \n",
       "1          AFG      Asia  Afghanistan  2020-02-25          1.0        0.0   \n",
       "2          AFG      Asia  Afghanistan  2020-02-26          1.0        0.0   \n",
       "3          AFG      Asia  Afghanistan  2020-02-27          1.0        0.0   \n",
       "4          AFG      Asia  Afghanistan  2020-02-28          1.0        0.0   \n",
       "...        ...       ...          ...         ...          ...        ...   \n",
       "76406      ZWE    Africa     Zimbabwe  2021-03-17      36552.0       17.0   \n",
       "76407      ZWE    Africa     Zimbabwe  2021-03-18      36611.0       59.0   \n",
       "76408      ZWE    Africa     Zimbabwe  2021-03-19      36652.0       41.0   \n",
       "76409      ZWE    Africa     Zimbabwe  2021-03-20      36662.0       10.0   \n",
       "76410      ZWE    Africa     Zimbabwe  2021-03-21      36665.0        3.0   \n",
       "\n",
       "       new_cases_smoothed  total_deaths  new_deaths  new_deaths_smoothed  ...  \\\n",
       "0                     NaN           NaN         NaN                  NaN  ...   \n",
       "1                     NaN           NaN         NaN                  NaN  ...   \n",
       "2                     NaN           NaN         NaN                  NaN  ...   \n",
       "3                     NaN           NaN         NaN                  NaN  ...   \n",
       "4                     NaN           NaN         NaN                  NaN  ...   \n",
       "...                   ...           ...         ...                  ...  ...   \n",
       "76406              30.143        1508.0         1.0                2.714  ...   \n",
       "76407              33.429        1509.0         1.0                2.429  ...   \n",
       "76408              32.714        1510.0         1.0                2.000  ...   \n",
       "76409              27.286        1510.0         0.0                1.286  ...   \n",
       "76410              25.857        1512.0         2.0                1.286  ...   \n",
       "\n",
       "       gdp_per_capita  extreme_poverty  cardiovasc_death_rate  \\\n",
       "0            1803.987              NaN                597.029   \n",
       "1            1803.987              NaN                597.029   \n",
       "2            1803.987              NaN                597.029   \n",
       "3            1803.987              NaN                597.029   \n",
       "4            1803.987              NaN                597.029   \n",
       "...               ...              ...                    ...   \n",
       "76406        1899.775             21.4                307.846   \n",
       "76407        1899.775             21.4                307.846   \n",
       "76408        1899.775             21.4                307.846   \n",
       "76409        1899.775             21.4                307.846   \n",
       "76410        1899.775             21.4                307.846   \n",
       "\n",
       "       diabetes_prevalence  female_smokers  male_smokers  \\\n",
       "0                     9.59             NaN           NaN   \n",
       "1                     9.59             NaN           NaN   \n",
       "2                     9.59             NaN           NaN   \n",
       "3                     9.59             NaN           NaN   \n",
       "4                     9.59             NaN           NaN   \n",
       "...                    ...             ...           ...   \n",
       "76406                 1.82             1.6          30.7   \n",
       "76407                 1.82             1.6          30.7   \n",
       "76408                 1.82             1.6          30.7   \n",
       "76409                 1.82             1.6          30.7   \n",
       "76410                 1.82             1.6          30.7   \n",
       "\n",
       "       handwashing_facilities  hospital_beds_per_thousand  life_expectancy  \\\n",
       "0                      37.746                         0.5            64.83   \n",
       "1                      37.746                         0.5            64.83   \n",
       "2                      37.746                         0.5            64.83   \n",
       "3                      37.746                         0.5            64.83   \n",
       "4                      37.746                         0.5            64.83   \n",
       "...                       ...                         ...              ...   \n",
       "76406                  36.791                         1.7            61.49   \n",
       "76407                  36.791                         1.7            61.49   \n",
       "76408                  36.791                         1.7            61.49   \n",
       "76409                  36.791                         1.7            61.49   \n",
       "76410                  36.791                         1.7            61.49   \n",
       "\n",
       "       human_development_index  \n",
       "0                        0.511  \n",
       "1                        0.511  \n",
       "2                        0.511  \n",
       "3                        0.511  \n",
       "4                        0.511  \n",
       "...                        ...  \n",
       "76406                    0.571  \n",
       "76407                    0.571  \n",
       "76408                    0.571  \n",
       "76409                    0.571  \n",
       "76410                    0.571  \n",
       "\n",
       "[76411 rows x 59 columns]"
      ]
     },
     "execution_count": 11,
     "metadata": {},
     "output_type": "execute_result"
    }
   ],
   "source": [
    "df"
   ]
  },
  {
   "cell_type": "code",
   "execution_count": 12,
   "id": "19a03b63",
   "metadata": {},
   "outputs": [
    {
     "data": {
      "text/plain": [
       "(76411, 59)"
      ]
     },
     "execution_count": 12,
     "metadata": {},
     "output_type": "execute_result"
    }
   ],
   "source": [
    "df.shape"
   ]
  },
  {
   "cell_type": "code",
   "execution_count": 13,
   "id": "b8ea6acc",
   "metadata": {},
   "outputs": [
    {
     "name": "stdout",
     "output_type": "stream",
     "text": [
      "Argentina                   446\n",
      "Mexico                      446\n",
      "Thailand                    443\n",
      "Peru                        434\n",
      "Taiwan                      431\n",
      "                           ... \n",
      "Greenland                    34\n",
      "Montserrat                   31\n",
      "Turks and Caicos Islands     30\n",
      "Falkland Islands             16\n",
      "Northern Cyprus               9\n",
      "Name: location, Length: 215, dtype: int64\n"
     ]
    }
   ],
   "source": [
    "print(df['location'].value_counts())"
   ]
  },
  {
   "cell_type": "markdown",
   "id": "2192dded",
   "metadata": {},
   "source": [
    "3. Conditional Loop\n",
    "    - Terapkan “For dan If Conditional Loop” untuk mencari lokasi baris pada United Kingdom."
   ]
  },
  {
   "cell_type": "code",
   "execution_count": 14,
   "id": "cd4bfbbe",
   "metadata": {},
   "outputs": [
    {
     "name": "stdout",
     "output_type": "stream",
     "text": [
      "UK Berada Pada Baris Ke- 72007\n"
     ]
    }
   ],
   "source": [
    "for i in range(len(df)):\n",
    "    if df.at[i, 'location']=='United Kingdom':\n",
    "        print(\"UK Berada Pada Baris Ke-\",i)\n",
    "        break"
   ]
  },
  {
   "cell_type": "markdown",
   "id": "3a75dec3",
   "metadata": {},
   "source": [
    "### Data Cleansing"
   ]
  },
  {
   "cell_type": "markdown",
   "id": "59338142",
   "metadata": {},
   "source": [
    "4. Data Cleansing\n",
    "    - Lakukan “Cleansing” pada data yang memuat negara United Kingdom dan berikan variable baru dengan nama df_uk.\n",
    "    - Selanjutnya, lakukan “Cleansing” pada semua kolom di df_uk, kecuali date dan total_case lalu tampilkan 5 data pertama."
   ]
  },
  {
   "cell_type": "code",
   "execution_count": 17,
   "id": "013c7496",
   "metadata": {},
   "outputs": [],
   "source": [
    "df_uk=df.loc[df['location']==\"United Kingdom\"]\n",
    "df_uk=df_uk.reset_index(drop=True)"
   ]
  },
  {
   "cell_type": "code",
   "execution_count": 18,
   "id": "149cba7d",
   "metadata": {},
   "outputs": [
    {
     "data": {
      "text/html": [
       "<div>\n",
       "<style scoped>\n",
       "    .dataframe tbody tr th:only-of-type {\n",
       "        vertical-align: middle;\n",
       "    }\n",
       "\n",
       "    .dataframe tbody tr th {\n",
       "        vertical-align: top;\n",
       "    }\n",
       "\n",
       "    .dataframe thead th {\n",
       "        text-align: right;\n",
       "    }\n",
       "</style>\n",
       "<table border=\"1\" class=\"dataframe\">\n",
       "  <thead>\n",
       "    <tr style=\"text-align: right;\">\n",
       "      <th></th>\n",
       "      <th>iso_code</th>\n",
       "      <th>continent</th>\n",
       "      <th>location</th>\n",
       "      <th>date</th>\n",
       "      <th>total_cases</th>\n",
       "      <th>new_cases</th>\n",
       "      <th>new_cases_smoothed</th>\n",
       "      <th>total_deaths</th>\n",
       "      <th>new_deaths</th>\n",
       "      <th>new_deaths_smoothed</th>\n",
       "      <th>...</th>\n",
       "      <th>gdp_per_capita</th>\n",
       "      <th>extreme_poverty</th>\n",
       "      <th>cardiovasc_death_rate</th>\n",
       "      <th>diabetes_prevalence</th>\n",
       "      <th>female_smokers</th>\n",
       "      <th>male_smokers</th>\n",
       "      <th>handwashing_facilities</th>\n",
       "      <th>hospital_beds_per_thousand</th>\n",
       "      <th>life_expectancy</th>\n",
       "      <th>human_development_index</th>\n",
       "    </tr>\n",
       "  </thead>\n",
       "  <tbody>\n",
       "    <tr>\n",
       "      <th>411</th>\n",
       "      <td>GBR</td>\n",
       "      <td>Europe</td>\n",
       "      <td>United Kingdom</td>\n",
       "      <td>2021-03-17</td>\n",
       "      <td>4287996.0</td>\n",
       "      <td>5793.0</td>\n",
       "      <td>5731.000</td>\n",
       "      <td>126068.0</td>\n",
       "      <td>141.0</td>\n",
       "      <td>120.857</td>\n",
       "      <td>...</td>\n",
       "      <td>39753.244</td>\n",
       "      <td>0.2</td>\n",
       "      <td>122.137</td>\n",
       "      <td>4.28</td>\n",
       "      <td>20.0</td>\n",
       "      <td>24.7</td>\n",
       "      <td>NaN</td>\n",
       "      <td>2.54</td>\n",
       "      <td>81.32</td>\n",
       "      <td>0.932</td>\n",
       "    </tr>\n",
       "    <tr>\n",
       "      <th>412</th>\n",
       "      <td>GBR</td>\n",
       "      <td>Europe</td>\n",
       "      <td>United Kingdom</td>\n",
       "      <td>2021-03-18</td>\n",
       "      <td>4294328.0</td>\n",
       "      <td>6332.0</td>\n",
       "      <td>5659.143</td>\n",
       "      <td>126163.0</td>\n",
       "      <td>95.0</td>\n",
       "      <td>108.571</td>\n",
       "      <td>...</td>\n",
       "      <td>39753.244</td>\n",
       "      <td>0.2</td>\n",
       "      <td>122.137</td>\n",
       "      <td>4.28</td>\n",
       "      <td>20.0</td>\n",
       "      <td>24.7</td>\n",
       "      <td>NaN</td>\n",
       "      <td>2.54</td>\n",
       "      <td>81.32</td>\n",
       "      <td>0.932</td>\n",
       "    </tr>\n",
       "    <tr>\n",
       "      <th>413</th>\n",
       "      <td>GBR</td>\n",
       "      <td>Europe</td>\n",
       "      <td>United Kingdom</td>\n",
       "      <td>2021-03-19</td>\n",
       "      <td>4299200.0</td>\n",
       "      <td>4872.0</td>\n",
       "      <td>5400.286</td>\n",
       "      <td>126263.0</td>\n",
       "      <td>100.0</td>\n",
       "      <td>97.714</td>\n",
       "      <td>...</td>\n",
       "      <td>39753.244</td>\n",
       "      <td>0.2</td>\n",
       "      <td>122.137</td>\n",
       "      <td>4.28</td>\n",
       "      <td>20.0</td>\n",
       "      <td>24.7</td>\n",
       "      <td>NaN</td>\n",
       "      <td>2.54</td>\n",
       "      <td>81.32</td>\n",
       "      <td>0.932</td>\n",
       "    </tr>\n",
       "    <tr>\n",
       "      <th>414</th>\n",
       "      <td>GBR</td>\n",
       "      <td>Europe</td>\n",
       "      <td>United Kingdom</td>\n",
       "      <td>2021-03-20</td>\n",
       "      <td>4304839.0</td>\n",
       "      <td>5639.0</td>\n",
       "      <td>5403.429</td>\n",
       "      <td>126359.0</td>\n",
       "      <td>96.0</td>\n",
       "      <td>94.000</td>\n",
       "      <td>...</td>\n",
       "      <td>39753.244</td>\n",
       "      <td>0.2</td>\n",
       "      <td>122.137</td>\n",
       "      <td>4.28</td>\n",
       "      <td>20.0</td>\n",
       "      <td>24.7</td>\n",
       "      <td>NaN</td>\n",
       "      <td>2.54</td>\n",
       "      <td>81.32</td>\n",
       "      <td>0.932</td>\n",
       "    </tr>\n",
       "    <tr>\n",
       "      <th>415</th>\n",
       "      <td>GBR</td>\n",
       "      <td>Europe</td>\n",
       "      <td>United Kingdom</td>\n",
       "      <td>2021-03-21</td>\n",
       "      <td>4310195.0</td>\n",
       "      <td>5356.0</td>\n",
       "      <td>5497.857</td>\n",
       "      <td>126393.0</td>\n",
       "      <td>34.0</td>\n",
       "      <td>91.429</td>\n",
       "      <td>...</td>\n",
       "      <td>39753.244</td>\n",
       "      <td>0.2</td>\n",
       "      <td>122.137</td>\n",
       "      <td>4.28</td>\n",
       "      <td>20.0</td>\n",
       "      <td>24.7</td>\n",
       "      <td>NaN</td>\n",
       "      <td>2.54</td>\n",
       "      <td>81.32</td>\n",
       "      <td>0.932</td>\n",
       "    </tr>\n",
       "  </tbody>\n",
       "</table>\n",
       "<p>5 rows × 59 columns</p>\n",
       "</div>"
      ],
      "text/plain": [
       "    iso_code continent        location        date  total_cases  new_cases  \\\n",
       "411      GBR    Europe  United Kingdom  2021-03-17    4287996.0     5793.0   \n",
       "412      GBR    Europe  United Kingdom  2021-03-18    4294328.0     6332.0   \n",
       "413      GBR    Europe  United Kingdom  2021-03-19    4299200.0     4872.0   \n",
       "414      GBR    Europe  United Kingdom  2021-03-20    4304839.0     5639.0   \n",
       "415      GBR    Europe  United Kingdom  2021-03-21    4310195.0     5356.0   \n",
       "\n",
       "     new_cases_smoothed  total_deaths  new_deaths  new_deaths_smoothed  ...  \\\n",
       "411            5731.000      126068.0       141.0              120.857  ...   \n",
       "412            5659.143      126163.0        95.0              108.571  ...   \n",
       "413            5400.286      126263.0       100.0               97.714  ...   \n",
       "414            5403.429      126359.0        96.0               94.000  ...   \n",
       "415            5497.857      126393.0        34.0               91.429  ...   \n",
       "\n",
       "     gdp_per_capita  extreme_poverty  cardiovasc_death_rate  \\\n",
       "411       39753.244              0.2                122.137   \n",
       "412       39753.244              0.2                122.137   \n",
       "413       39753.244              0.2                122.137   \n",
       "414       39753.244              0.2                122.137   \n",
       "415       39753.244              0.2                122.137   \n",
       "\n",
       "     diabetes_prevalence  female_smokers  male_smokers  \\\n",
       "411                 4.28            20.0          24.7   \n",
       "412                 4.28            20.0          24.7   \n",
       "413                 4.28            20.0          24.7   \n",
       "414                 4.28            20.0          24.7   \n",
       "415                 4.28            20.0          24.7   \n",
       "\n",
       "     handwashing_facilities  hospital_beds_per_thousand  life_expectancy  \\\n",
       "411                     NaN                        2.54            81.32   \n",
       "412                     NaN                        2.54            81.32   \n",
       "413                     NaN                        2.54            81.32   \n",
       "414                     NaN                        2.54            81.32   \n",
       "415                     NaN                        2.54            81.32   \n",
       "\n",
       "     human_development_index  \n",
       "411                    0.932  \n",
       "412                    0.932  \n",
       "413                    0.932  \n",
       "414                    0.932  \n",
       "415                    0.932  \n",
       "\n",
       "[5 rows x 59 columns]"
      ]
     },
     "execution_count": 18,
     "metadata": {},
     "output_type": "execute_result"
    }
   ],
   "source": [
    "df_uk.tail()"
   ]
  },
  {
   "cell_type": "code",
   "execution_count": 19,
   "id": "37eac4f5",
   "metadata": {},
   "outputs": [
    {
     "data": {
      "text/plain": [
       "(416, 59)"
      ]
     },
     "execution_count": 19,
     "metadata": {},
     "output_type": "execute_result"
    }
   ],
   "source": [
    "df_uk.shape"
   ]
  },
  {
   "cell_type": "code",
   "execution_count": 22,
   "id": "f8aeae9f",
   "metadata": {},
   "outputs": [
    {
     "data": {
      "text/html": [
       "<div>\n",
       "<style scoped>\n",
       "    .dataframe tbody tr th:only-of-type {\n",
       "        vertical-align: middle;\n",
       "    }\n",
       "\n",
       "    .dataframe tbody tr th {\n",
       "        vertical-align: top;\n",
       "    }\n",
       "\n",
       "    .dataframe thead th {\n",
       "        text-align: right;\n",
       "    }\n",
       "</style>\n",
       "<table border=\"1\" class=\"dataframe\">\n",
       "  <thead>\n",
       "    <tr style=\"text-align: right;\">\n",
       "      <th></th>\n",
       "      <th>date</th>\n",
       "      <th>total_cases</th>\n",
       "    </tr>\n",
       "  </thead>\n",
       "  <tbody>\n",
       "    <tr>\n",
       "      <th>0</th>\n",
       "      <td>2020-01-31</td>\n",
       "      <td>2.0</td>\n",
       "    </tr>\n",
       "    <tr>\n",
       "      <th>1</th>\n",
       "      <td>2020-02-01</td>\n",
       "      <td>2.0</td>\n",
       "    </tr>\n",
       "    <tr>\n",
       "      <th>2</th>\n",
       "      <td>2020-02-02</td>\n",
       "      <td>2.0</td>\n",
       "    </tr>\n",
       "    <tr>\n",
       "      <th>3</th>\n",
       "      <td>2020-02-03</td>\n",
       "      <td>8.0</td>\n",
       "    </tr>\n",
       "    <tr>\n",
       "      <th>4</th>\n",
       "      <td>2020-02-04</td>\n",
       "      <td>8.0</td>\n",
       "    </tr>\n",
       "  </tbody>\n",
       "</table>\n",
       "</div>"
      ],
      "text/plain": [
       "         date  total_cases\n",
       "0  2020-01-31          2.0\n",
       "1  2020-02-01          2.0\n",
       "2  2020-02-02          2.0\n",
       "3  2020-02-03          8.0\n",
       "4  2020-02-04          8.0"
      ]
     },
     "execution_count": 22,
     "metadata": {},
     "output_type": "execute_result"
    }
   ],
   "source": [
    "df_uk=df_uk[['date','total_cases']]\n",
    "df_uk.head()"
   ]
  },
  {
   "cell_type": "code",
   "execution_count": null,
   "id": "37da717f",
   "metadata": {},
   "outputs": [],
   "source": []
  },
  {
   "cell_type": "markdown",
   "id": "fc2d9d25",
   "metadata": {},
   "source": [
    "5. Matplotlib\n",
    "    - Buatlah kurva plot untuk total kasus menggunakan pustaka Matplotlib.\n",
    "    - Berikan label “Hari ke-“ pada sumbu x dan label “Jumlah kasus per hari” pada sumbu y, sertakan “Legend” pada kurva.\n"
   ]
  },
  {
   "cell_type": "code",
   "execution_count": 24,
   "id": "c860bfdc",
   "metadata": {},
   "outputs": [
    {
     "data": {
      "text/plain": [
       "<function matplotlib.pyplot.show(close=None, block=None)>"
      ]
     },
     "execution_count": 24,
     "metadata": {},
     "output_type": "execute_result"
    },
    {
     "data": {
      "image/png": "[encoded data removed]",
      "text/plain": [
       "<Figure size 640x480 with 1 Axes>"
      ]
     },
     "metadata": {},
     "output_type": "display_data"
    }
   ],
   "source": [
    "df_uk['total_cases'].plot(label=\"Positif\")\n",
    "plt.xlabel(\"Hari ke-\")\n",
    "plt.ylabel(\"Kasus Per-Hari\")\n",
    "plt.legend(loc=\"best\")\n",
    "plt.show"
   ]
  },
  {
   "cell_type": "code",
   "execution_count": null,
   "id": "581263c4",
   "metadata": {},
   "outputs": [],
   "source": []
  },
  {
   "cell_type": "markdown",
   "id": "2ddefa6b",
   "metadata": {},
   "source": [
    "6. Fungsi Sigmoid\n",
    "    - Buatlah fungsi sigmoid untuk memprediksi kasus covid-19 pada United Kingdom.\n",
    "    - Import package curve_fit dan fslove dari scipy.optimize.\n",
    "    - Tentukan pada hari ke berapa jumlah kasus puncak di United Kingdom.\n",
    "    - Gunakan metode Levenberg–Marquardt (lm) pada curve_fit(… ,method=’lm’)\n",
    "    - Hitung jumlah kasus puncak di United Kingdom."
   ]
  },
  {
   "cell_type": "code",
   "execution_count": 25,
   "id": "2e83b5b5",
   "metadata": {},
   "outputs": [],
   "source": [
    "x = list(df_uk.index)\n",
    "y = list(df_uk['total_cases'])"
   ]
  },
  {
   "cell_type": "code",
   "execution_count": 26,
   "id": "f44b4716",
   "metadata": {},
   "outputs": [],
   "source": [
    "def kurva_sigmoid(t,a,t0,c):\n",
    "    return c/(1+np.exp(-(t-t0)/(a)))"
   ]
  },
  {
   "cell_type": "code",
   "execution_count": 27,
   "id": "d6069563",
   "metadata": {},
   "outputs": [],
   "source": [
    "from scipy.optimize import curve_fit, fsolve"
   ]
  },
  {
   "cell_type": "code",
   "execution_count": 28,
   "id": "fa206a42",
   "metadata": {},
   "outputs": [],
   "source": [
    "fit = curve_fit(kurva_sigmoid,x,y, method='lm')\n",
    "varA, varB = fit"
   ]
  },
  {
   "cell_type": "code",
   "execution_count": 29,
   "id": "5c1e30e9",
   "metadata": {},
   "outputs": [],
   "source": [
    "std_er = np.zeros(len(varA))\n",
    "for i in range(len(varA)):\n",
    "    std_er[i]=np.sqrt(varB[i][i])"
   ]
  },
  {
   "cell_type": "code",
   "execution_count": 30,
   "id": "4e1375f5",
   "metadata": {},
   "outputs": [],
   "source": [
    "a = varA[0]+std_er[0]\n",
    "t0 = varA[1]+std_er[1]\n",
    "c = varA[2]+std_er[2]"
   ]
  },
  {
   "cell_type": "code",
   "execution_count": 31,
   "id": "df7f8024",
   "metadata": {},
   "outputs": [],
   "source": [
    "def puncak(x):\n",
    "    return kurva_sigmoid(x,a,t0,c)-int(c)"
   ]
  },
  {
   "cell_type": "code",
   "execution_count": 32,
   "id": "4ba33fe6",
   "metadata": {},
   "outputs": [],
   "source": [
    "n_puncak=int(fsolve(puncak,t0))"
   ]
  },
  {
   "cell_type": "code",
   "execution_count": 37,
   "id": "a2e0a02f",
   "metadata": {},
   "outputs": [
    {
     "name": "stdout",
     "output_type": "stream",
     "text": [
      "Hari Puncak Wabah Covid-19 di UK Adalah Hari ke- 1216\n"
     ]
    }
   ],
   "source": [
    "print(\"Hari Puncak Wabah Covid-19 di UK Adalah Hari ke- \"+str(n_puncak))"
   ]
  },
  {
   "cell_type": "code",
   "execution_count": 34,
   "id": "b719f1b4",
   "metadata": {},
   "outputs": [
    {
     "name": "stdout",
     "output_type": "stream",
     "text": [
      "Kita Memiliki 800 Hari Menuju Puncak Wabah\n"
     ]
    }
   ],
   "source": [
    "n_0 = max(x)+1\n",
    "pred_x = list(range(n_0,n_puncak))\n",
    "print(\"Kita Memiliki {} Hari Menuju Puncak Wabah\".format(str(len(pred_x))))"
   ]
  },
  {
   "cell_type": "code",
   "execution_count": 35,
   "id": "1a0384ba",
   "metadata": {},
   "outputs": [],
   "source": [
    "pred_y = np.zeros(len(x+pred_x))\n",
    "for i in range(n_puncak):\n",
    "    pred_y[i]=kurva_sigmoid(i,a,t0,c)"
   ]
  },
  {
   "cell_type": "code",
   "execution_count": 36,
   "id": "647b17a5",
   "metadata": {},
   "outputs": [
    {
     "name": "stdout",
     "output_type": "stream",
     "text": [
      "Prediksi Jumlah Puncak 5352832 Orang\n"
     ]
    }
   ],
   "source": [
    "print(\"Prediksi Jumlah Puncak {} Orang\".format(int(pred_y[-1])))"
   ]
  },
  {
   "cell_type": "code",
   "execution_count": null,
   "id": "3c908c2b",
   "metadata": {},
   "outputs": [],
   "source": []
  },
  {
   "cell_type": "markdown",
   "id": "5f1a60d5",
   "metadata": {},
   "source": [
    "7. Kurva Plot pada Matplotlib\n",
    "Buatlah kurva plot pada nilai prediksi dan kurva Scatter pala nilai asli. Berikan warna merah untuk\n",
    "prediksi dan warna hijau untuk nilai asli."
   ]
  },
  {
   "cell_type": "code",
   "execution_count": 38,
   "id": "f7d7f2e4",
   "metadata": {},
   "outputs": [
    {
     "data": {
      "image/png": "[encoded data removed]",
      "text/plain": [
       "<Figure size 640x480 with 1 Axes>"
      ]
     },
     "metadata": {},
     "output_type": "display_data"
    }
   ],
   "source": [
    "plt.plot(x+pred_x, pred_y, label=\"Prediksi\", color='red')\n",
    "plt.scatter(x, y, label=\"Data Asli\", s=10, color='green')\n",
    "plt.xlabel(\"Hari Ke\")\n",
    "plt.ylabel(\"Jumlah Kasus positif\")\n",
    "plt.grid()\n",
    "plt.legend(loc='best')\n",
    "plt.show()"
   ]
  },
  {
   "cell_type": "markdown",
   "id": "61ada2e4",
   "metadata": {},
   "source": [
    "8. R2 Score\n",
    "Hitunglah akurasi dengan menggunakan R2 Score dengan nilai minimal akurasi 97%."
   ]
  },
  {
   "cell_type": "code",
   "execution_count": 39,
   "id": "161d179d",
   "metadata": {},
   "outputs": [],
   "source": [
    "def akurasi_r2(y_asli, y_prediksi, x):\n",
    "    atas = sum((y_asli-y_prediksi[0:len(x)])**2)\n",
    "    bawah = sum((y_asli-np.mean(y))**2)\n",
    "    r = 1-(atas/bawah)\n",
    "    return r"
   ]
  },
  {
   "cell_type": "code",
   "execution_count": 40,
   "id": "87537cf1",
   "metadata": {},
   "outputs": [],
   "source": [
    "akur = akurasi_r2(y, pred_y, x)"
   ]
  },
  {
   "cell_type": "code",
   "execution_count": 41,
   "id": "92060229",
   "metadata": {},
   "outputs": [
    {
     "data": {
      "text/plain": [
       "98.92448385255183"
      ]
     },
     "execution_count": 41,
     "metadata": {},
     "output_type": "execute_result"
    }
   ],
   "source": [
    "akur*100"
   ]
  },
  {
   "cell_type": "code",
   "execution_count": null,
   "id": "8123de29",
   "metadata": {},
   "outputs": [],
   "source": []
  },
  {
   "cell_type": "markdown",
   "id": "c22875d7",
   "metadata": {},
   "source": [
    "9. Package Datetime\n",
    "Gunakan package datetime untuk menemukan tanggal puncak kasus Covid-19 di United Kingdom"
   ]
  },
  {
   "cell_type": "code",
   "execution_count": 42,
   "id": "167827ec",
   "metadata": {},
   "outputs": [
    {
     "data": {
      "text/html": [
       "<div>\n",
       "<style scoped>\n",
       "    .dataframe tbody tr th:only-of-type {\n",
       "        vertical-align: middle;\n",
       "    }\n",
       "\n",
       "    .dataframe tbody tr th {\n",
       "        vertical-align: top;\n",
       "    }\n",
       "\n",
       "    .dataframe thead th {\n",
       "        text-align: right;\n",
       "    }\n",
       "</style>\n",
       "<table border=\"1\" class=\"dataframe\">\n",
       "  <thead>\n",
       "    <tr style=\"text-align: right;\">\n",
       "      <th></th>\n",
       "      <th>date</th>\n",
       "      <th>total_cases</th>\n",
       "    </tr>\n",
       "  </thead>\n",
       "  <tbody>\n",
       "    <tr>\n",
       "      <th>0</th>\n",
       "      <td>2020-01-31</td>\n",
       "      <td>2.0</td>\n",
       "    </tr>\n",
       "    <tr>\n",
       "      <th>1</th>\n",
       "      <td>2020-02-01</td>\n",
       "      <td>2.0</td>\n",
       "    </tr>\n",
       "    <tr>\n",
       "      <th>2</th>\n",
       "      <td>2020-02-02</td>\n",
       "      <td>2.0</td>\n",
       "    </tr>\n",
       "    <tr>\n",
       "      <th>3</th>\n",
       "      <td>2020-02-03</td>\n",
       "      <td>8.0</td>\n",
       "    </tr>\n",
       "    <tr>\n",
       "      <th>4</th>\n",
       "      <td>2020-02-04</td>\n",
       "      <td>8.0</td>\n",
       "    </tr>\n",
       "  </tbody>\n",
       "</table>\n",
       "</div>"
      ],
      "text/plain": [
       "         date  total_cases\n",
       "0  2020-01-31          2.0\n",
       "1  2020-02-01          2.0\n",
       "2  2020-02-02          2.0\n",
       "3  2020-02-03          8.0\n",
       "4  2020-02-04          8.0"
      ]
     },
     "execution_count": 42,
     "metadata": {},
     "output_type": "execute_result"
    }
   ],
   "source": [
    "from datetime import datetime, timedelta\n",
    "df_uk.head()"
   ]
  },
  {
   "cell_type": "code",
   "execution_count": 43,
   "id": "171baa4b",
   "metadata": {},
   "outputs": [
    {
     "name": "stdout",
     "output_type": "stream",
     "text": [
      "2020-01-31 00:00:00\n"
     ]
    }
   ],
   "source": [
    "fmt = '%Y-%m-%d'\n",
    "n1 = df_uk['date'][0]\n",
    "tgl_0 = datetime.strptime(n1,fmt)\n",
    "print(tgl_0)"
   ]
  },
  {
   "cell_type": "code",
   "execution_count": 44,
   "id": "bb46b2e7",
   "metadata": {},
   "outputs": [
    {
     "name": "stdout",
     "output_type": "stream",
     "text": [
      "2023-05-31 00:00:00\n"
     ]
    }
   ],
   "source": [
    "tgl_puncak = tgl_0+timedelta(days=n_puncak)\n",
    "print(tgl_puncak)"
   ]
  },
  {
   "cell_type": "code",
   "execution_count": 45,
   "id": "b2eb0d27",
   "metadata": {},
   "outputs": [],
   "source": [
    "h_puncak = tgl_puncak.strftime(fmt)"
   ]
  },
  {
   "cell_type": "code",
   "execution_count": 46,
   "id": "ac9b2111",
   "metadata": {},
   "outputs": [
    {
     "data": {
      "text/plain": [
       "'2023-05-31'"
      ]
     },
     "execution_count": 46,
     "metadata": {},
     "output_type": "execute_result"
    }
   ],
   "source": [
    "h_puncak"
   ]
  },
  {
   "cell_type": "code",
   "execution_count": null,
   "id": "c02aa35e",
   "metadata": {},
   "outputs": [],
   "source": []
  },
  {
   "cell_type": "markdown",
   "id": "7031a758",
   "metadata": {},
   "source": [
    "10. Kurva Plot pada Matplotlib\n",
    "Buatlah visualisasi menggunakan bar chart untuk membandingkan jumlah kasus asli dan prediksi\n",
    "pada hari ke-365 dengan warna maroon!"
   ]
  },
  {
   "cell_type": "code",
   "execution_count": 47,
   "id": "12880c98",
   "metadata": {},
   "outputs": [
    {
     "data": {
      "image/png": "[encoded data removed]",
      "text/plain": [
       "<Figure size 640x480 with 1 Axes>"
      ]
     },
     "metadata": {},
     "output_type": "display_data"
    }
   ],
   "source": [
    "label = ['Data Asli', 'Data Prediksi']\n",
    "value = [df_uk['total_cases'].iloc[364],pred_y[364]]\n",
    "\n",
    "plt.bar(label,value, color='maroon')\n",
    "plt.show()"
   ]
  },
  {
   "cell_type": "code",
   "execution_count": null,
   "id": "367e77fc",
   "metadata": {},
   "outputs": [],
   "source": []
  },
  {
   "cell_type": "code",
   "execution_count": 49,
   "id": "1772f0be",
   "metadata": {},
   "outputs": [
    {
     "name": "stdout",
     "output_type": "stream",
     "text": [
      "5\n",
      "4\n",
      "3\n"
     ]
    }
   ],
   "source": [
    "var1 = 5\n",
    "while var1>2:\n",
    "    print(var1)\n",
    "    var1-=1"
   ]
  },
  {
   "cell_type": "code",
   "execution_count": 50,
   "id": "7edfb598",
   "metadata": {},
   "outputs": [
    {
     "name": "stdout",
     "output_type": "stream",
     "text": [
      "riau\n"
     ]
    }
   ],
   "source": [
    "Provinsi = ['aceh','bengkulu','riau']\n",
    "for i in range(2,len(Provinsi)):\n",
    "    print(Provinsi[2])"
   ]
  },
  {
   "cell_type": "code",
   "execution_count": 51,
   "id": "9a7f1678",
   "metadata": {},
   "outputs": [
    {
     "name": "stdout",
     "output_type": "stream",
     "text": [
      "99\n"
     ]
    }
   ],
   "source": [
    "var1,var2=99,100\n",
    "print(var1)"
   ]
  },
  {
   "cell_type": "code",
   "execution_count": null,
   "id": "e87a63e1",
   "metadata": {},
   "outputs": [],
   "source": [
    "var1=np.arange(5,10)\n",
    "var2-=var1**2\n",
    "var3=var1**3"
   ]
  },
  {
   "cell_type": "code",
   "execution_count": null,
   "id": "690f7d43",
   "metadata": {},
   "outputs": [],
   "source": []
  },
  {
   "cell_type": "code",
   "execution_count": null,
   "id": "1be8f47a",
   "metadata": {},
   "outputs": [],
   "source": []
  },
  {
   "cell_type": "code",
   "execution_count": 57,
   "id": "a19dd76c",
   "metadata": {},
   "outputs": [
    {
     "name": "stdout",
     "output_type": "stream",
     "text": [
      "harga=300000000\n",
      "diskon 300000000\n"
     ]
    }
   ],
   "source": [
    "var1=int(input(\"harga=\"))\n",
    "if var1>2000000:\n",
    "    print(\"diskon\",var1)\n",
    "else:\n",
    "    print(\"harganorma\",var1)"
   ]
  },
  {
   "cell_type": "code",
   "execution_count": 55,
   "id": "32978b05",
   "metadata": {},
   "outputs": [],
   "source": [
    "var1=['pi','sal','jer']\n",
    "var2= [6,8,4]"
   ]
  },
  {
   "cell_type": "code",
   "execution_count": 56,
   "id": "632165db",
   "metadata": {},
   "outputs": [],
   "source": [
    "plt.show()"
   ]
  },
  {
   "cell_type": "code",
   "execution_count": null,
   "id": "476774fc",
   "metadata": {},
   "outputs": [],
   "source": []
  }
 ],
 "metadata": {
  "kernelspec": {
   "display_name": "Python 3 (ipykernel)",
   "language": "python",
   "name": "python3"
  },
  "language_info": {
   "codemirror_mode": {
    "name": "ipython",
    "version": 3
   },
   "file_extension": ".py",
   "mimetype": "text/x-python",
   "name": "python",
   "nbconvert_exporter": "python",
   "pygments_lexer": "ipython3",
   "version": "3.10.8"
  }
 },
 "nbformat": 4,
 "nbformat_minor": 5
}
