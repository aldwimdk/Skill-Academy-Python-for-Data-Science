{
 "cells": [
  {
   "cell_type": "code",
   "execution_count": 1,
   "id": "cad7143c",
   "metadata": {},
   "outputs": [],
   "source": [
    "#Inisialisasi\n",
    "Nama_buku_1=\"Fisika\"\n",
    "Nama_buku_2=\"Kimia\"\n",
    "Nama_buku_3=\"Biologi\"\n",
    "durasi=3"
   ]
  },
  {
   "cell_type": "code",
   "execution_count": 2,
   "id": "a6c0022d",
   "metadata": {},
   "outputs": [
    {
     "data": {
      "text/plain": [
       "(str, str, str, int)"
      ]
     },
     "execution_count": 2,
     "metadata": {},
     "output_type": "execute_result"
    }
   ],
   "source": [
    "type(Nama_buku_1),type(Nama_buku_2),type(Nama_buku_3), type(durasi)"
   ]
  },
  {
   "cell_type": "code",
   "execution_count": 3,
   "id": "3231a007",
   "metadata": {},
   "outputs": [],
   "source": [
    "kode_buku_1=\"PS_001\"\n",
    "kode_buku_2=\"PS_002\"\n",
    "kode_buku_3=\"PS_003\""
   ]
  },
  {
   "cell_type": "code",
   "execution_count": 4,
   "id": "7c7067ac",
   "metadata": {},
   "outputs": [],
   "source": [
    "N_buku_1=N_buku_2=N_buku_3=10"
   ]
  },
  {
   "cell_type": "code",
   "execution_count": 5,
   "id": "b63e566a",
   "metadata": {},
   "outputs": [
    {
     "data": {
      "text/plain": [
       "int"
      ]
     },
     "execution_count": 5,
     "metadata": {},
     "output_type": "execute_result"
    }
   ],
   "source": [
    "type(N_buku_1)"
   ]
  },
  {
   "cell_type": "code",
   "execution_count": 6,
   "id": "82294b19",
   "metadata": {},
   "outputs": [],
   "source": [
    "Nama_buku=(Nama_buku_1,Nama_buku_2,Nama_buku_3)\n",
    "Kode_buku=[kode_buku_1,kode_buku_2,kode_buku_3]\n",
    "N_buku=[N_buku_1, N_buku_2, N_buku_3]"
   ]
  },
  {
   "cell_type": "code",
   "execution_count": 7,
   "id": "9f9822a2",
   "metadata": {},
   "outputs": [
    {
     "data": {
      "text/plain": [
       "(tuple, list, list)"
      ]
     },
     "execution_count": 7,
     "metadata": {},
     "output_type": "execute_result"
    }
   ],
   "source": [
    "type(Nama_buku), type(Kode_buku), type(N_buku)"
   ]
  },
  {
   "cell_type": "code",
   "execution_count": 8,
   "id": "c4005437",
   "metadata": {},
   "outputs": [],
   "source": [
    "pustaka={\"Nama\":Nama_buku,\n",
    "         \"Kode\":Kode_buku,\n",
    "         \"Jumlah\":N_buku}"
   ]
  },
  {
   "cell_type": "code",
   "execution_count": 9,
   "id": "98ea34b8",
   "metadata": {},
   "outputs": [
    {
     "data": {
      "text/plain": [
       "dict"
      ]
     },
     "execution_count": 9,
     "metadata": {},
     "output_type": "execute_result"
    }
   ],
   "source": [
    "type(pustaka)"
   ]
  },
  {
   "cell_type": "code",
   "execution_count": 10,
   "id": "a02f4a02",
   "metadata": {},
   "outputs": [
    {
     "data": {
      "text/plain": [
       "{'Nama': ('Fisika', 'Kimia', 'Biologi'),\n",
       " 'Kode': ['PS_001', 'PS_002', 'PS_003'],\n",
       " 'Jumlah': [10, 10, 10]}"
      ]
     },
     "execution_count": 10,
     "metadata": {},
     "output_type": "execute_result"
    }
   ],
   "source": [
    "pustaka"
   ]
  },
  {
   "cell_type": "code",
   "execution_count": 11,
   "id": "62f2eed7",
   "metadata": {},
   "outputs": [],
   "source": [
    "Nama_buku=[Nama_buku_1,Nama_buku_2,Nama_buku_3]\n",
    "pustaka={\"Nama\":Nama_buku,\n",
    "         \"Kode\":Kode_buku,\n",
    "         \"Jumlah\":N_buku}\n"
   ]
  },
  {
   "cell_type": "code",
   "execution_count": 12,
   "id": "81bbf211",
   "metadata": {},
   "outputs": [
    {
     "data": {
      "text/plain": [
       "{'Nama': ['Fisika', 'Kimia', 'Biologi'],\n",
       " 'Kode': ['PS_001', 'PS_002', 'PS_003'],\n",
       " 'Jumlah': [10, 10, 10]}"
      ]
     },
     "execution_count": 12,
     "metadata": {},
     "output_type": "execute_result"
    }
   ],
   "source": [
    "pustaka"
   ]
  },
  {
   "cell_type": "code",
   "execution_count": 13,
   "id": "c8afb76f",
   "metadata": {},
   "outputs": [
    {
     "name": "stdout",
     "output_type": "stream",
     "text": [
      "Buku Seni dengan jumlah 15\n"
     ]
    }
   ],
   "source": [
    "pustaka['Nama'].append('Seni')\n",
    "pustaka['Kode'].append('PS_004')\n",
    "pustaka['Jumlah'].append(15)\n",
    "print(\"Buku {} dengan jumlah {}\".format(pustaka[\"Nama\"][-1],\n",
    "                                        pustaka['Jumlah'][-1]))"
   ]
  },
  {
   "cell_type": "code",
   "execution_count": 14,
   "id": "7218771c",
   "metadata": {},
   "outputs": [
    {
     "data": {
      "text/plain": [
       "{'Nama': ['Fisika', 'Kimia', 'Biologi', 'Seni'],\n",
       " 'Kode': ['PS_001', 'PS_002', 'PS_003', 'PS_004'],\n",
       " 'Jumlah': [10, 10, 10, 15]}"
      ]
     },
     "execution_count": 14,
     "metadata": {},
     "output_type": "execute_result"
    }
   ],
   "source": [
    "pustaka"
   ]
  },
  {
   "cell_type": "code",
   "execution_count": 15,
   "id": "a3f76f8e",
   "metadata": {},
   "outputs": [
    {
     "name": "stdout",
     "output_type": "stream",
     "text": [
      "Buku yang tersedia:\n",
      "Nama Buku\t Kode Buku\t Jumlah\n",
      "Buku Fisika\t kode PS_001\t 10\n",
      "Buku Kimia\t kode PS_002\t 10\n",
      "Buku Biologi\t kode PS_003\t 10\n",
      "Buku Seni\t kode PS_004\t 15\n"
     ]
    }
   ],
   "source": [
    "print(\"Buku yang tersedia:\")\n",
    "print(\"Nama Buku\\t Kode Buku\\t Jumlah\")\n",
    "for i in range(len(pustaka['Nama'])):\n",
    "    print(\"Buku {}\\t kode {}\\t {}\".format(\n",
    "        pustaka['Nama'][i],\n",
    "        pustaka['Kode'][i],\n",
    "        pustaka['Jumlah'][i]))"
   ]
  },
  {
   "cell_type": "code",
   "execution_count": 16,
   "id": "1dca3c13",
   "metadata": {},
   "outputs": [
    {
     "name": "stdout",
     "output_type": "stream",
     "text": [
      "Form Peminjaman\n",
      "Nama Peminjam =ali\n",
      "Kode Buku= PS_004\n",
      "Bisa pinjam\n",
      "Durasi waktu pinjam 3 hari\n"
     ]
    }
   ],
   "source": [
    "print(\"Form Peminjaman\")\n",
    "varNama=str(input(\"Nama Peminjam =\"))\n",
    "varBuku=str(input(\"Kode Buku= \"))\n",
    "for i in range(len(pustaka['Kode'])):\n",
    "    if varBuku==pustaka['Kode'][i] and pustaka['Jumlah'][i]>1:\n",
    "        print(\"Bisa pinjam\".format(varNama))\n",
    "        print(\"Durasi waktu pinjam {} hari\".format(durasi))\n",
    "        pustaka['Jumlah'][i]-=1\n",
    "        break\n",
    "    elif i==len(pustaka['Kode'])-1:\n",
    "        print(\"Tidak bisa dipinjam\")"
   ]
  },
  {
   "cell_type": "code",
   "execution_count": 17,
   "id": "71b247dc",
   "metadata": {},
   "outputs": [
    {
     "name": "stdout",
     "output_type": "stream",
     "text": [
      "Form Pengembalian\n",
      "Nama Peminjam\t=ali\n",
      "Kode Buku\t=PS_004\n",
      "Jumlah Hari\t=600\n",
      "Terima kasih, ali\n",
      "Denda sebesar Rp.597000\n"
     ]
    }
   ],
   "source": [
    "print(\"Form Pengembalian\")\n",
    "varNama=str(input(\"Nama Peminjam\\t=\"))\n",
    "varBuku=str(input(\"Kode Buku\\t=\"))\n",
    "varHari=int(input(\"Jumlah Hari\\t=\"))\n",
    "for i in range(len(pustaka['Kode'])):\n",
    "    if varBuku==pustaka['Kode'][i]:\n",
    "        if varHari>=durasi:\n",
    "            denda=(varHari-durasi)*1000\n",
    "            print(\"Terima kasih, {}\\nDenda sebesar Rp.{}\".format(varNama,denda))\n",
    "            pustaka['Jumlah'][i]+=1\n",
    "            break\n",
    "        else:\n",
    "            print(\"Terima kasih,{}\".format(varNama))\n",
    "            pustaka['Jumlah'][i]+=1\n",
    "            break\n",
    "    elif i==len(pustaka['Kode'])-1:\n",
    "        print(\"Salah kode\")"
   ]
  },
  {
   "cell_type": "code",
   "execution_count": 18,
   "id": "50ce1d9b",
   "metadata": {},
   "outputs": [
    {
     "data": {
      "text/plain": [
       "{'Nama': ['Fisika', 'Kimia', 'Biologi', 'Seni'],\n",
       " 'Kode': ['PS_001', 'PS_002', 'PS_003', 'PS_004'],\n",
       " 'Jumlah': [10, 10, 10, 15]}"
      ]
     },
     "execution_count": 18,
     "metadata": {},
     "output_type": "execute_result"
    }
   ],
   "source": [
    "pustaka"
   ]
  },
  {
   "cell_type": "code",
   "execution_count": 19,
   "id": "da08bb97",
   "metadata": {},
   "outputs": [],
   "source": [
    "def Data_terakhir():\n",
    "    print(\"Buku yang tersedia\")\n",
    "    print(\"Nama Buku\\t Kode Buku\\t Jumlah\")\n",
    "    for i in range(len(pustaka['Nama'])):\n",
    "        print(\"Buku {}\\t kode {}\\t {}\".format(\n",
    "            pustaka['Nama'][i],\n",
    "            pustaka['Kode'][i],\n",
    "            pustaka['Jumlah'][i]))"
   ]
  },
  {
   "cell_type": "code",
   "execution_count": 20,
   "id": "ed5c624b",
   "metadata": {},
   "outputs": [
    {
     "name": "stdout",
     "output_type": "stream",
     "text": [
      "Buku yang tersedia\n",
      "Nama Buku\t Kode Buku\t Jumlah\n",
      "Buku Fisika\t kode PS_001\t 10\n",
      "Buku Kimia\t kode PS_002\t 10\n",
      "Buku Biologi\t kode PS_003\t 10\n",
      "Buku Seni\t kode PS_004\t 15\n"
     ]
    }
   ],
   "source": [
    "Data_terakhir()"
   ]
  },
  {
   "cell_type": "code",
   "execution_count": 21,
   "id": "e9e43408",
   "metadata": {},
   "outputs": [],
   "source": [
    "def peminjaman():\n",
    "    print(\"Form Peminjaman\")\n",
    "    varNama=str(input(\"Nama Peminjam =\"))\n",
    "    varBuku=str(input(\"Kode Buku= \"))\n",
    "    for i in range(len(pustaka['Kode'])):\n",
    "        if varBuku==pustaka['Kode'][i] and pustaka['Jumlah'][i]>1:\n",
    "            print(\"Bisa pinjam\".format(varNama))\n",
    "            print(\"Durasi waktu pinjam {} hari\".format(durasi))\n",
    "            pustaka['Jumlah'][i]-=1\n",
    "            break\n",
    "        elif i==len(pustaka['Kode'])-1:\n",
    "            print(\"Tidak bisa dipinjam\")"
   ]
  },
  {
   "cell_type": "code",
   "execution_count": 22,
   "id": "af00751d",
   "metadata": {},
   "outputs": [
    {
     "name": "stdout",
     "output_type": "stream",
     "text": [
      "Form Peminjaman\n",
      "Nama Peminjam =ali\n",
      "Kode Buku= PS_004\n",
      "Bisa pinjam\n",
      "Durasi waktu pinjam 3 hari\n"
     ]
    }
   ],
   "source": [
    "peminjaman()"
   ]
  },
  {
   "cell_type": "code",
   "execution_count": 23,
   "id": "9270b4d7",
   "metadata": {},
   "outputs": [
    {
     "name": "stdout",
     "output_type": "stream",
     "text": [
      "Buku yang tersedia\n",
      "Nama Buku\t Kode Buku\t Jumlah\n",
      "Buku Fisika\t kode PS_001\t 10\n",
      "Buku Kimia\t kode PS_002\t 10\n",
      "Buku Biologi\t kode PS_003\t 10\n",
      "Buku Seni\t kode PS_004\t 14\n"
     ]
    }
   ],
   "source": [
    "Data_terakhir()"
   ]
  },
  {
   "cell_type": "code",
   "execution_count": 24,
   "id": "53013359",
   "metadata": {},
   "outputs": [],
   "source": [
    "def pengembalian(pustaka=pustaka):\n",
    "    print(\"Form Pengembalian\")\n",
    "    varNama=str(input(\"Nama Peminjam\\t=\"))\n",
    "    varBuku=str(input(\"Kode Buku\\t=\"))\n",
    "    varHari=int(input(\"Jumlah Hari\\t=\"))\n",
    "    for i in range(len(pustaka['Kode'])):\n",
    "        if varBuku==pustaka['Kode'][i]:\n",
    "            if varHari>=durasi:\n",
    "                denda=(varHari-durasi)*1000\n",
    "                print(\"Terima kasih, {}\\nDenda sebesar Rp.{}\".format(varNama,denda))\n",
    "                pustaka['Jumlah'][i]+=1\n",
    "                break\n",
    "            else:\n",
    "                print(\"Terima kasih,{}\".format(varNama,denda))\n",
    "                pustaka['Jumlah'][i]+=1\n",
    "                break\n",
    "        elif i==len(pustaka['Kode'])-1:\n",
    "            print(\"Salah kode\")"
   ]
  },
  {
   "cell_type": "code",
   "execution_count": 25,
   "id": "1197926c",
   "metadata": {},
   "outputs": [
    {
     "name": "stdout",
     "output_type": "stream",
     "text": [
      "Form Pengembalian\n",
      "Nama Peminjam\t=ali\n",
      "Kode Buku\t=PS_004\n",
      "Jumlah Hari\t=800\n",
      "Terima kasih, ali\n",
      "Denda sebesar Rp.797000\n"
     ]
    }
   ],
   "source": [
    "pengembalian()"
   ]
  },
  {
   "cell_type": "code",
   "execution_count": 26,
   "id": "6662e55f",
   "metadata": {},
   "outputs": [],
   "source": [
    "def tambah_buku(varBuku,varKode,varJumlah):\n",
    "    for i in range(len(pustaka['Kode'])):\n",
    "        if varKode==pustaka['Kode'][i]:\n",
    "            pustaka['Jumlah'][i]+=varJumlah\n",
    "            print(\"Buku {} dengan Jumlah {}\".format(pustaka[\"Nama\"][i],\n",
    "                                                    pustaka['Jumlah'][i]))\n",
    "            break\n",
    "    else:\n",
    "        pustaka['Nama'].append(varBuku)\n",
    "        pustaka['Kode'].append(varKode)\n",
    "        pustaka['Jumlah'].append(varJumlah)\n",
    "        \n",
    "        print(\"Buku Baru {} dengan Jumlah {}\".format(pustaka[\"Nama\"][-1],\n",
    "                                                     pustaka['Jumlah'][-1]))"
   ]
  },
  {
   "cell_type": "code",
   "execution_count": 27,
   "id": "cec7d47b",
   "metadata": {},
   "outputs": [
    {
     "name": "stdout",
     "output_type": "stream",
     "text": [
      "Buku Seni dengan Jumlah 22\n"
     ]
    }
   ],
   "source": [
    "Judul=\"Seni\"\n",
    "Kode=\"PS_004\"\n",
    "Jumlah=7\n",
    "tambah_buku(Judul,Kode,Jumlah)"
   ]
  },
  {
   "cell_type": "code",
   "execution_count": 28,
   "id": "cf7bbd91",
   "metadata": {},
   "outputs": [
    {
     "name": "stdout",
     "output_type": "stream",
     "text": [
      "Buku yang tersedia\n",
      "Nama Buku\t Kode Buku\t Jumlah\n",
      "Buku Fisika\t kode PS_001\t 10\n",
      "Buku Kimia\t kode PS_002\t 10\n",
      "Buku Biologi\t kode PS_003\t 10\n",
      "Buku Seni\t kode PS_004\t 22\n"
     ]
    }
   ],
   "source": [
    "Data_terakhir()"
   ]
  },
  {
   "cell_type": "code",
   "execution_count": 29,
   "id": "95f8aea9",
   "metadata": {},
   "outputs": [
    {
     "name": "stdout",
     "output_type": "stream",
     "text": [
      "Buku Baru Sastra dengan Jumlah 5\n"
     ]
    }
   ],
   "source": [
    "Judul=\"Sastra\"\n",
    "Kode=\"PS_005\"\n",
    "Jumlah=5\n",
    "tambah_buku(Judul,Kode,Jumlah)"
   ]
  },
  {
   "cell_type": "code",
   "execution_count": 30,
   "id": "8d35837b",
   "metadata": {},
   "outputs": [
    {
     "name": "stdout",
     "output_type": "stream",
     "text": [
      "Buku yang tersedia\n",
      "Nama Buku\t Kode Buku\t Jumlah\n",
      "Buku Fisika\t kode PS_001\t 10\n",
      "Buku Kimia\t kode PS_002\t 10\n",
      "Buku Biologi\t kode PS_003\t 10\n",
      "Buku Seni\t kode PS_004\t 22\n",
      "Buku Sastra\t kode PS_005\t 5\n"
     ]
    }
   ],
   "source": [
    "Data_terakhir()"
   ]
  },
  {
   "cell_type": "code",
   "execution_count": 31,
   "id": "50e27c5b",
   "metadata": {},
   "outputs": [
    {
     "data": {
      "text/html": [
       "<div>\n",
       "<style scoped>\n",
       "    .dataframe tbody tr th:only-of-type {\n",
       "        vertical-align: middle;\n",
       "    }\n",
       "\n",
       "    .dataframe tbody tr th {\n",
       "        vertical-align: top;\n",
       "    }\n",
       "\n",
       "    .dataframe thead th {\n",
       "        text-align: right;\n",
       "    }\n",
       "</style>\n",
       "<table border=\"1\" class=\"dataframe\">\n",
       "  <thead>\n",
       "    <tr style=\"text-align: right;\">\n",
       "      <th></th>\n",
       "      <th>Nama</th>\n",
       "      <th>Kode</th>\n",
       "      <th>Jumlah</th>\n",
       "    </tr>\n",
       "  </thead>\n",
       "  <tbody>\n",
       "    <tr>\n",
       "      <th>0</th>\n",
       "      <td>Fisika</td>\n",
       "      <td>PS_001</td>\n",
       "      <td>10</td>\n",
       "    </tr>\n",
       "    <tr>\n",
       "      <th>1</th>\n",
       "      <td>Kimia</td>\n",
       "      <td>PS_002</td>\n",
       "      <td>10</td>\n",
       "    </tr>\n",
       "    <tr>\n",
       "      <th>2</th>\n",
       "      <td>Biologi</td>\n",
       "      <td>PS_003</td>\n",
       "      <td>10</td>\n",
       "    </tr>\n",
       "    <tr>\n",
       "      <th>3</th>\n",
       "      <td>Seni</td>\n",
       "      <td>PS_004</td>\n",
       "      <td>22</td>\n",
       "    </tr>\n",
       "    <tr>\n",
       "      <th>4</th>\n",
       "      <td>Sastra</td>\n",
       "      <td>PS_005</td>\n",
       "      <td>5</td>\n",
       "    </tr>\n",
       "  </tbody>\n",
       "</table>\n",
       "</div>"
      ],
      "text/plain": [
       "      Nama    Kode  Jumlah\n",
       "0   Fisika  PS_001      10\n",
       "1    Kimia  PS_002      10\n",
       "2  Biologi  PS_003      10\n",
       "3     Seni  PS_004      22\n",
       "4   Sastra  PS_005       5"
      ]
     },
     "execution_count": 31,
     "metadata": {},
     "output_type": "execute_result"
    }
   ],
   "source": [
    "import pandas as pd\n",
    "df=pd.DataFrame(pustaka)\n",
    "df"
   ]
  },
  {
   "cell_type": "code",
   "execution_count": 32,
   "id": "dbce6aec",
   "metadata": {},
   "outputs": [
    {
     "data": {
      "text/plain": [
       "5"
      ]
     },
     "execution_count": 32,
     "metadata": {},
     "output_type": "execute_result"
    }
   ],
   "source": [
    "len(df)"
   ]
  },
  {
   "cell_type": "code",
   "execution_count": 33,
   "id": "97798e82",
   "metadata": {},
   "outputs": [],
   "source": [
    "def peminjaman_df(durasi=durasi):\n",
    "    print(\"Form Peminjaman\")\n",
    "    varNama=str(input(\"Nama Peminjam =\"))\n",
    "    varBuku=str(input(\"Kode Buku= \"))\n",
    "    for i in range(len(df)):\n",
    "        if (varBuku==df['Kode'].iloc[i] and df['Jumlah'].iloc[i]>1):\n",
    "            print(\"Bisa pinjam {}\".format(varNama))\n",
    "            print(\"Durasi waktu pinjam {} hari\".format(durasi))\n",
    "            df.at[i,'Jumlah']-=1\n",
    "            return df\n",
    "            break\n",
    "        elif i==len(df):\n",
    "            print(\"Tidak bisa dipinjam\")\n",
    "        \n",
    "def pengembalian_df(durasi=durasi):\n",
    "    print(\"Form Pengembalian\")\n",
    "    varNama=str(input(\"Nama Peminjam\\t=\"))\n",
    "    varBuku=str(input(\"Kode Buku\\t=\"))\n",
    "    varHari=int(input(\"Jumlah Hari\\t=\"))\n",
    "    for i in range(len(df)):\n",
    "        if varBuku==df['Kode'].iloc[i]:\n",
    "            if varHari>=durasi:\n",
    "                denda=(varHari-durasi)*1000\n",
    "                print(\"Terima kasih, {}\\nDenda sebesar Rp.{}\".format(varNama,denda))\n",
    "                df.at[i,'Jumlah']+=1\n",
    "                return df\n",
    "                break\n",
    "            else:\n",
    "                print(\"Terima kasih,{}\".format(varNama))\n",
    "                varBar=df['Jumlah'].iloc[i]\n",
    "                df.at[i,'Jumlah']+=1\n",
    "                return df\n",
    "                break\n",
    "        elif i==len(df)-1:\n",
    "            print(\"Salah kode\")"
   ]
  },
  {
   "cell_type": "code",
   "execution_count": 34,
   "id": "0640ea64",
   "metadata": {},
   "outputs": [],
   "source": [
    "def tambah_buku_df(varBuku,varKode,varJumlah):\n",
    "    for i in range(len(df)):\n",
    "        if varKode==df['Kode'].iloc[i]:\n",
    "            df.at[i,'Jumlah']+=varJumlah\n",
    "            return df\n",
    "            print(\"Buku {} dengan Jumlah {}\".format(df[\"Nama\"].iloc[i],\n",
    "                                                    df['Jumlah'].iloc[i]))\n",
    "            break\n",
    "        else:\n",
    "            var1={\"Nama\":varBuku,\n",
    "                  \"Kode\":varKode,\n",
    "                  \"Jumlah\":varJumlah}\n",
    "            df=df.append(var1, ignore_index=True)\n",
    "            print(\"Buku Baru {} dengan Jumlah {}\".format(df[\"Nama\"].iloc[-1],\n",
    "                                                         df['Jumlah'].iloc[-1]))\n",
    "    return df"
   ]
  },
  {
   "cell_type": "code",
   "execution_count": 35,
   "id": "f8f886ae",
   "metadata": {},
   "outputs": [
    {
     "data": {
      "text/html": [
       "<div>\n",
       "<style scoped>\n",
       "    .dataframe tbody tr th:only-of-type {\n",
       "        vertical-align: middle;\n",
       "    }\n",
       "\n",
       "    .dataframe tbody tr th {\n",
       "        vertical-align: top;\n",
       "    }\n",
       "\n",
       "    .dataframe thead th {\n",
       "        text-align: right;\n",
       "    }\n",
       "</style>\n",
       "<table border=\"1\" class=\"dataframe\">\n",
       "  <thead>\n",
       "    <tr style=\"text-align: right;\">\n",
       "      <th></th>\n",
       "      <th>Nama</th>\n",
       "      <th>Kode</th>\n",
       "      <th>Jumlah</th>\n",
       "    </tr>\n",
       "  </thead>\n",
       "  <tbody>\n",
       "    <tr>\n",
       "      <th>0</th>\n",
       "      <td>Fisika</td>\n",
       "      <td>PS_001</td>\n",
       "      <td>10</td>\n",
       "    </tr>\n",
       "    <tr>\n",
       "      <th>1</th>\n",
       "      <td>Kimia</td>\n",
       "      <td>PS_002</td>\n",
       "      <td>10</td>\n",
       "    </tr>\n",
       "    <tr>\n",
       "      <th>2</th>\n",
       "      <td>Biologi</td>\n",
       "      <td>PS_003</td>\n",
       "      <td>10</td>\n",
       "    </tr>\n",
       "    <tr>\n",
       "      <th>3</th>\n",
       "      <td>Seni</td>\n",
       "      <td>PS_004</td>\n",
       "      <td>22</td>\n",
       "    </tr>\n",
       "    <tr>\n",
       "      <th>4</th>\n",
       "      <td>Sastra</td>\n",
       "      <td>PS_005</td>\n",
       "      <td>5</td>\n",
       "    </tr>\n",
       "  </tbody>\n",
       "</table>\n",
       "</div>"
      ],
      "text/plain": [
       "      Nama    Kode  Jumlah\n",
       "0   Fisika  PS_001      10\n",
       "1    Kimia  PS_002      10\n",
       "2  Biologi  PS_003      10\n",
       "3     Seni  PS_004      22\n",
       "4   Sastra  PS_005       5"
      ]
     },
     "execution_count": 35,
     "metadata": {},
     "output_type": "execute_result"
    }
   ],
   "source": [
    "df"
   ]
  },
  {
   "cell_type": "code",
   "execution_count": 36,
   "id": "95ac6bfe",
   "metadata": {},
   "outputs": [
    {
     "name": "stdout",
     "output_type": "stream",
     "text": [
      "Form Peminjaman\n",
      "Nama Peminjam =ali\n",
      "Kode Buku= PS_004\n",
      "Bisa pinjam ali\n",
      "Durasi waktu pinjam 3 hari\n"
     ]
    },
    {
     "data": {
      "text/html": [
       "<div>\n",
       "<style scoped>\n",
       "    .dataframe tbody tr th:only-of-type {\n",
       "        vertical-align: middle;\n",
       "    }\n",
       "\n",
       "    .dataframe tbody tr th {\n",
       "        vertical-align: top;\n",
       "    }\n",
       "\n",
       "    .dataframe thead th {\n",
       "        text-align: right;\n",
       "    }\n",
       "</style>\n",
       "<table border=\"1\" class=\"dataframe\">\n",
       "  <thead>\n",
       "    <tr style=\"text-align: right;\">\n",
       "      <th></th>\n",
       "      <th>Nama</th>\n",
       "      <th>Kode</th>\n",
       "      <th>Jumlah</th>\n",
       "    </tr>\n",
       "  </thead>\n",
       "  <tbody>\n",
       "    <tr>\n",
       "      <th>0</th>\n",
       "      <td>Fisika</td>\n",
       "      <td>PS_001</td>\n",
       "      <td>10</td>\n",
       "    </tr>\n",
       "    <tr>\n",
       "      <th>1</th>\n",
       "      <td>Kimia</td>\n",
       "      <td>PS_002</td>\n",
       "      <td>10</td>\n",
       "    </tr>\n",
       "    <tr>\n",
       "      <th>2</th>\n",
       "      <td>Biologi</td>\n",
       "      <td>PS_003</td>\n",
       "      <td>10</td>\n",
       "    </tr>\n",
       "    <tr>\n",
       "      <th>3</th>\n",
       "      <td>Seni</td>\n",
       "      <td>PS_004</td>\n",
       "      <td>21</td>\n",
       "    </tr>\n",
       "    <tr>\n",
       "      <th>4</th>\n",
       "      <td>Sastra</td>\n",
       "      <td>PS_005</td>\n",
       "      <td>5</td>\n",
       "    </tr>\n",
       "  </tbody>\n",
       "</table>\n",
       "</div>"
      ],
      "text/plain": [
       "      Nama    Kode  Jumlah\n",
       "0   Fisika  PS_001      10\n",
       "1    Kimia  PS_002      10\n",
       "2  Biologi  PS_003      10\n",
       "3     Seni  PS_004      21\n",
       "4   Sastra  PS_005       5"
      ]
     },
     "execution_count": 36,
     "metadata": {},
     "output_type": "execute_result"
    }
   ],
   "source": [
    "df=peminjaman_df()\n",
    "df"
   ]
  },
  {
   "cell_type": "code",
   "execution_count": 37,
   "id": "2f81a09d",
   "metadata": {},
   "outputs": [],
   "source": [
    "def tambah_buku_df(varBuku,varKode,varJumlah,df=df):\n",
    "    for i in range(len(df)):\n",
    "        if varKode==df['Kode'].iloc[i]:\n",
    "            df.at[i,'Jumlah']+=varJumlah\n",
    "            return df\n",
    "            print(\"Buku {} dengan Jumlah {}\".format(df[\"Nama\"].iloc[i],\n",
    "                                                    df['Jumlah'].iloc[i]))\n",
    "            break\n",
    "    else:\n",
    "        var1={\"Nama\":varBuku,\n",
    "              \"Kode\":varKode,\n",
    "              \"Jumlah\":varJumlah}\n",
    "        df=df.append(var1, ignore_index=True)\n",
    "        print(\"Buku Baru {} dengan Jumlah {}\".format(df[\"Nama\"].iloc[-1],\n",
    "                                                     df['Jumlah'].iloc[-1]))\n",
    "    return df"
   ]
  },
  {
   "cell_type": "code",
   "execution_count": 38,
   "id": "9fc704d3",
   "metadata": {},
   "outputs": [
    {
     "data": {
      "text/html": [
       "<div>\n",
       "<style scoped>\n",
       "    .dataframe tbody tr th:only-of-type {\n",
       "        vertical-align: middle;\n",
       "    }\n",
       "\n",
       "    .dataframe tbody tr th {\n",
       "        vertical-align: top;\n",
       "    }\n",
       "\n",
       "    .dataframe thead th {\n",
       "        text-align: right;\n",
       "    }\n",
       "</style>\n",
       "<table border=\"1\" class=\"dataframe\">\n",
       "  <thead>\n",
       "    <tr style=\"text-align: right;\">\n",
       "      <th></th>\n",
       "      <th>Nama</th>\n",
       "      <th>Kode</th>\n",
       "      <th>Jumlah</th>\n",
       "    </tr>\n",
       "  </thead>\n",
       "  <tbody>\n",
       "    <tr>\n",
       "      <th>0</th>\n",
       "      <td>Fisika</td>\n",
       "      <td>PS_001</td>\n",
       "      <td>10</td>\n",
       "    </tr>\n",
       "    <tr>\n",
       "      <th>1</th>\n",
       "      <td>Kimia</td>\n",
       "      <td>PS_002</td>\n",
       "      <td>10</td>\n",
       "    </tr>\n",
       "    <tr>\n",
       "      <th>2</th>\n",
       "      <td>Biologi</td>\n",
       "      <td>PS_003</td>\n",
       "      <td>10</td>\n",
       "    </tr>\n",
       "    <tr>\n",
       "      <th>3</th>\n",
       "      <td>Seni</td>\n",
       "      <td>PS_004</td>\n",
       "      <td>21</td>\n",
       "    </tr>\n",
       "    <tr>\n",
       "      <th>4</th>\n",
       "      <td>Sastra</td>\n",
       "      <td>PS_005</td>\n",
       "      <td>5</td>\n",
       "    </tr>\n",
       "  </tbody>\n",
       "</table>\n",
       "</div>"
      ],
      "text/plain": [
       "      Nama    Kode  Jumlah\n",
       "0   Fisika  PS_001      10\n",
       "1    Kimia  PS_002      10\n",
       "2  Biologi  PS_003      10\n",
       "3     Seni  PS_004      21\n",
       "4   Sastra  PS_005       5"
      ]
     },
     "execution_count": 38,
     "metadata": {},
     "output_type": "execute_result"
    }
   ],
   "source": [
    "df"
   ]
  },
  {
   "cell_type": "code",
   "execution_count": 39,
   "id": "a2e3fd50",
   "metadata": {},
   "outputs": [],
   "source": [
    "Judul=\"Astronomi\"\n",
    "Kode=\"PS_006\"\n",
    "Jumlah=5"
   ]
  },
  {
   "cell_type": "code",
   "execution_count": 40,
   "id": "4e4819b3",
   "metadata": {},
   "outputs": [
    {
     "name": "stdout",
     "output_type": "stream",
     "text": [
      "Buku Baru Astronomi dengan Jumlah 5\n"
     ]
    },
    {
     "name": "stderr",
     "output_type": "stream",
     "text": [
      "C:\\Users\\user\\AppData\\Local\\Temp\\ipykernel_912\\3433950982.py:13: FutureWarning: The frame.append method is deprecated and will be removed from pandas in a future version. Use pandas.concat instead.\n",
      "  df=df.append(var1, ignore_index=True)\n"
     ]
    },
    {
     "data": {
      "text/html": [
       "<div>\n",
       "<style scoped>\n",
       "    .dataframe tbody tr th:only-of-type {\n",
       "        vertical-align: middle;\n",
       "    }\n",
       "\n",
       "    .dataframe tbody tr th {\n",
       "        vertical-align: top;\n",
       "    }\n",
       "\n",
       "    .dataframe thead th {\n",
       "        text-align: right;\n",
       "    }\n",
       "</style>\n",
       "<table border=\"1\" class=\"dataframe\">\n",
       "  <thead>\n",
       "    <tr style=\"text-align: right;\">\n",
       "      <th></th>\n",
       "      <th>Nama</th>\n",
       "      <th>Kode</th>\n",
       "      <th>Jumlah</th>\n",
       "    </tr>\n",
       "  </thead>\n",
       "  <tbody>\n",
       "    <tr>\n",
       "      <th>0</th>\n",
       "      <td>Fisika</td>\n",
       "      <td>PS_001</td>\n",
       "      <td>10</td>\n",
       "    </tr>\n",
       "    <tr>\n",
       "      <th>1</th>\n",
       "      <td>Kimia</td>\n",
       "      <td>PS_002</td>\n",
       "      <td>10</td>\n",
       "    </tr>\n",
       "    <tr>\n",
       "      <th>2</th>\n",
       "      <td>Biologi</td>\n",
       "      <td>PS_003</td>\n",
       "      <td>10</td>\n",
       "    </tr>\n",
       "    <tr>\n",
       "      <th>3</th>\n",
       "      <td>Seni</td>\n",
       "      <td>PS_004</td>\n",
       "      <td>21</td>\n",
       "    </tr>\n",
       "    <tr>\n",
       "      <th>4</th>\n",
       "      <td>Sastra</td>\n",
       "      <td>PS_005</td>\n",
       "      <td>5</td>\n",
       "    </tr>\n",
       "    <tr>\n",
       "      <th>5</th>\n",
       "      <td>Astronomi</td>\n",
       "      <td>PS_006</td>\n",
       "      <td>5</td>\n",
       "    </tr>\n",
       "  </tbody>\n",
       "</table>\n",
       "</div>"
      ],
      "text/plain": [
       "        Nama    Kode  Jumlah\n",
       "0     Fisika  PS_001      10\n",
       "1      Kimia  PS_002      10\n",
       "2    Biologi  PS_003      10\n",
       "3       Seni  PS_004      21\n",
       "4     Sastra  PS_005       5\n",
       "5  Astronomi  PS_006       5"
      ]
     },
     "execution_count": 40,
     "metadata": {},
     "output_type": "execute_result"
    }
   ],
   "source": [
    "df=tambah_buku_df(Judul,Kode,Jumlah)\n",
    "df"
   ]
  },
  {
   "cell_type": "code",
   "execution_count": null,
   "id": "a69679fe",
   "metadata": {},
   "outputs": [],
   "source": []
  },
  {
   "cell_type": "code",
   "execution_count": 43,
   "id": "b1175e74",
   "metadata": {},
   "outputs": [],
   "source": [
    "df['Pinjam']=np.random.randint(1,7)"
   ]
  },
  {
   "cell_type": "code",
   "execution_count": 44,
   "id": "9c512bed",
   "metadata": {},
   "outputs": [
    {
     "data": {
      "text/html": [
       "<div>\n",
       "<style scoped>\n",
       "    .dataframe tbody tr th:only-of-type {\n",
       "        vertical-align: middle;\n",
       "    }\n",
       "\n",
       "    .dataframe tbody tr th {\n",
       "        vertical-align: top;\n",
       "    }\n",
       "\n",
       "    .dataframe thead th {\n",
       "        text-align: right;\n",
       "    }\n",
       "</style>\n",
       "<table border=\"1\" class=\"dataframe\">\n",
       "  <thead>\n",
       "    <tr style=\"text-align: right;\">\n",
       "      <th></th>\n",
       "      <th>Nama</th>\n",
       "      <th>Kode</th>\n",
       "      <th>Jumlah</th>\n",
       "      <th>Pinjam</th>\n",
       "    </tr>\n",
       "  </thead>\n",
       "  <tbody>\n",
       "    <tr>\n",
       "      <th>0</th>\n",
       "      <td>Fisika</td>\n",
       "      <td>PS_001</td>\n",
       "      <td>10</td>\n",
       "      <td>2</td>\n",
       "    </tr>\n",
       "    <tr>\n",
       "      <th>1</th>\n",
       "      <td>Kimia</td>\n",
       "      <td>PS_002</td>\n",
       "      <td>10</td>\n",
       "      <td>2</td>\n",
       "    </tr>\n",
       "    <tr>\n",
       "      <th>2</th>\n",
       "      <td>Biologi</td>\n",
       "      <td>PS_003</td>\n",
       "      <td>10</td>\n",
       "      <td>2</td>\n",
       "    </tr>\n",
       "    <tr>\n",
       "      <th>3</th>\n",
       "      <td>Seni</td>\n",
       "      <td>PS_004</td>\n",
       "      <td>21</td>\n",
       "      <td>2</td>\n",
       "    </tr>\n",
       "    <tr>\n",
       "      <th>4</th>\n",
       "      <td>Sastra</td>\n",
       "      <td>PS_005</td>\n",
       "      <td>5</td>\n",
       "      <td>2</td>\n",
       "    </tr>\n",
       "    <tr>\n",
       "      <th>5</th>\n",
       "      <td>Astronomi</td>\n",
       "      <td>PS_006</td>\n",
       "      <td>5</td>\n",
       "      <td>2</td>\n",
       "    </tr>\n",
       "  </tbody>\n",
       "</table>\n",
       "</div>"
      ],
      "text/plain": [
       "        Nama    Kode  Jumlah  Pinjam\n",
       "0     Fisika  PS_001      10       2\n",
       "1      Kimia  PS_002      10       2\n",
       "2    Biologi  PS_003      10       2\n",
       "3       Seni  PS_004      21       2\n",
       "4     Sastra  PS_005       5       2\n",
       "5  Astronomi  PS_006       5       2"
      ]
     },
     "execution_count": 44,
     "metadata": {},
     "output_type": "execute_result"
    }
   ],
   "source": [
    "df"
   ]
  },
  {
   "cell_type": "code",
   "execution_count": 45,
   "id": "65cd0fc2",
   "metadata": {},
   "outputs": [
    {
     "data": {
      "text/html": [
       "<div>\n",
       "<style scoped>\n",
       "    .dataframe tbody tr th:only-of-type {\n",
       "        vertical-align: middle;\n",
       "    }\n",
       "\n",
       "    .dataframe tbody tr th {\n",
       "        vertical-align: top;\n",
       "    }\n",
       "\n",
       "    .dataframe thead th {\n",
       "        text-align: right;\n",
       "    }\n",
       "</style>\n",
       "<table border=\"1\" class=\"dataframe\">\n",
       "  <thead>\n",
       "    <tr style=\"text-align: right;\">\n",
       "      <th></th>\n",
       "      <th>Nama</th>\n",
       "      <th>Kode</th>\n",
       "      <th>Jumlah</th>\n",
       "      <th>Pinjam</th>\n",
       "    </tr>\n",
       "  </thead>\n",
       "  <tbody>\n",
       "    <tr>\n",
       "      <th>0</th>\n",
       "      <td>Fisika</td>\n",
       "      <td>PS_001</td>\n",
       "      <td>10</td>\n",
       "      <td>6</td>\n",
       "    </tr>\n",
       "    <tr>\n",
       "      <th>1</th>\n",
       "      <td>Kimia</td>\n",
       "      <td>PS_002</td>\n",
       "      <td>10</td>\n",
       "      <td>2</td>\n",
       "    </tr>\n",
       "    <tr>\n",
       "      <th>2</th>\n",
       "      <td>Biologi</td>\n",
       "      <td>PS_003</td>\n",
       "      <td>10</td>\n",
       "      <td>5</td>\n",
       "    </tr>\n",
       "    <tr>\n",
       "      <th>3</th>\n",
       "      <td>Seni</td>\n",
       "      <td>PS_004</td>\n",
       "      <td>21</td>\n",
       "      <td>3</td>\n",
       "    </tr>\n",
       "    <tr>\n",
       "      <th>4</th>\n",
       "      <td>Sastra</td>\n",
       "      <td>PS_005</td>\n",
       "      <td>5</td>\n",
       "      <td>3</td>\n",
       "    </tr>\n",
       "    <tr>\n",
       "      <th>5</th>\n",
       "      <td>Astronomi</td>\n",
       "      <td>PS_006</td>\n",
       "      <td>5</td>\n",
       "      <td>4</td>\n",
       "    </tr>\n",
       "  </tbody>\n",
       "</table>\n",
       "</div>"
      ],
      "text/plain": [
       "        Nama    Kode  Jumlah  Pinjam\n",
       "0     Fisika  PS_001      10       6\n",
       "1      Kimia  PS_002      10       2\n",
       "2    Biologi  PS_003      10       5\n",
       "3       Seni  PS_004      21       3\n",
       "4     Sastra  PS_005       5       3\n",
       "5  Astronomi  PS_006       5       4"
      ]
     },
     "execution_count": 45,
     "metadata": {},
     "output_type": "execute_result"
    }
   ],
   "source": [
    "df['Pinjam']=np.random.randint(1,7,len(df))\n",
    "df"
   ]
  },
  {
   "cell_type": "code",
   "execution_count": 48,
   "id": "667cec41",
   "metadata": {},
   "outputs": [],
   "source": [
    "def peminjaman_df(durasi=durasi):\n",
    "    print(\"Form Peminjaman\")\n",
    "    varNama=str(input(\"Nama Peminjam =\"))\n",
    "    varBuku=str(input(\"Kode Buku= \"))\n",
    "    for i in range(len(df)):\n",
    "        if (varBuku==df['Kode'].iloc[i] and df['Jumlah'][i]>1):\n",
    "            print(\"Bisa pinjam {}\".format(varNama))\n",
    "            print(\"Durasi waktu pinjam {} hari\".format(durasi))\n",
    "            df.at[i,'Jumlah']-=1\n",
    "            df.at[i,'Pinjam']+=1\n",
    "            return df\n",
    "            break\n",
    "        elif i==len(df)-1:\n",
    "            print(\"Tidak bisa dipinjam\")"
   ]
  },
  {
   "cell_type": "code",
   "execution_count": 49,
   "id": "8ae3fba6",
   "metadata": {},
   "outputs": [],
   "source": [
    "def pengembalian_df(durasi=durasi):\n",
    "    print(\"Form Pengembalian\")\n",
    "    varNama=str(input(\"Nama Peminjam\\t=\"))\n",
    "    varBuku=str(input(\"Kode Buku\\t=\"))\n",
    "    varHari=int(input(\"Jumlah Hari\\t=\"))\n",
    "    for i in range(len(df)):\n",
    "        if varBuku==df['Kode'].iloc[i]:\n",
    "            if varHari>=durasi:\n",
    "                denda=(varHari-durasi)*1000\n",
    "                print(\"Terima kasih, {}\\nDenda sebesar Rp.{}\".format(varNama,denda))\n",
    "                df.at[i,'Jumlah']+=1\n",
    "                df.at[i,'Pinjam']-=1\n",
    "                return df\n",
    "                break\n",
    "            else:\n",
    "                print(\"Terima kasih,{}\".format(varNama))\n",
    "                varBar=df['Jumlah'].iloc[i]\n",
    "                df.at[i,'Jumlah']+=1\n",
    "                df.at[i,'Pinjam']-=1\n",
    "                return df\n",
    "                break\n",
    "        elif i==len(df)-1: \n",
    "            print(\"Salah kode\")"
   ]
  },
  {
   "cell_type": "code",
   "execution_count": 50,
   "id": "d0d3443a",
   "metadata": {},
   "outputs": [
    {
     "data": {
      "text/html": [
       "<div>\n",
       "<style scoped>\n",
       "    .dataframe tbody tr th:only-of-type {\n",
       "        vertical-align: middle;\n",
       "    }\n",
       "\n",
       "    .dataframe tbody tr th {\n",
       "        vertical-align: top;\n",
       "    }\n",
       "\n",
       "    .dataframe thead th {\n",
       "        text-align: right;\n",
       "    }\n",
       "</style>\n",
       "<table border=\"1\" class=\"dataframe\">\n",
       "  <thead>\n",
       "    <tr style=\"text-align: right;\">\n",
       "      <th></th>\n",
       "      <th>Nama</th>\n",
       "      <th>Kode</th>\n",
       "      <th>Jumlah</th>\n",
       "      <th>Pinjam</th>\n",
       "    </tr>\n",
       "  </thead>\n",
       "  <tbody>\n",
       "    <tr>\n",
       "      <th>0</th>\n",
       "      <td>Fisika</td>\n",
       "      <td>PS_001</td>\n",
       "      <td>10</td>\n",
       "      <td>6</td>\n",
       "    </tr>\n",
       "    <tr>\n",
       "      <th>1</th>\n",
       "      <td>Kimia</td>\n",
       "      <td>PS_002</td>\n",
       "      <td>10</td>\n",
       "      <td>2</td>\n",
       "    </tr>\n",
       "    <tr>\n",
       "      <th>2</th>\n",
       "      <td>Biologi</td>\n",
       "      <td>PS_003</td>\n",
       "      <td>10</td>\n",
       "      <td>5</td>\n",
       "    </tr>\n",
       "    <tr>\n",
       "      <th>3</th>\n",
       "      <td>Seni</td>\n",
       "      <td>PS_004</td>\n",
       "      <td>21</td>\n",
       "      <td>3</td>\n",
       "    </tr>\n",
       "    <tr>\n",
       "      <th>4</th>\n",
       "      <td>Sastra</td>\n",
       "      <td>PS_005</td>\n",
       "      <td>5</td>\n",
       "      <td>3</td>\n",
       "    </tr>\n",
       "    <tr>\n",
       "      <th>5</th>\n",
       "      <td>Astronomi</td>\n",
       "      <td>PS_006</td>\n",
       "      <td>5</td>\n",
       "      <td>4</td>\n",
       "    </tr>\n",
       "  </tbody>\n",
       "</table>\n",
       "</div>"
      ],
      "text/plain": [
       "        Nama    Kode  Jumlah  Pinjam\n",
       "0     Fisika  PS_001      10       6\n",
       "1      Kimia  PS_002      10       2\n",
       "2    Biologi  PS_003      10       5\n",
       "3       Seni  PS_004      21       3\n",
       "4     Sastra  PS_005       5       3\n",
       "5  Astronomi  PS_006       5       4"
      ]
     },
     "execution_count": 50,
     "metadata": {},
     "output_type": "execute_result"
    }
   ],
   "source": [
    "df"
   ]
  },
  {
   "cell_type": "code",
   "execution_count": 51,
   "id": "86a7d60e",
   "metadata": {},
   "outputs": [
    {
     "name": "stdout",
     "output_type": "stream",
     "text": [
      "Form Peminjaman\n",
      "Nama Peminjam =ali\n",
      "Kode Buku= PS_003\n",
      "Bisa pinjam ali\n",
      "Durasi waktu pinjam 3 hari\n"
     ]
    }
   ],
   "source": [
    "df=peminjaman_df()"
   ]
  },
  {
   "cell_type": "code",
   "execution_count": 52,
   "id": "174ef961",
   "metadata": {},
   "outputs": [
    {
     "data": {
      "text/html": [
       "<div>\n",
       "<style scoped>\n",
       "    .dataframe tbody tr th:only-of-type {\n",
       "        vertical-align: middle;\n",
       "    }\n",
       "\n",
       "    .dataframe tbody tr th {\n",
       "        vertical-align: top;\n",
       "    }\n",
       "\n",
       "    .dataframe thead th {\n",
       "        text-align: right;\n",
       "    }\n",
       "</style>\n",
       "<table border=\"1\" class=\"dataframe\">\n",
       "  <thead>\n",
       "    <tr style=\"text-align: right;\">\n",
       "      <th></th>\n",
       "      <th>Nama</th>\n",
       "      <th>Kode</th>\n",
       "      <th>Jumlah</th>\n",
       "      <th>Pinjam</th>\n",
       "    </tr>\n",
       "  </thead>\n",
       "  <tbody>\n",
       "    <tr>\n",
       "      <th>0</th>\n",
       "      <td>Fisika</td>\n",
       "      <td>PS_001</td>\n",
       "      <td>10</td>\n",
       "      <td>6</td>\n",
       "    </tr>\n",
       "    <tr>\n",
       "      <th>1</th>\n",
       "      <td>Kimia</td>\n",
       "      <td>PS_002</td>\n",
       "      <td>10</td>\n",
       "      <td>2</td>\n",
       "    </tr>\n",
       "    <tr>\n",
       "      <th>2</th>\n",
       "      <td>Biologi</td>\n",
       "      <td>PS_003</td>\n",
       "      <td>9</td>\n",
       "      <td>6</td>\n",
       "    </tr>\n",
       "    <tr>\n",
       "      <th>3</th>\n",
       "      <td>Seni</td>\n",
       "      <td>PS_004</td>\n",
       "      <td>21</td>\n",
       "      <td>3</td>\n",
       "    </tr>\n",
       "    <tr>\n",
       "      <th>4</th>\n",
       "      <td>Sastra</td>\n",
       "      <td>PS_005</td>\n",
       "      <td>5</td>\n",
       "      <td>3</td>\n",
       "    </tr>\n",
       "    <tr>\n",
       "      <th>5</th>\n",
       "      <td>Astronomi</td>\n",
       "      <td>PS_006</td>\n",
       "      <td>5</td>\n",
       "      <td>4</td>\n",
       "    </tr>\n",
       "  </tbody>\n",
       "</table>\n",
       "</div>"
      ],
      "text/plain": [
       "        Nama    Kode  Jumlah  Pinjam\n",
       "0     Fisika  PS_001      10       6\n",
       "1      Kimia  PS_002      10       2\n",
       "2    Biologi  PS_003       9       6\n",
       "3       Seni  PS_004      21       3\n",
       "4     Sastra  PS_005       5       3\n",
       "5  Astronomi  PS_006       5       4"
      ]
     },
     "execution_count": 52,
     "metadata": {},
     "output_type": "execute_result"
    }
   ],
   "source": [
    "df"
   ]
  },
  {
   "cell_type": "code",
   "execution_count": 53,
   "id": "bbd0fd74",
   "metadata": {},
   "outputs": [
    {
     "name": "stdout",
     "output_type": "stream",
     "text": [
      "Form Pengembalian\n",
      "Nama Peminjam\t=ali\n",
      "Kode Buku\t=PS_003\n",
      "Jumlah Hari\t=1000\n",
      "Terima kasih, ali\n",
      "Denda sebesar Rp.997000\n"
     ]
    }
   ],
   "source": [
    "df=pengembalian_df()"
   ]
  },
  {
   "cell_type": "code",
   "execution_count": 54,
   "id": "ca431e8d",
   "metadata": {},
   "outputs": [
    {
     "data": {
      "text/html": [
       "<div>\n",
       "<style scoped>\n",
       "    .dataframe tbody tr th:only-of-type {\n",
       "        vertical-align: middle;\n",
       "    }\n",
       "\n",
       "    .dataframe tbody tr th {\n",
       "        vertical-align: top;\n",
       "    }\n",
       "\n",
       "    .dataframe thead th {\n",
       "        text-align: right;\n",
       "    }\n",
       "</style>\n",
       "<table border=\"1\" class=\"dataframe\">\n",
       "  <thead>\n",
       "    <tr style=\"text-align: right;\">\n",
       "      <th></th>\n",
       "      <th>Nama</th>\n",
       "      <th>Kode</th>\n",
       "      <th>Jumlah</th>\n",
       "      <th>Pinjam</th>\n",
       "    </tr>\n",
       "  </thead>\n",
       "  <tbody>\n",
       "    <tr>\n",
       "      <th>0</th>\n",
       "      <td>Fisika</td>\n",
       "      <td>PS_001</td>\n",
       "      <td>10</td>\n",
       "      <td>6</td>\n",
       "    </tr>\n",
       "    <tr>\n",
       "      <th>1</th>\n",
       "      <td>Kimia</td>\n",
       "      <td>PS_002</td>\n",
       "      <td>10</td>\n",
       "      <td>2</td>\n",
       "    </tr>\n",
       "    <tr>\n",
       "      <th>2</th>\n",
       "      <td>Biologi</td>\n",
       "      <td>PS_003</td>\n",
       "      <td>10</td>\n",
       "      <td>5</td>\n",
       "    </tr>\n",
       "    <tr>\n",
       "      <th>3</th>\n",
       "      <td>Seni</td>\n",
       "      <td>PS_004</td>\n",
       "      <td>21</td>\n",
       "      <td>3</td>\n",
       "    </tr>\n",
       "    <tr>\n",
       "      <th>4</th>\n",
       "      <td>Sastra</td>\n",
       "      <td>PS_005</td>\n",
       "      <td>5</td>\n",
       "      <td>3</td>\n",
       "    </tr>\n",
       "    <tr>\n",
       "      <th>5</th>\n",
       "      <td>Astronomi</td>\n",
       "      <td>PS_006</td>\n",
       "      <td>5</td>\n",
       "      <td>4</td>\n",
       "    </tr>\n",
       "  </tbody>\n",
       "</table>\n",
       "</div>"
      ],
      "text/plain": [
       "        Nama    Kode  Jumlah  Pinjam\n",
       "0     Fisika  PS_001      10       6\n",
       "1      Kimia  PS_002      10       2\n",
       "2    Biologi  PS_003      10       5\n",
       "3       Seni  PS_004      21       3\n",
       "4     Sastra  PS_005       5       3\n",
       "5  Astronomi  PS_006       5       4"
      ]
     },
     "execution_count": 54,
     "metadata": {},
     "output_type": "execute_result"
    }
   ],
   "source": [
    "df"
   ]
  },
  {
   "cell_type": "markdown",
   "id": "5289eca6",
   "metadata": {},
   "source": [
    "### Plot"
   ]
  },
  {
   "cell_type": "code",
   "execution_count": 55,
   "id": "706a6de7",
   "metadata": {},
   "outputs": [
    {
     "data": {
      "image/png": "[encoded data removed]",
      "text/plain": [
       "<Figure size 640x480 with 1 Axes>"
      ]
     },
     "metadata": {},
     "output_type": "display_data"
    }
   ],
   "source": [
    "import matplotlib.pyplot as plt\n",
    "import numpy as np\n",
    "\n",
    "plt.title(\"Ketersediaan Buku\") \n",
    "pjgLabel=np.arange(len(df)) \n",
    "lbr=0.5 \n",
    "varLabel=df['Nama'].values \n",
    "varJumlah=df['Jumlah'].values \n",
    "varPinjam=df['Pinjam'].values \n",
    "plt.bar(pjgLabel,varJumlah, color='gold',width=lbr, label=\"Jumlah\")\n",
    "plt.bar(pjgLabel+lbr,varPinjam, color='red',width=lbr, label=\"Pinjam\")\n",
    "plt.legend(loc='best')\n",
    "plt.show()\n"
   ]
  },
  {
   "cell_type": "code",
   "execution_count": 56,
   "id": "9aff028f",
   "metadata": {},
   "outputs": [
    {
     "data": {
      "image/png": "[encoded data removed]",
      "text/plain": [
       "<Figure size 640x480 with 1 Axes>"
      ]
     },
     "metadata": {},
     "output_type": "display_data"
    }
   ],
   "source": [
    "plt.title(\"Persentase Ketersediaan Buku\")\n",
    "plt.pie(varJumlah,labels=varLabel, autopct='%1.2f%%',shadow=True)\n",
    "plt.show()\n"
   ]
  },
  {
   "cell_type": "code",
   "execution_count": 57,
   "id": "33fb6980",
   "metadata": {},
   "outputs": [
    {
     "data": {
      "image/png": "[encoded data removed]",
      "text/plain": [
       "<Figure size 640x480 with 1 Axes>"
      ]
     },
     "metadata": {},
     "output_type": "display_data"
    }
   ],
   "source": [
    "plt.title(\"Persentase Peminjaman Buku\")\n",
    "plt.pie(varJumlah,labels=varLabel, autopct='%1.2f%%')\n",
    "plt.show()"
   ]
  },
  {
   "cell_type": "code",
   "execution_count": null,
   "id": "1e0f9a3c",
   "metadata": {},
   "outputs": [],
   "source": []
  }
 ],
 "metadata": {
  "kernelspec": {
   "display_name": "Python 3 (ipykernel)",
   "language": "python",
   "name": "python3"
  },
  "language_info": {
   "codemirror_mode": {
    "name": "ipython",
    "version": 3
   },
   "file_extension": ".py",
   "mimetype": "text/x-python",
   "name": "python",
   "nbconvert_exporter": "python",
   "pygments_lexer": "ipython3",
   "version": "3.10.8"
  }
 },
 "nbformat": 4,
 "nbformat_minor": 5
}
