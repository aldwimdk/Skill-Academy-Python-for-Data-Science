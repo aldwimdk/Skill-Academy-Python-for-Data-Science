{
 "cells": [
  {
   "cell_type": "markdown",
   "id": "ca9188ea",
   "metadata": {},
   "source": [
    "# Basic Python 1"
   ]
  },
  {
   "cell_type": "markdown",
   "id": "d6602621",
   "metadata": {},
   "source": [
    "## Variabel"
   ]
  },
  {
   "cell_type": "code",
   "execution_count": 2,
   "id": "a2310d82",
   "metadata": {},
   "outputs": [],
   "source": [
    "text = \"Hola\"\n",
    "bulat = 6\n",
    "pecah = 5.5\n",
    "multi = [4,5, \"Brian\"]"
   ]
  },
  {
   "cell_type": "code",
   "execution_count": 3,
   "id": "3ad472ae",
   "metadata": {},
   "outputs": [
    {
     "name": "stdout",
     "output_type": "stream",
     "text": [
      "Hola\n"
     ]
    }
   ],
   "source": [
    "print(text)"
   ]
  },
  {
   "cell_type": "code",
   "execution_count": 4,
   "id": "ac9d374a",
   "metadata": {},
   "outputs": [
    {
     "name": "stdout",
     "output_type": "stream",
     "text": [
      "6\n"
     ]
    }
   ],
   "source": [
    "print(bulat)"
   ]
  },
  {
   "cell_type": "code",
   "execution_count": 5,
   "id": "88292fe8",
   "metadata": {},
   "outputs": [
    {
     "name": "stdout",
     "output_type": "stream",
     "text": [
      "5.5\n"
     ]
    }
   ],
   "source": [
    "print(pecah)"
   ]
  },
  {
   "cell_type": "code",
   "execution_count": 6,
   "id": "2f8951c9",
   "metadata": {},
   "outputs": [
    {
     "name": "stdout",
     "output_type": "stream",
     "text": [
      "[4, 5, 'Brian']\n"
     ]
    }
   ],
   "source": [
    "print(multi)"
   ]
  },
  {
   "cell_type": "code",
   "execution_count": 7,
   "id": "2c5b64f5",
   "metadata": {},
   "outputs": [
    {
     "name": "stdout",
     "output_type": "stream",
     "text": [
      "Hola Brian\n"
     ]
    }
   ],
   "source": [
    "nama = \"Brian\"\n",
    "print(text+\" \"+nama)"
   ]
  },
  {
   "cell_type": "code",
   "execution_count": 8,
   "id": "e16d03ac",
   "metadata": {},
   "outputs": [
    {
     "name": "stdout",
     "output_type": "stream",
     "text": [
      "Hola, Selamat Datang Brian.\n"
     ]
    }
   ],
   "source": [
    "print(\"{}, Selamat Datang {}.\".format(text,nama))"
   ]
  },
  {
   "cell_type": "markdown",
   "id": "99f070d3",
   "metadata": {},
   "source": [
    "### Mengisi Beberapa Variabel"
   ]
  },
  {
   "cell_type": "code",
   "execution_count": 9,
   "id": "f9fc8205",
   "metadata": {},
   "outputs": [
    {
     "name": "stdout",
     "output_type": "stream",
     "text": [
      "5\n",
      "6\n",
      "Guru\n"
     ]
    }
   ],
   "source": [
    "var1, var2, var3 = 5,6,\"Guru\"\n",
    "print(var1)\n",
    "print(var2)\n",
    "print(var3)"
   ]
  },
  {
   "cell_type": "code",
   "execution_count": 11,
   "id": "b6b793d6",
   "metadata": {},
   "outputs": [
    {
     "name": "stdout",
     "output_type": "stream",
     "text": [
      "10\n",
      "10\n",
      "10\n"
     ]
    }
   ],
   "source": [
    "var1 = var2 = var3 = 10\n",
    "print(var1)\n",
    "print(var2)\n",
    "print(var3)"
   ]
  },
  {
   "cell_type": "markdown",
   "id": "721c9bca",
   "metadata": {},
   "source": [
    "### Operator Aritmatika"
   ]
  },
  {
   "cell_type": "code",
   "execution_count": 13,
   "id": "e4ab6e01",
   "metadata": {},
   "outputs": [
    {
     "data": {
      "text/plain": [
       "15"
      ]
     },
     "execution_count": 13,
     "metadata": {},
     "output_type": "execute_result"
    }
   ],
   "source": [
    "5+10"
   ]
  },
  {
   "cell_type": "code",
   "execution_count": 16,
   "id": "53ea1bc6",
   "metadata": {},
   "outputs": [
    {
     "name": "stdout",
     "output_type": "stream",
     "text": [
      "15\n"
     ]
    }
   ],
   "source": [
    "var1 = 5\n",
    "var2 = 10\n",
    "vart_t = var1+var2\n",
    "print(vart_t)"
   ]
  },
  {
   "cell_type": "code",
   "execution_count": 17,
   "id": "5abc481e",
   "metadata": {},
   "outputs": [
    {
     "name": "stdout",
     "output_type": "stream",
     "text": [
      "-5\n"
     ]
    }
   ],
   "source": [
    "var1 = 5\n",
    "var2 = 10\n",
    "vart_t = var1-var2\n",
    "print(vart_t)"
   ]
  },
  {
   "cell_type": "code",
   "execution_count": 18,
   "id": "52ce51c7",
   "metadata": {},
   "outputs": [
    {
     "name": "stdout",
     "output_type": "stream",
     "text": [
      "54\n"
     ]
    }
   ],
   "source": [
    "var1 = 6\n",
    "var2 = 9\n",
    "vart_t = var1*var2\n",
    "print(vart_t)"
   ]
  },
  {
   "cell_type": "code",
   "execution_count": 19,
   "id": "5916fe68",
   "metadata": {},
   "outputs": [
    {
     "name": "stdout",
     "output_type": "stream",
     "text": [
      "0.6666666666666666\n"
     ]
    }
   ],
   "source": [
    "var1 = 6\n",
    "var2 = 9\n",
    "vart_t = var1/var2\n",
    "print(vart_t)"
   ]
  },
  {
   "cell_type": "code",
   "execution_count": 23,
   "id": "867292b2",
   "metadata": {},
   "outputs": [
    {
     "name": "stdout",
     "output_type": "stream",
     "text": [
      "3\n"
     ]
    }
   ],
   "source": [
    "var1 = 10\n",
    "var2 = 7\n",
    "vart_t = var1%var2\n",
    "print(vart_t)"
   ]
  },
  {
   "cell_type": "code",
   "execution_count": 24,
   "id": "9e23e3a3",
   "metadata": {},
   "outputs": [
    {
     "name": "stdout",
     "output_type": "stream",
     "text": [
      "3\n"
     ]
    }
   ],
   "source": [
    "var1 = 10\n",
    "var2 = 3\n",
    "vart_t = var1//var2\n",
    "print(vart_t)"
   ]
  },
  {
   "cell_type": "code",
   "execution_count": 25,
   "id": "25a99d80",
   "metadata": {},
   "outputs": [
    {
     "name": "stdout",
     "output_type": "stream",
     "text": [
      "8\n"
     ]
    }
   ],
   "source": [
    "var1 = 2\n",
    "var2 = 3\n",
    "vart_t = var1**var2\n",
    "print(vart_t)"
   ]
  },
  {
   "cell_type": "markdown",
   "id": "515c2f78",
   "metadata": {},
   "source": [
    "### Update Angka Variabel Dari Operator"
   ]
  },
  {
   "cell_type": "code",
   "execution_count": 26,
   "id": "c448e880",
   "metadata": {},
   "outputs": [
    {
     "name": "stdout",
     "output_type": "stream",
     "text": [
      "15\n"
     ]
    }
   ],
   "source": [
    "var1 = 5\n",
    "var1+=10\n",
    "print(var1)"
   ]
  },
  {
   "cell_type": "code",
   "execution_count": 27,
   "id": "e0ea7a90",
   "metadata": {},
   "outputs": [
    {
     "name": "stdout",
     "output_type": "stream",
     "text": [
      "90\n"
     ]
    }
   ],
   "source": [
    "var1 = 100\n",
    "var1-=14\n",
    "print(var1)"
   ]
  },
  {
   "cell_type": "code",
   "execution_count": 28,
   "id": "f6027a0d",
   "metadata": {},
   "outputs": [
    {
     "name": "stdout",
     "output_type": "stream",
     "text": [
      "1400\n"
     ]
    }
   ],
   "source": [
    "var1 = 100\n",
    "var1*=14\n",
    "print(var1)"
   ]
  },
  {
   "cell_type": "code",
   "execution_count": 29,
   "id": "2a5f30dc",
   "metadata": {},
   "outputs": [
    {
     "name": "stdout",
     "output_type": "stream",
     "text": [
      "7.142857142857143\n"
     ]
    }
   ],
   "source": [
    "var1 = 100\n",
    "var1/=14\n",
    "print(var1)"
   ]
  },
  {
   "cell_type": "code",
   "execution_count": 30,
   "id": "5c1adbea",
   "metadata": {},
   "outputs": [
    {
     "name": "stdout",
     "output_type": "stream",
     "text": [
      "2\n"
     ]
    }
   ],
   "source": [
    "var1 = 100\n",
    "var1%=14\n",
    "print(var1)"
   ]
  },
  {
   "cell_type": "markdown",
   "id": "3342127a",
   "metadata": {},
   "source": [
    "### Operator Perbandingan"
   ]
  },
  {
   "cell_type": "code",
   "execution_count": 31,
   "id": "a1c6999c",
   "metadata": {},
   "outputs": [
    {
     "name": "stdout",
     "output_type": "stream",
     "text": [
      "False\n"
     ]
    }
   ],
   "source": [
    "var1, var2 = 2,3\n",
    "print(var1==var2)"
   ]
  },
  {
   "cell_type": "code",
   "execution_count": 32,
   "id": "c594cfe2",
   "metadata": {},
   "outputs": [
    {
     "name": "stdout",
     "output_type": "stream",
     "text": [
      "True\n"
     ]
    }
   ],
   "source": [
    "print(2==2)"
   ]
  },
  {
   "cell_type": "code",
   "execution_count": 33,
   "id": "bc39e7c5",
   "metadata": {},
   "outputs": [
    {
     "name": "stdout",
     "output_type": "stream",
     "text": [
      "True\n"
     ]
    }
   ],
   "source": [
    "var1, var2 = 2,3\n",
    "print(var1!=var2)"
   ]
  },
  {
   "cell_type": "code",
   "execution_count": 34,
   "id": "99189602",
   "metadata": {},
   "outputs": [
    {
     "name": "stdout",
     "output_type": "stream",
     "text": [
      "False\n"
     ]
    }
   ],
   "source": [
    "var1, var2 = 2,3\n",
    "print(var1>var2)"
   ]
  },
  {
   "cell_type": "code",
   "execution_count": 35,
   "id": "d5e13c66",
   "metadata": {},
   "outputs": [
    {
     "name": "stdout",
     "output_type": "stream",
     "text": [
      "True\n"
     ]
    }
   ],
   "source": [
    "var1, var2 = 2,3\n",
    "print(var1<var2)"
   ]
  },
  {
   "cell_type": "code",
   "execution_count": 36,
   "id": "69bae860",
   "metadata": {},
   "outputs": [
    {
     "name": "stdout",
     "output_type": "stream",
     "text": [
      "False\n"
     ]
    }
   ],
   "source": [
    "var1 = var2 = 3 \n",
    "print(var1<var2)"
   ]
  },
  {
   "cell_type": "code",
   "execution_count": null,
   "id": "582accfe",
   "metadata": {},
   "outputs": [],
   "source": [
    "var1 = var2 = 3 \n",
    "print(var1<var2)"
   ]
  },
  {
   "cell_type": "code",
   "execution_count": 37,
   "id": "1ecda7c2",
   "metadata": {},
   "outputs": [
    {
     "name": "stdout",
     "output_type": "stream",
     "text": [
      "True\n"
     ]
    }
   ],
   "source": [
    "print(var1<=var2)"
   ]
  },
  {
   "cell_type": "code",
   "execution_count": 38,
   "id": "7c455241",
   "metadata": {},
   "outputs": [
    {
     "name": "stdout",
     "output_type": "stream",
     "text": [
      "True\n"
     ]
    }
   ],
   "source": [
    "print(var1>=var2)"
   ]
  },
  {
   "cell_type": "markdown",
   "id": "538eb5ce",
   "metadata": {},
   "source": [
    "### Operator Logika"
   ]
  },
  {
   "cell_type": "code",
   "execution_count": 39,
   "id": "34756541",
   "metadata": {},
   "outputs": [
    {
     "name": "stdout",
     "output_type": "stream",
     "text": [
      "False\n"
     ]
    }
   ],
   "source": [
    "var1 = True\n",
    "var2 = False\n",
    "var3 = True\n",
    "print(True and False)"
   ]
  },
  {
   "cell_type": "code",
   "execution_count": 40,
   "id": "17dbf470",
   "metadata": {},
   "outputs": [
    {
     "name": "stdout",
     "output_type": "stream",
     "text": [
      "False\n"
     ]
    }
   ],
   "source": [
    "print(var1 and var2)"
   ]
  },
  {
   "cell_type": "code",
   "execution_count": 41,
   "id": "344204ed",
   "metadata": {},
   "outputs": [
    {
     "name": "stdout",
     "output_type": "stream",
     "text": [
      "True\n"
     ]
    }
   ],
   "source": [
    "print(var1 and var3)"
   ]
  },
  {
   "cell_type": "code",
   "execution_count": 45,
   "id": "1735b188",
   "metadata": {},
   "outputs": [
    {
     "name": "stdout",
     "output_type": "stream",
     "text": [
      "True\n"
     ]
    }
   ],
   "source": [
    "print(var1 or var2)"
   ]
  },
  {
   "cell_type": "code",
   "execution_count": 44,
   "id": "f3980444",
   "metadata": {},
   "outputs": [
    {
     "name": "stdout",
     "output_type": "stream",
     "text": [
      "False\n"
     ]
    }
   ],
   "source": [
    "print(var2 or var2)"
   ]
  },
  {
   "cell_type": "code",
   "execution_count": 46,
   "id": "4b2883dc",
   "metadata": {},
   "outputs": [
    {
     "name": "stdout",
     "output_type": "stream",
     "text": [
      "True\n"
     ]
    }
   ],
   "source": [
    "print(var1)"
   ]
  },
  {
   "cell_type": "code",
   "execution_count": 47,
   "id": "506b63aa",
   "metadata": {},
   "outputs": [
    {
     "name": "stdout",
     "output_type": "stream",
     "text": [
      "False\n"
     ]
    }
   ],
   "source": [
    "print(not var1)"
   ]
  },
  {
   "cell_type": "markdown",
   "id": "355e7253",
   "metadata": {},
   "source": [
    "### Tipe Data dan Konversi"
   ]
  },
  {
   "cell_type": "code",
   "execution_count": 48,
   "id": "9a2203ae",
   "metadata": {},
   "outputs": [],
   "source": [
    "text = \"Hola\"\n",
    "bulat = 6\n",
    "pecah = 5.5\n",
    "multi = [4,5, \"Brian\"]"
   ]
  },
  {
   "cell_type": "code",
   "execution_count": 49,
   "id": "2f15b5fc",
   "metadata": {},
   "outputs": [
    {
     "data": {
      "text/plain": [
       "str"
      ]
     },
     "execution_count": 49,
     "metadata": {},
     "output_type": "execute_result"
    }
   ],
   "source": [
    "type(text)"
   ]
  },
  {
   "cell_type": "code",
   "execution_count": 50,
   "id": "6e2e82fc",
   "metadata": {},
   "outputs": [
    {
     "data": {
      "text/plain": [
       "int"
      ]
     },
     "execution_count": 50,
     "metadata": {},
     "output_type": "execute_result"
    }
   ],
   "source": [
    "type(bulat)"
   ]
  },
  {
   "cell_type": "code",
   "execution_count": 51,
   "id": "b91796e8",
   "metadata": {},
   "outputs": [
    {
     "data": {
      "text/plain": [
       "float"
      ]
     },
     "execution_count": 51,
     "metadata": {},
     "output_type": "execute_result"
    }
   ],
   "source": [
    "type(pecah)"
   ]
  },
  {
   "cell_type": "code",
   "execution_count": 52,
   "id": "05d49c5e",
   "metadata": {},
   "outputs": [
    {
     "data": {
      "text/plain": [
       "list"
      ]
     },
     "execution_count": 52,
     "metadata": {},
     "output_type": "execute_result"
    }
   ],
   "source": [
    "type(multi)"
   ]
  },
  {
   "cell_type": "code",
   "execution_count": 53,
   "id": "50c40dc8",
   "metadata": {},
   "outputs": [
    {
     "data": {
      "text/plain": [
       "5"
      ]
     },
     "execution_count": 53,
     "metadata": {},
     "output_type": "execute_result"
    }
   ],
   "source": [
    "int(pecah)"
   ]
  },
  {
   "cell_type": "code",
   "execution_count": 54,
   "id": "406cf603",
   "metadata": {},
   "outputs": [
    {
     "data": {
      "text/plain": [
       "5.5"
      ]
     },
     "execution_count": 54,
     "metadata": {},
     "output_type": "execute_result"
    }
   ],
   "source": [
    "pecah"
   ]
  },
  {
   "cell_type": "code",
   "execution_count": 55,
   "id": "ea681a39",
   "metadata": {},
   "outputs": [
    {
     "name": "stdout",
     "output_type": "stream",
     "text": [
      "Hola 5.5\n"
     ]
    }
   ],
   "source": [
    "print(text+ \" \" +str(pecah))"
   ]
  },
  {
   "cell_type": "markdown",
   "id": "10cf6a5a",
   "metadata": {},
   "source": [
    "### Project Perpustakaan"
   ]
  },
  {
   "cell_type": "code",
   "execution_count": 56,
   "id": "b0761b5d",
   "metadata": {},
   "outputs": [],
   "source": [
    "#Inisialisasi\n",
    "Nama_buku_1=\"Fisika\"\n",
    "Nama_buku_2=\"Kimia\"\n",
    "Nama_buku_3=\"Biologi\"\n",
    "durasi=3"
   ]
  },
  {
   "cell_type": "code",
   "execution_count": 57,
   "id": "06c1eddd",
   "metadata": {},
   "outputs": [
    {
     "data": {
      "text/plain": [
       "(str, str, str, int)"
      ]
     },
     "execution_count": 57,
     "metadata": {},
     "output_type": "execute_result"
    }
   ],
   "source": [
    "type(Nama_buku_1),type(Nama_buku_2),type(Nama_buku_3), type(durasi)"
   ]
  },
  {
   "cell_type": "code",
   "execution_count": 58,
   "id": "3fbf99ef",
   "metadata": {},
   "outputs": [],
   "source": [
    "kode_buku_1=\"PS_001\"\n",
    "kode_buku_2=\"PS_002\"\n",
    "kode_buku_3=\"PS_003\""
   ]
  },
  {
   "cell_type": "code",
   "execution_count": 61,
   "id": "6c1706fc",
   "metadata": {},
   "outputs": [
    {
     "data": {
      "text/plain": [
       "(str, str, str)"
      ]
     },
     "execution_count": 61,
     "metadata": {},
     "output_type": "execute_result"
    }
   ],
   "source": [
    "type(kode_buku_1), type(kode_buku_2), type(kode_buku_3)"
   ]
  },
  {
   "cell_type": "code",
   "execution_count": 59,
   "id": "372993a0",
   "metadata": {},
   "outputs": [],
   "source": [
    "N_buku_1=N_buku_2=N_buku_3=10"
   ]
  },
  {
   "cell_type": "code",
   "execution_count": 60,
   "id": "513d7f8b",
   "metadata": {},
   "outputs": [
    {
     "data": {
      "text/plain": [
       "int"
      ]
     },
     "execution_count": 60,
     "metadata": {},
     "output_type": "execute_result"
    }
   ],
   "source": [
    "type(N_buku_1)"
   ]
  },
  {
   "cell_type": "markdown",
   "id": "6423c226",
   "metadata": {},
   "source": [
    "# Basic Python 2"
   ]
  },
  {
   "cell_type": "markdown",
   "id": "9712e659",
   "metadata": {},
   "source": [
    "### List"
   ]
  },
  {
   "cell_type": "code",
   "execution_count": 62,
   "id": "d4769545",
   "metadata": {},
   "outputs": [],
   "source": [
    "Nama_Blackpink = [\"Kim Jisoo\", \"Kim Jennie\", \"Park Chaeyoung\", \"Lalisa Manobal\"]"
   ]
  },
  {
   "cell_type": "code",
   "execution_count": 63,
   "id": "553e2a37",
   "metadata": {},
   "outputs": [
    {
     "data": {
      "text/plain": [
       "['Kim Jisoo', 'Kim Jennie', 'Park Chaeyoung', 'Lalisa Manobal']"
      ]
     },
     "execution_count": 63,
     "metadata": {},
     "output_type": "execute_result"
    }
   ],
   "source": [
    "Nama_Blackpink"
   ]
  },
  {
   "cell_type": "code",
   "execution_count": 64,
   "id": "7685739e",
   "metadata": {},
   "outputs": [
    {
     "data": {
      "text/plain": [
       "list"
      ]
     },
     "execution_count": 64,
     "metadata": {},
     "output_type": "execute_result"
    }
   ],
   "source": [
    "type(Nama_Blackpink)"
   ]
  },
  {
   "cell_type": "code",
   "execution_count": 65,
   "id": "54cd1e7b",
   "metadata": {},
   "outputs": [
    {
     "data": {
      "text/plain": [
       "4"
      ]
     },
     "execution_count": 65,
     "metadata": {},
     "output_type": "execute_result"
    }
   ],
   "source": [
    "len(Nama_Blackpink)"
   ]
  },
  {
   "cell_type": "code",
   "execution_count": 66,
   "id": "6bbce8de",
   "metadata": {},
   "outputs": [
    {
     "name": "stdout",
     "output_type": "stream",
     "text": [
      "Kim Jisoo\n"
     ]
    }
   ],
   "source": [
    "print(Nama_Blackpink[0])"
   ]
  },
  {
   "cell_type": "code",
   "execution_count": 67,
   "id": "c7b84572",
   "metadata": {},
   "outputs": [
    {
     "name": "stdout",
     "output_type": "stream",
     "text": [
      "Kim Jennie\n"
     ]
    }
   ],
   "source": [
    "print(Nama_Blackpink[1])"
   ]
  },
  {
   "cell_type": "code",
   "execution_count": 68,
   "id": "ad1ad778",
   "metadata": {},
   "outputs": [
    {
     "name": "stdout",
     "output_type": "stream",
     "text": [
      "Park Chaeyoung\n"
     ]
    }
   ],
   "source": [
    "print(Nama_Blackpink[2])"
   ]
  },
  {
   "cell_type": "code",
   "execution_count": 69,
   "id": "647ddad5",
   "metadata": {},
   "outputs": [
    {
     "name": "stdout",
     "output_type": "stream",
     "text": [
      "Lalisa Manobal\n"
     ]
    }
   ],
   "source": [
    "print(Nama_Blackpink[3])"
   ]
  },
  {
   "cell_type": "markdown",
   "id": "8a529669",
   "metadata": {},
   "source": [
    "#### Modifikasi (Hapus-Tambah)"
   ]
  },
  {
   "cell_type": "code",
   "execution_count": 70,
   "id": "76e278c7",
   "metadata": {},
   "outputs": [],
   "source": [
    "Nama_Blackpink[3]=\"Lilis\""
   ]
  },
  {
   "cell_type": "code",
   "execution_count": 72,
   "id": "4b306b18",
   "metadata": {},
   "outputs": [],
   "source": [
    "Nama_Blackpink[2]=\"Lastri\""
   ]
  },
  {
   "cell_type": "code",
   "execution_count": 73,
   "id": "ebc07ea2",
   "metadata": {},
   "outputs": [],
   "source": [
    "Nama_Blackpink[1]=\"Jubran\""
   ]
  },
  {
   "cell_type": "code",
   "execution_count": 74,
   "id": "7ade1f31",
   "metadata": {},
   "outputs": [],
   "source": [
    "Nama_Blackpink[0]=\"Oosir\""
   ]
  },
  {
   "cell_type": "code",
   "execution_count": 75,
   "id": "340519b2",
   "metadata": {},
   "outputs": [
    {
     "data": {
      "text/plain": [
       "['Oosir', 'Jubran', 'Lastri', 'Lilis']"
      ]
     },
     "execution_count": 75,
     "metadata": {},
     "output_type": "execute_result"
    }
   ],
   "source": [
    "Nama_Blackpink"
   ]
  },
  {
   "cell_type": "code",
   "execution_count": 76,
   "id": "ad6ef083",
   "metadata": {},
   "outputs": [],
   "source": [
    "Nama_Blackpink.remove(Nama_Blackpink[0])"
   ]
  },
  {
   "cell_type": "code",
   "execution_count": 77,
   "id": "27b96005",
   "metadata": {},
   "outputs": [
    {
     "data": {
      "text/plain": [
       "['Jubran', 'Lastri', 'Lilis']"
      ]
     },
     "execution_count": 77,
     "metadata": {},
     "output_type": "execute_result"
    }
   ],
   "source": [
    "Nama_Blackpink"
   ]
  },
  {
   "cell_type": "code",
   "execution_count": 78,
   "id": "1478a978",
   "metadata": {},
   "outputs": [],
   "source": [
    "Nama_Blackpink.append(\"I'm Jisoo, I'm Okay\")"
   ]
  },
  {
   "cell_type": "code",
   "execution_count": 79,
   "id": "b7d8fa3a",
   "metadata": {},
   "outputs": [
    {
     "data": {
      "text/plain": [
       "['Jubran', 'Lastri', 'Lilis', \"I'm Jisoo, I'm Okay\"]"
      ]
     },
     "execution_count": 79,
     "metadata": {},
     "output_type": "execute_result"
    }
   ],
   "source": [
    "Nama_Blackpink"
   ]
  },
  {
   "cell_type": "markdown",
   "id": "47233adb",
   "metadata": {},
   "source": [
    "### Tuple"
   ]
  },
  {
   "cell_type": "code",
   "execution_count": 80,
   "id": "f76c0c27",
   "metadata": {},
   "outputs": [],
   "source": [
    "Blackpink_Songs = (\"You Never Know\", \"Tally\", \"Pink Venom\", \"Typa Girl\")"
   ]
  },
  {
   "cell_type": "code",
   "execution_count": 81,
   "id": "3c013130",
   "metadata": {},
   "outputs": [
    {
     "data": {
      "text/plain": [
       "tuple"
      ]
     },
     "execution_count": 81,
     "metadata": {},
     "output_type": "execute_result"
    }
   ],
   "source": [
    "type(Blackpink_Songs)"
   ]
  },
  {
   "cell_type": "code",
   "execution_count": 82,
   "id": "400acff3",
   "metadata": {},
   "outputs": [
    {
     "data": {
      "text/plain": [
       "4"
      ]
     },
     "execution_count": 82,
     "metadata": {},
     "output_type": "execute_result"
    }
   ],
   "source": [
    "len(Blackpink_Songs)"
   ]
  },
  {
   "cell_type": "code",
   "execution_count": 83,
   "id": "1703f6c3",
   "metadata": {},
   "outputs": [
    {
     "name": "stdout",
     "output_type": "stream",
     "text": [
      "Typa Girl\n"
     ]
    }
   ],
   "source": [
    "print(Blackpink_Songs[3])"
   ]
  },
  {
   "cell_type": "markdown",
   "id": "1b5908a6",
   "metadata": {},
   "source": [
    "### Dictionary"
   ]
  },
  {
   "cell_type": "code",
   "execution_count": 99,
   "id": "b68bc2a3",
   "metadata": {},
   "outputs": [],
   "source": [
    "Role = {\"Jisoo\":[\"Visual\", \"Lead Vocalist\", \"Eldest\"],\n",
    "       \"Jennie\":[\"Main Rapper\", \"Vocalist\", \"Dancer\"],\n",
    "       \"Rose\":[\"Main Vocalist\",\"Lead Dancer\",\"Bias Wrecker\"],\n",
    "       \"Lisa\":[\"Main Dancer\", \"Lead Rapper\", \"Youngest\"]}"
   ]
  },
  {
   "cell_type": "code",
   "execution_count": 100,
   "id": "5e82500b",
   "metadata": {},
   "outputs": [
    {
     "data": {
      "text/plain": [
       "{'Jisoo': ['Visual', 'Lead Vocalist', 'Eldest'],\n",
       " 'Jennie': ['Main Rapper', 'Vocalist', 'Dancer'],\n",
       " 'Rose': ['Main Vocalist', 'Lead Dancer', 'Bias Wrecker'],\n",
       " 'Lisa': ['Main Dancer', 'Lead Rapper', 'Youngest']}"
      ]
     },
     "execution_count": 100,
     "metadata": {},
     "output_type": "execute_result"
    }
   ],
   "source": [
    "Role"
   ]
  },
  {
   "cell_type": "code",
   "execution_count": 103,
   "id": "2a7c7193",
   "metadata": {},
   "outputs": [
    {
     "data": {
      "text/plain": [
       "dict"
      ]
     },
     "execution_count": 103,
     "metadata": {},
     "output_type": "execute_result"
    }
   ],
   "source": [
    "type(Role)"
   ]
  },
  {
   "cell_type": "code",
   "execution_count": 104,
   "id": "c2eeed0a",
   "metadata": {},
   "outputs": [
    {
     "data": {
      "text/plain": [
       "4"
      ]
     },
     "execution_count": 104,
     "metadata": {},
     "output_type": "execute_result"
    }
   ],
   "source": [
    "len(Role)"
   ]
  },
  {
   "cell_type": "code",
   "execution_count": 105,
   "id": "359c92e0",
   "metadata": {},
   "outputs": [
    {
     "data": {
      "text/plain": [
       "3"
      ]
     },
     "execution_count": 105,
     "metadata": {},
     "output_type": "execute_result"
    }
   ],
   "source": [
    "len(Role[\"Jisoo\"]) # Role Nama Variabel Dictionary; Jisoo = Key; Rest;Value"
   ]
  },
  {
   "cell_type": "code",
   "execution_count": 106,
   "id": "8fa65b91",
   "metadata": {},
   "outputs": [
    {
     "data": {
      "text/plain": [
       "3"
      ]
     },
     "execution_count": 106,
     "metadata": {},
     "output_type": "execute_result"
    }
   ],
   "source": [
    "len(Role[\"Jennie\"])"
   ]
  },
  {
   "cell_type": "code",
   "execution_count": 107,
   "id": "dbaa6eca",
   "metadata": {},
   "outputs": [
    {
     "data": {
      "text/plain": [
       "3"
      ]
     },
     "execution_count": 107,
     "metadata": {},
     "output_type": "execute_result"
    }
   ],
   "source": [
    "len(Role[\"Rose\"])"
   ]
  },
  {
   "cell_type": "code",
   "execution_count": 108,
   "id": "6eea1176",
   "metadata": {},
   "outputs": [
    {
     "data": {
      "text/plain": [
       "3"
      ]
     },
     "execution_count": 108,
     "metadata": {},
     "output_type": "execute_result"
    }
   ],
   "source": [
    "len(Role[\"Lisa\"])"
   ]
  },
  {
   "cell_type": "markdown",
   "id": "aa7c7511",
   "metadata": {},
   "source": [
    "### Modifikasi (Hapus-Tambah)"
   ]
  },
  {
   "cell_type": "code",
   "execution_count": 109,
   "id": "cdd2d47c",
   "metadata": {},
   "outputs": [],
   "source": [
    "Role[\"Jisoo\"][2]=\"Fake Maknae\""
   ]
  },
  {
   "cell_type": "code",
   "execution_count": 110,
   "id": "5676cced",
   "metadata": {},
   "outputs": [
    {
     "data": {
      "text/plain": [
       "['Visual', 'Lead Vocalist', 'Fake Maknae']"
      ]
     },
     "execution_count": 110,
     "metadata": {},
     "output_type": "execute_result"
    }
   ],
   "source": [
    "Role[\"Jisoo\"]"
   ]
  },
  {
   "cell_type": "code",
   "execution_count": 111,
   "id": "a27ac16a",
   "metadata": {},
   "outputs": [],
   "source": [
    "Role[\"Jisoo\"].remove(Role[\"Jisoo\"][2])"
   ]
  },
  {
   "cell_type": "code",
   "execution_count": 112,
   "id": "5754f202",
   "metadata": {},
   "outputs": [
    {
     "data": {
      "text/plain": [
       "{'Jisoo': ['Visual', 'Lead Vocalist'],\n",
       " 'Jennie': ['Main Rapper', 'Vocalist', 'Dancer'],\n",
       " 'Rose': ['Main Vocalist', 'Lead Dancer', 'Bias Wrecker'],\n",
       " 'Lisa': ['Main Dancer', 'Lead Rapper', 'Youngest']}"
      ]
     },
     "execution_count": 112,
     "metadata": {},
     "output_type": "execute_result"
    }
   ],
   "source": [
    "Role"
   ]
  },
  {
   "cell_type": "code",
   "execution_count": 113,
   "id": "52690f64",
   "metadata": {},
   "outputs": [
    {
     "data": {
      "text/plain": [
       "2"
      ]
     },
     "execution_count": 113,
     "metadata": {},
     "output_type": "execute_result"
    }
   ],
   "source": [
    "len(Role[\"Jisoo\"])"
   ]
  },
  {
   "cell_type": "code",
   "execution_count": 114,
   "id": "ccbb898e",
   "metadata": {},
   "outputs": [],
   "source": [
    "Role[\"Aldwi\"]=\"Jisoo\""
   ]
  },
  {
   "cell_type": "code",
   "execution_count": 115,
   "id": "5c66f30d",
   "metadata": {},
   "outputs": [
    {
     "data": {
      "text/plain": [
       "{'Jisoo': ['Visual', 'Lead Vocalist'],\n",
       " 'Jennie': ['Main Rapper', 'Vocalist', 'Dancer'],\n",
       " 'Rose': ['Main Vocalist', 'Lead Dancer', 'Bias Wrecker'],\n",
       " 'Lisa': ['Main Dancer', 'Lead Rapper', 'Youngest'],\n",
       " 'Aldwi': 'Jisoo'}"
      ]
     },
     "execution_count": 115,
     "metadata": {},
     "output_type": "execute_result"
    }
   ],
   "source": [
    "Role"
   ]
  },
  {
   "cell_type": "markdown",
   "id": "59cb37e5",
   "metadata": {},
   "source": [
    "### Project Perpustakaan 2 "
   ]
  },
  {
   "cell_type": "code",
   "execution_count": 116,
   "id": "c9fbed9c",
   "metadata": {},
   "outputs": [],
   "source": [
    "#Inisialisasi\n",
    "Nama_buku_1=\"Fisika\"\n",
    "Nama_buku_2=\"Kimia\"\n",
    "Nama_buku_3=\"Biologi\"\n",
    "durasi=3"
   ]
  },
  {
   "cell_type": "code",
   "execution_count": 117,
   "id": "1813b270",
   "metadata": {},
   "outputs": [
    {
     "data": {
      "text/plain": [
       "(str, str, str, int)"
      ]
     },
     "execution_count": 117,
     "metadata": {},
     "output_type": "execute_result"
    }
   ],
   "source": [
    "type(Nama_buku_1),type(Nama_buku_2),type(Nama_buku_3), type(durasi)"
   ]
  },
  {
   "cell_type": "code",
   "execution_count": 118,
   "id": "806868c4",
   "metadata": {},
   "outputs": [],
   "source": [
    "kode_buku_1=\"PS_001\"\n",
    "kode_buku_2=\"PS_002\"\n",
    "kode_buku_3=\"PS_003\""
   ]
  },
  {
   "cell_type": "code",
   "execution_count": 119,
   "id": "d0a4f34b",
   "metadata": {},
   "outputs": [],
   "source": [
    "N_buku_1=N_buku_2=N_buku_3=10"
   ]
  },
  {
   "cell_type": "code",
   "execution_count": 120,
   "id": "c250afbc",
   "metadata": {},
   "outputs": [
    {
     "data": {
      "text/plain": [
       "int"
      ]
     },
     "execution_count": 120,
     "metadata": {},
     "output_type": "execute_result"
    }
   ],
   "source": [
    "type(N_buku_1)"
   ]
  },
  {
   "cell_type": "code",
   "execution_count": 121,
   "id": "9319a5f9",
   "metadata": {},
   "outputs": [],
   "source": [
    "Nama_buku=(Nama_buku_1,Nama_buku_2,Nama_buku_3)\n",
    "Kode_buku=[kode_buku_1,kode_buku_2,kode_buku_3]\n",
    "N_buku=[N_buku_1, N_buku_2, N_buku_3]"
   ]
  },
  {
   "cell_type": "code",
   "execution_count": 122,
   "id": "4c20677a",
   "metadata": {},
   "outputs": [
    {
     "data": {
      "text/plain": [
       "(tuple, list, list)"
      ]
     },
     "execution_count": 122,
     "metadata": {},
     "output_type": "execute_result"
    }
   ],
   "source": [
    "type(Nama_buku), type(Kode_buku), type(N_buku)"
   ]
  },
  {
   "cell_type": "code",
   "execution_count": 123,
   "id": "1dc34cb4",
   "metadata": {},
   "outputs": [],
   "source": [
    "Pustaka={\"Nama\":Nama_buku,\n",
    " \"Kode\":Kode_buku,\n",
    " \"Jumlah\":N_buku}"
   ]
  },
  {
   "cell_type": "code",
   "execution_count": 124,
   "id": "b521cd3a",
   "metadata": {},
   "outputs": [
    {
     "data": {
      "text/plain": [
       "dict"
      ]
     },
     "execution_count": 124,
     "metadata": {},
     "output_type": "execute_result"
    }
   ],
   "source": [
    "type(Pustaka)"
   ]
  },
  {
   "cell_type": "code",
   "execution_count": 125,
   "id": "2d18d90c",
   "metadata": {},
   "outputs": [
    {
     "data": {
      "text/plain": [
       "{'Nama': ('Fisika', 'Kimia', 'Biologi'),\n",
       " 'Kode': ['PS_001', 'PS_002', 'PS_003'],\n",
       " 'Jumlah': [10, 10, 10]}"
      ]
     },
     "execution_count": 125,
     "metadata": {},
     "output_type": "execute_result"
    }
   ],
   "source": [
    "Pustaka"
   ]
  },
  {
   "cell_type": "code",
   "execution_count": 126,
   "id": "3588296f",
   "metadata": {},
   "outputs": [
    {
     "data": {
      "text/plain": [
       "{'Nama': ['Fisika', 'Kimia', 'Biologi'],\n",
       " 'Kode': ['PS_001', 'PS_002', 'PS_003'],\n",
       " 'Jumlah': [10, 10, 10]}"
      ]
     },
     "execution_count": 126,
     "metadata": {},
     "output_type": "execute_result"
    }
   ],
   "source": [
    "Nama_buku=[Nama_buku_1,Nama_buku_2,Nama_buku_3]\n",
    "pustaka={\"Nama\":Nama_buku,\n",
    " \"Kode\":Kode_buku,\n",
    " \"Jumlah\":N_buku}\n",
    "pustaka"
   ]
  },
  {
   "cell_type": "code",
   "execution_count": 127,
   "id": "f457403b",
   "metadata": {},
   "outputs": [
    {
     "name": "stdout",
     "output_type": "stream",
     "text": [
      "Buku Seni dengan jumlah 15\n"
     ]
    }
   ],
   "source": [
    "pustaka['Nama'].append('Seni')\n",
    "pustaka['Kode'].append('PS_004')\n",
    "pustaka['Jumlah'].append(15)\n",
    "print(\"Buku {} dengan jumlah {}\".format(pustaka[\"Nama\"][-1],\n",
    " pustaka['Jumlah'][-1]))"
   ]
  },
  {
   "cell_type": "code",
   "execution_count": 128,
   "id": "bb7e2d28",
   "metadata": {},
   "outputs": [
    {
     "data": {
      "text/plain": [
       "{'Nama': ['Fisika', 'Kimia', 'Biologi', 'Seni'],\n",
       " 'Kode': ['PS_001', 'PS_002', 'PS_003', 'PS_004'],\n",
       " 'Jumlah': [10, 10, 10, 15]}"
      ]
     },
     "execution_count": 128,
     "metadata": {},
     "output_type": "execute_result"
    }
   ],
   "source": [
    "pustaka"
   ]
  },
  {
   "cell_type": "markdown",
   "id": "63439247",
   "metadata": {},
   "source": [
    "# Basic Python 3"
   ]
  },
  {
   "cell_type": "markdown",
   "id": "9298d958",
   "metadata": {},
   "source": [
    "### IF"
   ]
  },
  {
   "cell_type": "code",
   "execution_count": 41,
   "id": "ac7a1940",
   "metadata": {},
   "outputs": [
    {
     "name": "stdout",
     "output_type": "stream",
     "text": [
      "Masukan Nilai = 9\n",
      "Bilangan Positif Dengan Nilai 9\n"
     ]
    }
   ],
   "source": [
    "var1 = int(input(\"Masukan Nilai = \"))\n",
    "if var1 > 0:\n",
    "    print(\"Bilangan Positif Dengan Nilai\", var1)\n",
    "else:\n",
    "    print(\"Bilangan Negatif Dengan Nilai\", var1)"
   ]
  },
  {
   "cell_type": "code",
   "execution_count": 133,
   "id": "de9ce012",
   "metadata": {},
   "outputs": [
    {
     "name": "stdout",
     "output_type": "stream",
     "text": [
      "Masukan Nilai = 0\n",
      "Bilangan Negatif Dengan Nilai 0\n"
     ]
    }
   ],
   "source": [
    "var1 = int(input(\"Masukan Nilai = \"))\n",
    "if var1 > 0:\n",
    "    print(\"Bilangan Positif Dengan Nilai\", var1)\n",
    "else:\n",
    "    print(\"Bilangan Negatif Dengan Nilai\", var1)"
   ]
  },
  {
   "cell_type": "code",
   "execution_count": 135,
   "id": "5597fbe1",
   "metadata": {},
   "outputs": [
    {
     "name": "stdout",
     "output_type": "stream",
     "text": [
      "Masukan Nilai = 0\n",
      "Bilangan Positif Dengan Nilai 0\n"
     ]
    }
   ],
   "source": [
    "var1 = int(input(\"Masukan Nilai = \"))\n",
    "if var1 >=0:\n",
    "    print(\"Bilangan Positif Dengan Nilai\", var1)\n",
    "else:\n",
    "    print(\"Bilangan Negatif Dengan Nilai\", var1)"
   ]
  },
  {
   "cell_type": "code",
   "execution_count": 138,
   "id": "0a21ae40",
   "metadata": {},
   "outputs": [
    {
     "name": "stdout",
     "output_type": "stream",
     "text": [
      "Username (3-5 Karakter)=Jisoo\n",
      "Data Telah Tersimpan \n"
     ]
    }
   ],
   "source": [
    "var2 = str(input(\"Username (3-5 Karakter)=\"))\n",
    "if len(var2)<3:\n",
    "    print(\"Kurang Dari 3, Panjang Username = \",len(var2))\n",
    "elif len(var2)>=3 and len(var2)<=5:\n",
    "    print(\"Data Telah Tersimpan \")\n",
    "else:\n",
    "    print(\"Panjang Username Berlebih, Yaitu:\",len(var2))"
   ]
  },
  {
   "cell_type": "code",
   "execution_count": 139,
   "id": "da71d351",
   "metadata": {},
   "outputs": [
    {
     "name": "stdout",
     "output_type": "stream",
     "text": [
      "Username (3-5 Karakter)=AM\n",
      "Kurang Dari 3, Panjang Username =  2\n"
     ]
    }
   ],
   "source": [
    "var2 = str(input(\"Username (3-5 Karakter)=\"))\n",
    "if len(var2)<3:\n",
    "    print(\"Kurang Dari 3, Panjang Username = \",len(var2))\n",
    "elif len(var2)>=3 and len(var2)<=5:\n",
    "    print(\"Data Telah Tersimpan \")\n",
    "else:\n",
    "    print(\"Panjang Username Berlebih, Yaitu:\",len(var2))"
   ]
  },
  {
   "cell_type": "code",
   "execution_count": 140,
   "id": "24cab515",
   "metadata": {},
   "outputs": [
    {
     "name": "stdout",
     "output_type": "stream",
     "text": [
      "Username (3-5 Karakter)=Roseane\n",
      "Panjang Username Berlebih, Yaitu: 7\n"
     ]
    }
   ],
   "source": [
    "var2 = str(input(\"Username (3-5 Karakter)=\"))\n",
    "if len(var2)<3:\n",
    "    print(\"Kurang Dari 3, Panjang Username = \",len(var2))\n",
    "elif len(var2)>=3 and len(var2)<=5:\n",
    "    print(\"Data Telah Tersimpan \")\n",
    "else:\n",
    "    print(\"Panjang Username Berlebih, Yaitu:\",len(var2))"
   ]
  },
  {
   "cell_type": "code",
   "execution_count": 144,
   "id": "bf819f3e",
   "metadata": {},
   "outputs": [
    {
     "name": "stdout",
     "output_type": "stream",
     "text": [
      "Pilih Voucher A atau B=A\n",
      "Masukkan Angka 1-3=1\n",
      "A1=Mobil\n"
     ]
    }
   ],
   "source": [
    "var3 = str(input(\"Pilih Voucher A atau B=\"))\n",
    "if var3==\"A\":\n",
    "    var4 = int(input(\"Masukkan Angka 1-3=\"))\n",
    "    if var4==1:\n",
    "        print(var3+str(var4)+\"=Mobil\")\n",
    "    elif var4==2:\n",
    "        print(var3+str(var4)+\"=Motor\")\n",
    "    elif var4==3:\n",
    "        print(var3+str(var4)+\"=Sepeda\")\n",
    "    else:\n",
    "        print(\"Tidak Ditemukan\")\n",
    "        \n",
    "elif var3==\"B\":\n",
    "    var4 = int(input(\"Masukkan Angka 1-3=\"))\n",
    "    if var4==1:\n",
    "        print(var3+str(var4)+\"=Mesin Cuci\")\n",
    "    elif var4==2:\n",
    "        print(var3+str(var4)+\"=Kipas Angin\")\n",
    "    elif var4==3:\n",
    "        print(var3+str(var4)+\"=AC\")\n",
    "    else:\n",
    "        print(\"Tidak Ditemukan\")"
   ]
  },
  {
   "cell_type": "code",
   "execution_count": 145,
   "id": "6e54bf8c",
   "metadata": {},
   "outputs": [
    {
     "name": "stdout",
     "output_type": "stream",
     "text": [
      "Pilih Voucher A atau B=B\n",
      "Masukkan Angka 1-3=1\n",
      "B1=Mesin Cuci\n"
     ]
    }
   ],
   "source": [
    "var3 = str(input(\"Pilih Voucher A atau B=\"))\n",
    "if var3==\"A\":\n",
    "    var4 = int(input(\"Masukkan Angka 1-3=\"))\n",
    "    if var4==1:\n",
    "        print(var3+str(var4)+\"=Mobil\")\n",
    "    elif var4==2:\n",
    "        print(var3+str(var4)+\"=Motor\")\n",
    "    elif var4==3:\n",
    "        print(var3+str(var4)+\"=Sepeda\")\n",
    "    else:\n",
    "        print(\"Tidak Ditemukan\")\n",
    "        \n",
    "elif var3==\"B\":\n",
    "    var4 = int(input(\"Masukkan Angka 1-3=\"))\n",
    "    if var4==1:\n",
    "        print(var3+str(var4)+\"=Mesin Cuci\")\n",
    "    elif var4==2:\n",
    "        print(var3+str(var4)+\"=Kipas Angin\")\n",
    "    elif var4==3:\n",
    "        print(var3+str(var4)+\"=AC\")\n",
    "    else:\n",
    "        print(\"Tidak Ditemukan\")"
   ]
  },
  {
   "cell_type": "markdown",
   "id": "d87d8292",
   "metadata": {},
   "source": [
    "### While"
   ]
  },
  {
   "cell_type": "code",
   "execution_count": 147,
   "id": "3b7c7581",
   "metadata": {},
   "outputs": [
    {
     "name": "stdout",
     "output_type": "stream",
     "text": [
      "0\n",
      "1\n",
      "2\n",
      "3\n",
      "4\n"
     ]
    }
   ],
   "source": [
    "var1 = 0\n",
    "while var1<5:\n",
    "    print(var1)\n",
    "    var1+=1"
   ]
  },
  {
   "cell_type": "code",
   "execution_count": 148,
   "id": "f3a7e747",
   "metadata": {},
   "outputs": [
    {
     "name": "stdout",
     "output_type": "stream",
     "text": [
      "0\n",
      "1\n",
      "2\n",
      "3\n",
      "4\n",
      "Selesai\n"
     ]
    }
   ],
   "source": [
    "var2 = 0\n",
    "while True:\n",
    "    print(var2)\n",
    "    var2+=1\n",
    "    if var2==5:\n",
    "        break\n",
    "print(\"Selesai\")"
   ]
  },
  {
   "cell_type": "code",
   "execution_count": 151,
   "id": "ff732cab",
   "metadata": {},
   "outputs": [
    {
     "name": "stdout",
     "output_type": "stream",
     "text": [
      "4\n",
      "3\n",
      "2\n",
      "1\n"
     ]
    }
   ],
   "source": [
    "var3 = 4\n",
    "while var3>0:\n",
    "    print(var3)\n",
    "    var3-=1"
   ]
  },
  {
   "cell_type": "markdown",
   "id": "95002758",
   "metadata": {},
   "source": [
    "### FOR"
   ]
  },
  {
   "cell_type": "code",
   "execution_count": 152,
   "id": "9b320d81",
   "metadata": {},
   "outputs": [
    {
     "name": "stdout",
     "output_type": "stream",
     "text": [
      "0\n",
      "1\n",
      "2\n",
      "3\n",
      "4\n"
     ]
    }
   ],
   "source": [
    "for i in range (0,5):\n",
    "    print(i)"
   ]
  },
  {
   "cell_type": "code",
   "execution_count": 153,
   "id": "02ce64e3",
   "metadata": {},
   "outputs": [
    {
     "name": "stdout",
     "output_type": "stream",
     "text": [
      "0\n",
      "1\n",
      "2\n",
      "3\n",
      "4\n",
      "5\n",
      "6\n",
      "7\n",
      "8\n",
      "9\n"
     ]
    }
   ],
   "source": [
    "for i in range (0,10):\n",
    "    print(i)"
   ]
  },
  {
   "cell_type": "code",
   "execution_count": 154,
   "id": "020f0589",
   "metadata": {},
   "outputs": [],
   "source": [
    "Nama_Blackpink = [\"Kim Jisoo\", \"Kim Jennie\", \"Park Chaeyoung\", \"Lalisa Manobal\"]"
   ]
  },
  {
   "cell_type": "code",
   "execution_count": 155,
   "id": "abe5cc81",
   "metadata": {},
   "outputs": [
    {
     "data": {
      "text/plain": [
       "['Kim Jisoo', 'Kim Jennie', 'Park Chaeyoung', 'Lalisa Manobal']"
      ]
     },
     "execution_count": 155,
     "metadata": {},
     "output_type": "execute_result"
    }
   ],
   "source": [
    "Nama_Blackpink"
   ]
  },
  {
   "cell_type": "code",
   "execution_count": 156,
   "id": "a3c61cb1",
   "metadata": {},
   "outputs": [
    {
     "name": "stdout",
     "output_type": "stream",
     "text": [
      "Kim Jisoo\n",
      "Kim Jennie\n",
      "Park Chaeyoung\n",
      "Lalisa Manobal\n"
     ]
    }
   ],
   "source": [
    "for i in range (0, len(Nama_Blackpink)):\n",
    "    print(Nama_Blackpink[i])"
   ]
  },
  {
   "cell_type": "code",
   "execution_count": 157,
   "id": "ca41f91c",
   "metadata": {},
   "outputs": [
    {
     "name": "stdout",
     "output_type": "stream",
     "text": [
      "Kim Jisoo\n",
      "Kim Jennie\n",
      "Park Chaeyoung\n",
      "Lalisa Manobal\n"
     ]
    }
   ],
   "source": [
    "for BP in Nama_Blackpink:\n",
    "    print(BP)"
   ]
  },
  {
   "cell_type": "code",
   "execution_count": 158,
   "id": "e9e53b3c",
   "metadata": {},
   "outputs": [
    {
     "name": "stdout",
     "output_type": "stream",
     "text": [
      "A\n",
      "l\n",
      "d\n",
      "w\n",
      "i\n",
      " \n",
      "M\n",
      "a\n",
      "n\n",
      "d\n",
      "a\n",
      "k\n"
     ]
    }
   ],
   "source": [
    "for i in \"Aldwi Mandak\":\n",
    "    print(i)"
   ]
  },
  {
   "cell_type": "code",
   "execution_count": 159,
   "id": "f9172a55",
   "metadata": {},
   "outputs": [
    {
     "name": "stdout",
     "output_type": "stream",
     "text": [
      "Masukan Data Ke-0-Aldwi\n",
      "Masukan Data Ke-1-Mandak\n",
      "Masukan Data Ke-2-Jisoo\n",
      "Masukan Data Ke-3-Rose\n"
     ]
    }
   ],
   "source": [
    "for i in range(len(Nama_Blackpink)):\n",
    "    Nama_Blackpink[i]=str(input(\"Masukan Data Ke-\"+str(i)+\"-\"))"
   ]
  },
  {
   "cell_type": "code",
   "execution_count": 160,
   "id": "2182a9d0",
   "metadata": {},
   "outputs": [
    {
     "data": {
      "text/plain": [
       "['Aldwi', 'Mandak', 'Jisoo', 'Rose']"
      ]
     },
     "execution_count": 160,
     "metadata": {},
     "output_type": "execute_result"
    }
   ],
   "source": [
    "Nama_Blackpink"
   ]
  },
  {
   "cell_type": "markdown",
   "id": "f23296a8",
   "metadata": {},
   "source": [
    "### Project Perpustakaan 3 (Denda)"
   ]
  },
  {
   "cell_type": "code",
   "execution_count": 20,
   "id": "378218f8",
   "metadata": {},
   "outputs": [],
   "source": [
    "#Inisialisasi\n",
    "Nama_buku_1=\"Fisika\"\n",
    "Nama_buku_2=\"Kimia\"\n",
    "Nama_buku_3=\"Biologi\"\n",
    "durasi=3"
   ]
  },
  {
   "cell_type": "code",
   "execution_count": 21,
   "id": "00ce2335",
   "metadata": {},
   "outputs": [
    {
     "data": {
      "text/plain": [
       "(str, str, str, int)"
      ]
     },
     "execution_count": 21,
     "metadata": {},
     "output_type": "execute_result"
    }
   ],
   "source": [
    "type(Nama_buku_1),type(Nama_buku_2),type(Nama_buku_3), type(durasi)"
   ]
  },
  {
   "cell_type": "code",
   "execution_count": 22,
   "id": "69c884c7",
   "metadata": {},
   "outputs": [],
   "source": [
    "kode_buku_1=\"PS_001\"\n",
    "kode_buku_2=\"PS_002\"\n",
    "kode_buku_3=\"PS_003\""
   ]
  },
  {
   "cell_type": "code",
   "execution_count": 23,
   "id": "f60e740b",
   "metadata": {},
   "outputs": [],
   "source": [
    "N_buku_1=N_buku_2=N_buku_3=10"
   ]
  },
  {
   "cell_type": "code",
   "execution_count": 24,
   "id": "74e113bd",
   "metadata": {},
   "outputs": [
    {
     "data": {
      "text/plain": [
       "int"
      ]
     },
     "execution_count": 24,
     "metadata": {},
     "output_type": "execute_result"
    }
   ],
   "source": [
    "type(N_buku_1)"
   ]
  },
  {
   "cell_type": "code",
   "execution_count": 25,
   "id": "88e44454",
   "metadata": {},
   "outputs": [],
   "source": [
    "Nama_buku=(Nama_buku_1,Nama_buku_2,Nama_buku_3)\n",
    "Kode_buku=[kode_buku_1,kode_buku_2,kode_buku_3]\n",
    "N_buku=[N_buku_1, N_buku_2, N_buku_3]"
   ]
  },
  {
   "cell_type": "code",
   "execution_count": 26,
   "id": "45e3de4f",
   "metadata": {},
   "outputs": [
    {
     "data": {
      "text/plain": [
       "{'Nama': ['Fisika', 'Kimia', 'Biologi'],\n",
       " 'Kode': ['PS_001', 'PS_002', 'PS_003'],\n",
       " 'Jumlah': [10, 10, 10]}"
      ]
     },
     "execution_count": 26,
     "metadata": {},
     "output_type": "execute_result"
    }
   ],
   "source": [
    "Nama_buku=[Nama_buku_1,Nama_buku_2,Nama_buku_3]\n",
    "pustaka={\"Nama\":Nama_buku,\n",
    " \"Kode\":Kode_buku,\n",
    " \"Jumlah\":N_buku}\n",
    "pustaka"
   ]
  },
  {
   "cell_type": "code",
   "execution_count": 27,
   "id": "8bb8520b",
   "metadata": {},
   "outputs": [
    {
     "data": {
      "text/plain": [
       "(list, list, list)"
      ]
     },
     "execution_count": 27,
     "metadata": {},
     "output_type": "execute_result"
    }
   ],
   "source": [
    "type(Nama_buku), type(Kode_buku), type(N_buku)"
   ]
  },
  {
   "cell_type": "code",
   "execution_count": 28,
   "id": "606c1c9f",
   "metadata": {},
   "outputs": [
    {
     "name": "stdout",
     "output_type": "stream",
     "text": [
      "Buku Seni dengan jumlah 15\n"
     ]
    }
   ],
   "source": [
    "pustaka['Nama'].append('Seni')\n",
    "pustaka['Kode'].append('PS_004')\n",
    "pustaka['Jumlah'].append(15)\n",
    "print(\"Buku {} dengan jumlah {}\".format(pustaka[\"Nama\"][-1],\n",
    "                                        pustaka['Jumlah'][-1]))"
   ]
  },
  {
   "cell_type": "code",
   "execution_count": 29,
   "id": "935e3eb8",
   "metadata": {},
   "outputs": [
    {
     "data": {
      "text/plain": [
       "dict"
      ]
     },
     "execution_count": 29,
     "metadata": {},
     "output_type": "execute_result"
    }
   ],
   "source": [
    "type(pustaka)"
   ]
  },
  {
   "cell_type": "code",
   "execution_count": 30,
   "id": "3531c438",
   "metadata": {},
   "outputs": [
    {
     "data": {
      "text/plain": [
       "{'Nama': ['Fisika', 'Kimia', 'Biologi', 'Seni'],\n",
       " 'Kode': ['PS_001', 'PS_002', 'PS_003', 'PS_004'],\n",
       " 'Jumlah': [10, 10, 10, 15]}"
      ]
     },
     "execution_count": 30,
     "metadata": {},
     "output_type": "execute_result"
    }
   ],
   "source": [
    "pustaka"
   ]
  },
  {
   "cell_type": "code",
   "execution_count": 31,
   "id": "831dcf83",
   "metadata": {},
   "outputs": [
    {
     "name": "stdout",
     "output_type": "stream",
     "text": [
      "Buku yang tersedia:\n",
      "Nama Buku\t Kode Buku\t Jumlah\n",
      "Buku Fisika\t kode PS_001\t 10\n",
      "Buku Kimia\t kode PS_002\t 10\n",
      "Buku Biologi\t kode PS_003\t 10\n",
      "Buku Seni\t kode PS_004\t 15\n"
     ]
    }
   ],
   "source": [
    "print(\"Buku yang tersedia:\")\n",
    "print(\"Nama Buku\\t Kode Buku\\t Jumlah\")\n",
    "for i in range(len(pustaka['Nama'])):\n",
    " print(\"Buku {}\\t kode {}\\t {}\".format(\n",
    " pustaka['Nama'][i],\n",
    " pustaka['Kode'][i],\n",
    " pustaka['Jumlah'][i]))"
   ]
  },
  {
   "cell_type": "code",
   "execution_count": 32,
   "id": "ae88f9e7",
   "metadata": {},
   "outputs": [
    {
     "name": "stdout",
     "output_type": "stream",
     "text": [
      "Form Peminjaman\n",
      "Nama Peminjam =Aldwi\n",
      "Kode Buku= PS_003\n",
      "Bisa pinjam\n",
      "Durasi waktu pinjam 3 hari\n"
     ]
    }
   ],
   "source": [
    "print(\"Form Peminjaman\")\n",
    "varNama=str(input(\"Nama Peminjam =\"))\n",
    "varBuku=str(input(\"Kode Buku= \"))\n",
    "for i in range(len(pustaka['Kode'])):\n",
    "    if varBuku==pustaka['Kode'][i] and pustaka['Jumlah'][i]>1:\n",
    "        print(\"Bisa pinjam\".format(varNama))\n",
    "        print(\"Durasi waktu pinjam {} hari\".format(durasi))\n",
    "        pustaka['Jumlah'][i]-=1\n",
    "        break\n",
    "    elif i==len(pustaka['Kode'])-1:\n",
    "        print(\"Tidak bisa dipinjam\")"
   ]
  },
  {
   "cell_type": "code",
   "execution_count": 33,
   "id": "12bd578a",
   "metadata": {},
   "outputs": [
    {
     "data": {
      "text/plain": [
       "{'Nama': ['Fisika', 'Kimia', 'Biologi', 'Seni'],\n",
       " 'Kode': ['PS_001', 'PS_002', 'PS_003', 'PS_004'],\n",
       " 'Jumlah': [10, 10, 9, 15]}"
      ]
     },
     "execution_count": 33,
     "metadata": {},
     "output_type": "execute_result"
    }
   ],
   "source": [
    "pustaka"
   ]
  },
  {
   "cell_type": "code",
   "execution_count": 34,
   "id": "f524f998",
   "metadata": {},
   "outputs": [
    {
     "name": "stdout",
     "output_type": "stream",
     "text": [
      "Form Peminjaman\n",
      "Nama Peminjam =Mandak\n",
      "Kode Buku= PS_003\n",
      "Bisa pinjam\n",
      "Durasi waktu pinjam 3 hari\n",
      "Tidak bisa dipinjam\n"
     ]
    }
   ],
   "source": [
    "print(\"Form Peminjaman\")\n",
    "varNama=str(input(\"Nama Peminjam =\"))\n",
    "varBuku=str(input(\"Kode Buku= \"))\n",
    "for i in range(len(pustaka['Kode'])):\n",
    "    if varBuku==pustaka['Kode'][i] and pustaka['Jumlah'][i]>1:\n",
    "        print(\"Bisa pinjam\".format(varNama))\n",
    "        print(\"Durasi waktu pinjam {} hari\".format(durasi))\n",
    "        pustaka['Jumlah'][i]-=1\n",
    "    elif i==len(pustaka['Kode'])-1:\n",
    "        print(\"Tidak bisa dipinjam\")\n"
   ]
  },
  {
   "cell_type": "code",
   "execution_count": 35,
   "id": "4bfdb548",
   "metadata": {},
   "outputs": [
    {
     "data": {
      "text/plain": [
       "{'Nama': ['Fisika', 'Kimia', 'Biologi', 'Seni'],\n",
       " 'Kode': ['PS_001', 'PS_002', 'PS_003', 'PS_004'],\n",
       " 'Jumlah': [10, 10, 8, 15]}"
      ]
     },
     "execution_count": 35,
     "metadata": {},
     "output_type": "execute_result"
    }
   ],
   "source": [
    "pustaka"
   ]
  },
  {
   "cell_type": "code",
   "execution_count": 36,
   "id": "2ef141b8",
   "metadata": {},
   "outputs": [
    {
     "name": "stdout",
     "output_type": "stream",
     "text": [
      "Form Pengembalian\n",
      "Nama Peminjam\t=Aldwi\n",
      "Kode Buku\t=Biologi\n",
      "Jumlah Hari\t=3\n",
      "Salah kode\n"
     ]
    }
   ],
   "source": [
    "print(\"Form Pengembalian\")\n",
    "varNama=str(input(\"Nama Peminjam\\t=\"))\n",
    "varBuku=str(input(\"Kode Buku\\t=\"))\n",
    "varHari=int(input(\"Jumlah Hari\\t=\"))\n",
    "for i in range(len(pustaka['Kode'])):\n",
    "    if varBuku==pustaka['Kode'][i]:\n",
    "        if varHari>=durasi:\n",
    "            denda=(varHari-durasi)*1000\n",
    "            print(\"Terima kasih, {}\\nDenda sebesar Rp.{}\".format(varNama,denda))\n",
    "            pustaka['Jumlah'][i]+=1\n",
    "            break\n",
    "        else:\n",
    "            print(\"Terima kasih,{}\".format(varNama))\n",
    "            pustaka['Jumlah'][i]+=1\n",
    "            break\n",
    "    elif i==len(pustaka['Kode'])-1:\n",
    "        print(\"Salah kode\")"
   ]
  },
  {
   "cell_type": "code",
   "execution_count": 37,
   "id": "1dcf0a0c",
   "metadata": {},
   "outputs": [
    {
     "data": {
      "text/plain": [
       "{'Nama': ['Fisika', 'Kimia', 'Biologi', 'Seni'],\n",
       " 'Kode': ['PS_001', 'PS_002', 'PS_003', 'PS_004'],\n",
       " 'Jumlah': [10, 10, 8, 15]}"
      ]
     },
     "execution_count": 37,
     "metadata": {},
     "output_type": "execute_result"
    }
   ],
   "source": [
    "pustaka"
   ]
  },
  {
   "cell_type": "code",
   "execution_count": 38,
   "id": "d9ae2375",
   "metadata": {},
   "outputs": [
    {
     "name": "stdout",
     "output_type": "stream",
     "text": [
      "Form Pengembalian\n",
      "Nama Peminjam\t=Aldwi\n",
      "Kode Buku\t=PS_003\n",
      "Jumlah Hari\t=3\n",
      "Terima kasih, Aldwi\n",
      "Denda sebesar Rp.0\n"
     ]
    }
   ],
   "source": [
    "print(\"Form Pengembalian\")\n",
    "varNama=str(input(\"Nama Peminjam\\t=\"))\n",
    "varBuku=str(input(\"Kode Buku\\t=\"))\n",
    "varHari=int(input(\"Jumlah Hari\\t=\"))\n",
    "for i in range(len(pustaka['Kode'])):\n",
    "    if varBuku==pustaka['Kode'][i]:\n",
    "        if varHari>=durasi:\n",
    "            denda=(varHari-durasi)*1000\n",
    "            print(\"Terima kasih, {}\\nDenda sebesar Rp.{}\".format(varNama,denda))\n",
    "            pustaka['Jumlah'][i]+=1\n",
    "            break\n",
    "        else:\n",
    "            print(\"Terima kasih,{}\".format(varNama))\n",
    "            pustaka['Jumlah'][i]+=1\n",
    "            break\n",
    "    elif i==len(pustaka['Kode'])-1:\n",
    "        print(\"Salah kode\")"
   ]
  },
  {
   "cell_type": "code",
   "execution_count": 39,
   "id": "cdd0a102",
   "metadata": {},
   "outputs": [
    {
     "name": "stdout",
     "output_type": "stream",
     "text": [
      "Form Pengembalian\n",
      "Nama Peminjam\t=Mandak\n",
      "Kode Buku\t=PS_003\n",
      "Jumlah Hari\t=5\n",
      "Terima kasih, Mandak\n",
      "Denda sebesar Rp.2000\n"
     ]
    }
   ],
   "source": [
    "print(\"Form Pengembalian\")\n",
    "varNama=str(input(\"Nama Peminjam\\t=\"))\n",
    "varBuku=str(input(\"Kode Buku\\t=\"))\n",
    "varHari=int(input(\"Jumlah Hari\\t=\"))\n",
    "for i in range(len(pustaka['Kode'])):\n",
    "    if varBuku==pustaka['Kode'][i]:\n",
    "        if varHari>=durasi:\n",
    "            denda=(varHari-durasi)*1000\n",
    "            print(\"Terima kasih, {}\\nDenda sebesar Rp.{}\".format(varNama,denda))\n",
    "            pustaka['Jumlah'][i]+=1\n",
    "            break\n",
    "        else:\n",
    "            print(\"Terima kasih,{}\".format(varNama))\n",
    "            pustaka['Jumlah'][i]+=1\n",
    "            break\n",
    "    elif i==len(pustaka['Kode'])-1:\n",
    "        print(\"Salah kode\")"
   ]
  },
  {
   "cell_type": "code",
   "execution_count": 40,
   "id": "b6922af6",
   "metadata": {},
   "outputs": [
    {
     "data": {
      "text/plain": [
       "{'Nama': ['Fisika', 'Kimia', 'Biologi', 'Seni'],\n",
       " 'Kode': ['PS_001', 'PS_002', 'PS_003', 'PS_004'],\n",
       " 'Jumlah': [10, 10, 10, 15]}"
      ]
     },
     "execution_count": 40,
     "metadata": {},
     "output_type": "execute_result"
    }
   ],
   "source": [
    "pustaka"
   ]
  },
  {
   "cell_type": "markdown",
   "id": "fe4917f6",
   "metadata": {},
   "source": [
    "# Basic Python 4"
   ]
  },
  {
   "cell_type": "markdown",
   "id": "35899551",
   "metadata": {},
   "source": [
    "### Fungsi"
   ]
  },
  {
   "cell_type": "code",
   "execution_count": 2,
   "id": "9f96dc27",
   "metadata": {},
   "outputs": [],
   "source": [
    "def f(x):\n",
    "    print(x+3)"
   ]
  },
  {
   "cell_type": "code",
   "execution_count": 3,
   "id": "5af5f111",
   "metadata": {},
   "outputs": [
    {
     "name": "stdout",
     "output_type": "stream",
     "text": [
      "6\n"
     ]
    }
   ],
   "source": [
    "f(3)"
   ]
  },
  {
   "cell_type": "code",
   "execution_count": 7,
   "id": "850aee4a",
   "metadata": {},
   "outputs": [
    {
     "name": "stdout",
     "output_type": "stream",
     "text": [
      "None\n"
     ]
    }
   ],
   "source": [
    "print(y)"
   ]
  },
  {
   "cell_type": "code",
   "execution_count": 36,
   "id": "e13b8809",
   "metadata": {},
   "outputs": [],
   "source": [
    "def f(x):\n",
    "    return x+9"
   ]
  },
  {
   "cell_type": "code",
   "execution_count": 37,
   "id": "d6a5b69d",
   "metadata": {},
   "outputs": [],
   "source": [
    "y=f(2)"
   ]
  },
  {
   "cell_type": "code",
   "execution_count": 38,
   "id": "da250d81",
   "metadata": {},
   "outputs": [
    {
     "name": "stdout",
     "output_type": "stream",
     "text": [
      "11\n"
     ]
    }
   ],
   "source": [
    "print(y)"
   ]
  },
  {
   "cell_type": "code",
   "execution_count": 11,
   "id": "cb0a5ea0",
   "metadata": {},
   "outputs": [],
   "source": [
    "def kecepatan(jarak, waktu):\n",
    "    spd = jarak/waktu\n",
    "    return spd"
   ]
  },
  {
   "cell_type": "code",
   "execution_count": 12,
   "id": "8505c22c",
   "metadata": {},
   "outputs": [
    {
     "name": "stdout",
     "output_type": "stream",
     "text": [
      "2.0\n"
     ]
    }
   ],
   "source": [
    "panjang = 10\n",
    "durasi = 5\n",
    "kec = kecepatan(panjang, durasi)\n",
    "print(kec)"
   ]
  },
  {
   "cell_type": "code",
   "execution_count": 16,
   "id": "ddb71b20",
   "metadata": {},
   "outputs": [
    {
     "data": {
      "text/plain": [
       "2.5"
      ]
     },
     "execution_count": 16,
     "metadata": {},
     "output_type": "execute_result"
    }
   ],
   "source": [
    "kecepatan(10, 4)"
   ]
  },
  {
   "cell_type": "code",
   "execution_count": 17,
   "id": "9a0eee5f",
   "metadata": {},
   "outputs": [
    {
     "data": {
      "text/plain": [
       "2.0"
      ]
     },
     "execution_count": 17,
     "metadata": {},
     "output_type": "execute_result"
    }
   ],
   "source": [
    "kecepatan(jarak=10, waktu=5)"
   ]
  },
  {
   "cell_type": "markdown",
   "id": "d0b5b380",
   "metadata": {},
   "source": [
    "### Fungsi Default"
   ]
  },
  {
   "cell_type": "markdown",
   "id": "4799167a",
   "metadata": {},
   "source": [
    "### Luas Bola"
   ]
  },
  {
   "cell_type": "code",
   "execution_count": 18,
   "id": "448f0b68",
   "metadata": {},
   "outputs": [],
   "source": [
    "def luas_bola(r,pi=3.14):\n",
    "    return 4*pi*r**2"
   ]
  },
  {
   "cell_type": "code",
   "execution_count": 19,
   "id": "7f76d9d2",
   "metadata": {},
   "outputs": [
    {
     "data": {
      "text/plain": [
       "314.0"
      ]
     },
     "execution_count": 19,
     "metadata": {},
     "output_type": "execute_result"
    }
   ],
   "source": [
    "luas_bola(5)"
   ]
  },
  {
   "cell_type": "code",
   "execution_count": 20,
   "id": "9b4e33b2",
   "metadata": {},
   "outputs": [],
   "source": [
    "l = luas_bola(10, pi=22/7)"
   ]
  },
  {
   "cell_type": "code",
   "execution_count": 21,
   "id": "47a38545",
   "metadata": {},
   "outputs": [
    {
     "name": "stdout",
     "output_type": "stream",
     "text": [
      "1257.142857142857\n"
     ]
    }
   ],
   "source": [
    "print(l)"
   ]
  },
  {
   "cell_type": "code",
   "execution_count": 24,
   "id": "b254bf7a",
   "metadata": {},
   "outputs": [],
   "source": [
    "l1 = luas_bola(10)"
   ]
  },
  {
   "cell_type": "code",
   "execution_count": 26,
   "id": "18a56ba9",
   "metadata": {},
   "outputs": [
    {
     "name": "stdout",
     "output_type": "stream",
     "text": [
      "1256.0\n"
     ]
    }
   ],
   "source": [
    "print (l1)"
   ]
  },
  {
   "cell_type": "code",
   "execution_count": 34,
   "id": "4ea542ca",
   "metadata": {},
   "outputs": [],
   "source": [
    "def peserta(Nama, Sekolah=\"SMK Negeri 1 SIITM\"):\n",
    "    print(\"Selamat Datang \" + Nama + \" di \"+Sekolah)"
   ]
  },
  {
   "cell_type": "code",
   "execution_count": 35,
   "id": "355d4ee9",
   "metadata": {},
   "outputs": [
    {
     "name": "stdout",
     "output_type": "stream",
     "text": [
      "Selamat Datang Jisoo di SMK Negeri 1 SIITM\n"
     ]
    }
   ],
   "source": [
    "peserta(\"Jisoo\")"
   ]
  },
  {
   "cell_type": "code",
   "execution_count": 36,
   "id": "4c385689",
   "metadata": {},
   "outputs": [
    {
     "name": "stdout",
     "output_type": "stream",
     "text": [
      "Selamat Datang Jennie di IIB Darmajaya\n"
     ]
    }
   ],
   "source": [
    "peserta(\"Jennie\",\"IIB Darmajaya\")"
   ]
  },
  {
   "cell_type": "markdown",
   "id": "5a019544",
   "metadata": {},
   "source": [
    "### Fungsi Lambda"
   ]
  },
  {
   "cell_type": "code",
   "execution_count": 41,
   "id": "13df8e9e",
   "metadata": {},
   "outputs": [
    {
     "data": {
      "text/plain": [
       "<function __main__.<lambda>(r)>"
      ]
     },
     "execution_count": 41,
     "metadata": {},
     "output_type": "execute_result"
    }
   ],
   "source": [
    "lambda r: 4*3.14**2"
   ]
  },
  {
   "cell_type": "code",
   "execution_count": 42,
   "id": "b9f69e23",
   "metadata": {},
   "outputs": [],
   "source": [
    "fungsi1 = lambda r: 4*3.14*r**2"
   ]
  },
  {
   "cell_type": "code",
   "execution_count": 43,
   "id": "78d9798b",
   "metadata": {},
   "outputs": [
    {
     "data": {
      "text/plain": [
       "314.0"
      ]
     },
     "execution_count": 43,
     "metadata": {},
     "output_type": "execute_result"
    }
   ],
   "source": [
    "fungsi1(5)"
   ]
  },
  {
   "cell_type": "code",
   "execution_count": 44,
   "id": "310bc315",
   "metadata": {},
   "outputs": [
    {
     "data": {
      "text/plain": [
       "314.0"
      ]
     },
     "execution_count": 44,
     "metadata": {},
     "output_type": "execute_result"
    }
   ],
   "source": [
    "(lambda r: 4*3.14*r**2)(5)"
   ]
  },
  {
   "cell_type": "code",
   "execution_count": 48,
   "id": "4ace1bf0",
   "metadata": {},
   "outputs": [
    {
     "data": {
      "text/plain": [
       "314.0"
      ]
     },
     "execution_count": 48,
     "metadata": {},
     "output_type": "execute_result"
    }
   ],
   "source": [
    "(lambda r, pi:4*pi*r**2)(5,3.14)"
   ]
  },
  {
   "cell_type": "code",
   "execution_count": 49,
   "id": "82f12729",
   "metadata": {},
   "outputs": [
    {
     "data": {
      "text/plain": [
       "314.2857142857143"
      ]
     },
     "execution_count": 49,
     "metadata": {},
     "output_type": "execute_result"
    }
   ],
   "source": [
    "(lambda r, pi:4*pi*r**2)(5,22/7)"
   ]
  },
  {
   "cell_type": "markdown",
   "id": "fafd51f0",
   "metadata": {},
   "source": [
    "# Project Perpustakaan 4"
   ]
  },
  {
   "cell_type": "code",
   "execution_count": 1,
   "id": "c532ddac",
   "metadata": {},
   "outputs": [],
   "source": [
    "#Inisialisasi\n",
    "Nama_buku_1=\"Fisika\"\n",
    "Nama_buku_2=\"Kimia\"\n",
    "Nama_buku_3=\"Biologi\"\n",
    "durasi=3"
   ]
  },
  {
   "cell_type": "code",
   "execution_count": 2,
   "id": "bee7d9d6",
   "metadata": {},
   "outputs": [
    {
     "data": {
      "text/plain": [
       "(str, str, str, int)"
      ]
     },
     "execution_count": 2,
     "metadata": {},
     "output_type": "execute_result"
    }
   ],
   "source": [
    "type(Nama_buku_1),type(Nama_buku_2),type(Nama_buku_3), type(durasi)"
   ]
  },
  {
   "cell_type": "code",
   "execution_count": 3,
   "id": "ad483dfe",
   "metadata": {},
   "outputs": [],
   "source": [
    "kode_buku_1=\"PS_001\"\n",
    "kode_buku_2=\"PS_002\"\n",
    "kode_buku_3=\"PS_003\""
   ]
  },
  {
   "cell_type": "code",
   "execution_count": 4,
   "id": "e0613ade",
   "metadata": {},
   "outputs": [],
   "source": [
    "N_buku_1=N_buku_2=N_buku_3=10"
   ]
  },
  {
   "cell_type": "code",
   "execution_count": 5,
   "id": "1a3ed00a",
   "metadata": {},
   "outputs": [
    {
     "data": {
      "text/plain": [
       "int"
      ]
     },
     "execution_count": 5,
     "metadata": {},
     "output_type": "execute_result"
    }
   ],
   "source": [
    "type(N_buku_1)"
   ]
  },
  {
   "cell_type": "code",
   "execution_count": 6,
   "id": "064f0872",
   "metadata": {},
   "outputs": [],
   "source": [
    "Nama_buku=(Nama_buku_1,Nama_buku_2,Nama_buku_3)\n",
    "Kode_buku=[kode_buku_1,kode_buku_2,kode_buku_3]\n",
    "N_buku=[N_buku_1, N_buku_2, N_buku_3]"
   ]
  },
  {
   "cell_type": "code",
   "execution_count": 7,
   "id": "375ae015",
   "metadata": {},
   "outputs": [
    {
     "data": {
      "text/plain": [
       "(tuple, list, list)"
      ]
     },
     "execution_count": 7,
     "metadata": {},
     "output_type": "execute_result"
    }
   ],
   "source": [
    "type(Nama_buku), type(Kode_buku), type(N_buku)"
   ]
  },
  {
   "cell_type": "code",
   "execution_count": 8,
   "id": "cc687f82",
   "metadata": {},
   "outputs": [],
   "source": [
    "pustaka={\"Nama\":Nama_buku,\n",
    " \"Kode\":Kode_buku,\n",
    " \"Jumlah\":N_buku}"
   ]
  },
  {
   "cell_type": "code",
   "execution_count": 9,
   "id": "384c874a",
   "metadata": {},
   "outputs": [
    {
     "data": {
      "text/plain": [
       "dict"
      ]
     },
     "execution_count": 9,
     "metadata": {},
     "output_type": "execute_result"
    }
   ],
   "source": [
    "type(pustaka)"
   ]
  },
  {
   "cell_type": "code",
   "execution_count": 10,
   "id": "26f4f980",
   "metadata": {},
   "outputs": [
    {
     "data": {
      "text/plain": [
       "{'Nama': ('Fisika', 'Kimia', 'Biologi'),\n",
       " 'Kode': ['PS_001', 'PS_002', 'PS_003'],\n",
       " 'Jumlah': [10, 10, 10]}"
      ]
     },
     "execution_count": 10,
     "metadata": {},
     "output_type": "execute_result"
    }
   ],
   "source": [
    "pustaka"
   ]
  },
  {
   "cell_type": "code",
   "execution_count": 11,
   "id": "489678cb",
   "metadata": {},
   "outputs": [
    {
     "data": {
      "text/plain": [
       "{'Nama': ['Fisika', 'Kimia', 'Biologi'],\n",
       " 'Kode': ['PS_001', 'PS_002', 'PS_003'],\n",
       " 'Jumlah': [10, 10, 10]}"
      ]
     },
     "execution_count": 11,
     "metadata": {},
     "output_type": "execute_result"
    }
   ],
   "source": [
    "Nama_buku=[Nama_buku_1,Nama_buku_2,Nama_buku_3]\n",
    "pustaka={\"Nama\":Nama_buku,\n",
    " \"Kode\":Kode_buku,\n",
    " \"Jumlah\":N_buku}\n",
    "pustaka"
   ]
  },
  {
   "cell_type": "code",
   "execution_count": 12,
   "id": "ba5f2f12",
   "metadata": {},
   "outputs": [
    {
     "name": "stdout",
     "output_type": "stream",
     "text": [
      "Buku Seni dengan jumlah 15\n"
     ]
    }
   ],
   "source": [
    "pustaka['Nama'].append('Seni')\n",
    "pustaka['Kode'].append('PS_004')\n",
    "pustaka['Jumlah'].append(15)\n",
    "print(\"Buku {} dengan jumlah {}\".format(pustaka[\"Nama\"][-1],\n",
    "                                        pustaka['Jumlah'][-1]))"
   ]
  },
  {
   "cell_type": "code",
   "execution_count": 13,
   "id": "ce41a824",
   "metadata": {},
   "outputs": [
    {
     "data": {
      "text/plain": [
       "{'Nama': ['Fisika', 'Kimia', 'Biologi', 'Seni'],\n",
       " 'Kode': ['PS_001', 'PS_002', 'PS_003', 'PS_004'],\n",
       " 'Jumlah': [10, 10, 10, 15]}"
      ]
     },
     "execution_count": 13,
     "metadata": {},
     "output_type": "execute_result"
    }
   ],
   "source": [
    "pustaka"
   ]
  },
  {
   "cell_type": "code",
   "execution_count": 14,
   "id": "e899b0da",
   "metadata": {},
   "outputs": [
    {
     "name": "stdout",
     "output_type": "stream",
     "text": [
      "Buku yang tersedia:\n",
      "Nama Buku\t Kode Buku\t Jumlah\n",
      "Buku Fisika\t kode PS_001\t 10\n",
      "Buku Kimia\t kode PS_002\t 10\n",
      "Buku Biologi\t kode PS_003\t 10\n",
      "Buku Seni\t kode PS_004\t 15\n"
     ]
    }
   ],
   "source": [
    "print(\"Buku yang tersedia:\")\n",
    "print(\"Nama Buku\\t Kode Buku\\t Jumlah\")\n",
    "for i in range(len(pustaka['Nama'])):\n",
    "    print(\"Buku {}\\t kode {}\\t {}\".format(\n",
    "        pustaka['Nama'][i],\n",
    "        pustaka['Kode'][i],\n",
    "        pustaka['Jumlah'][i]))"
   ]
  },
  {
   "cell_type": "code",
   "execution_count": 16,
   "id": "66eb1429",
   "metadata": {},
   "outputs": [
    {
     "name": "stdout",
     "output_type": "stream",
     "text": [
      "Form Peminjaman\n",
      "Nama Peminjam =Aldwi\n",
      "Kode Buku= PS_004\n",
      "Bisa pinjam\n",
      "Durasi waktu pinjam 3 hari\n"
     ]
    }
   ],
   "source": [
    "print(\"Form Peminjaman\")\n",
    "varNama=str(input(\"Nama Peminjam =\"))\n",
    "varBuku=str(input(\"Kode Buku= \"))\n",
    "for i in range(len(pustaka['Kode'])):\n",
    "    if varBuku==pustaka['Kode'][i] and pustaka['Jumlah'][i]>1:\n",
    "        print(\"Bisa pinjam\".format(varNama))\n",
    "        print(\"Durasi waktu pinjam {} hari\".format(durasi))\n",
    "        pustaka['Jumlah'][i]-=1\n",
    "    elif i==len(pustaka['Kode'])-1:\n",
    "        print(\"Tidak bisa dipinjam\")\n"
   ]
  },
  {
   "cell_type": "code",
   "execution_count": 17,
   "id": "ed49fdf5",
   "metadata": {},
   "outputs": [
    {
     "name": "stdout",
     "output_type": "stream",
     "text": [
      "Form Peminjaman\n",
      "Nama Peminjam =Mandak\n",
      "Kode Buku= PS_004\n",
      "Bisa pinjam\n",
      "Durasi waktu pinjam 3 hari\n"
     ]
    }
   ],
   "source": [
    "print(\"Form Peminjaman\")\n",
    "varNama=str(input(\"Nama Peminjam =\"))\n",
    "varBuku=str(input(\"Kode Buku= \"))\n",
    "for i in range(len(pustaka['Kode'])):\n",
    "    if varBuku==pustaka['Kode'][i] and pustaka['Jumlah'][i]>1:\n",
    "        print(\"Bisa pinjam\".format(varNama))\n",
    "        print(\"Durasi waktu pinjam {} hari\".format(durasi))\n",
    "        pustaka['Jumlah'][i]-=1\n",
    "        break\n",
    "    elif i==len(pustaka['Kode'])-1:\n",
    "        print(\"Tidak bisa dipinjam\")"
   ]
  },
  {
   "cell_type": "code",
   "execution_count": 18,
   "id": "715ceae3",
   "metadata": {},
   "outputs": [
    {
     "data": {
      "text/plain": [
       "{'Nama': ['Fisika', 'Kimia', 'Biologi', 'Seni'],\n",
       " 'Kode': ['PS_001', 'PS_002', 'PS_003', 'PS_004'],\n",
       " 'Jumlah': [10, 10, 10, 12]}"
      ]
     },
     "execution_count": 18,
     "metadata": {},
     "output_type": "execute_result"
    }
   ],
   "source": [
    "pustaka"
   ]
  },
  {
   "cell_type": "code",
   "execution_count": 19,
   "id": "86e651a6",
   "metadata": {},
   "outputs": [
    {
     "name": "stdout",
     "output_type": "stream",
     "text": [
      "Form Pengembalian\n",
      "Nama Peminjam\t=Aldwi\n",
      "Kode Buku\t=PS_004\n",
      "Jumlah Hari\t=500\n",
      "Terima kasih, Aldwi\n",
      "Denda sebesar Rp.497000\n"
     ]
    }
   ],
   "source": [
    "print(\"Form Pengembalian\")\n",
    "varNama=str(input(\"Nama Peminjam\\t=\"))\n",
    "varBuku=str(input(\"Kode Buku\\t=\"))\n",
    "varHari=int(input(\"Jumlah Hari\\t=\"))\n",
    "for i in range(len(pustaka['Kode'])):\n",
    "    if varBuku==pustaka['Kode'][i]:\n",
    "        if varHari>=durasi:\n",
    "            denda=(varHari-durasi)*1000\n",
    "            print(\"Terima kasih, {}\\nDenda sebesar Rp.{}\".format(varNama,denda))\n",
    "            pustaka['Jumlah'][i]+=1\n",
    "            break\n",
    "        else:\n",
    "            print(\"Terima kasih,{}\".format(varNama))\n",
    "            pustaka['Jumlah'][i]+=1\n",
    "            break\n",
    "    elif i==len(pustaka['Kode'])-1:\n",
    "        print(\"Salah kode\")"
   ]
  },
  {
   "cell_type": "code",
   "execution_count": 20,
   "id": "e1dd76d8",
   "metadata": {},
   "outputs": [
    {
     "data": {
      "text/plain": [
       "{'Nama': ['Fisika', 'Kimia', 'Biologi', 'Seni'],\n",
       " 'Kode': ['PS_001', 'PS_002', 'PS_003', 'PS_004'],\n",
       " 'Jumlah': [10, 10, 10, 13]}"
      ]
     },
     "execution_count": 20,
     "metadata": {},
     "output_type": "execute_result"
    }
   ],
   "source": [
    "pustaka"
   ]
  },
  {
   "cell_type": "markdown",
   "id": "0e69317f",
   "metadata": {},
   "source": [
    "1. Fungsi Peminjaman\n",
    "2. Fungsi Pengembalian\n",
    "3. Fungsi Data Terakhir"
   ]
  },
  {
   "cell_type": "code",
   "execution_count": 21,
   "id": "cbcfebf0",
   "metadata": {},
   "outputs": [],
   "source": [
    "def Data_terakhir():\n",
    "    print(\"Buku yang tersedia:\")\n",
    "    print(\"Nama Buku\\t Kode Buku\\t Jumlah\")\n",
    "    for i in range(len(pustaka['Nama'])):\n",
    "        print(\"Buku {}\\t kode {}\\t {}\".format(\n",
    "            pustaka['Nama'][i],\n",
    "            pustaka['Kode'][i],\n",
    "            pustaka['Jumlah'][i]))"
   ]
  },
  {
   "cell_type": "code",
   "execution_count": 22,
   "id": "f12dbfc0",
   "metadata": {},
   "outputs": [
    {
     "name": "stdout",
     "output_type": "stream",
     "text": [
      "Buku yang tersedia:\n",
      "Nama Buku\t Kode Buku\t Jumlah\n",
      "Buku Fisika\t kode PS_001\t 10\n",
      "Buku Kimia\t kode PS_002\t 10\n",
      "Buku Biologi\t kode PS_003\t 10\n",
      "Buku Seni\t kode PS_004\t 13\n"
     ]
    }
   ],
   "source": [
    "Data_terakhir()"
   ]
  },
  {
   "cell_type": "code",
   "execution_count": 23,
   "id": "8c6525fe",
   "metadata": {},
   "outputs": [],
   "source": [
    "def peminjaman():\n",
    "    print(\"Form Peminjaman\")\n",
    "    varNama=str(input(\"Nama Peminjam =\"))\n",
    "    varBuku=str(input(\"Kode Buku= \"))\n",
    "    for i in range(len(pustaka['Kode'])):\n",
    "        if varBuku==pustaka['Kode'][i] and pustaka['Jumlah'][i]>1:\n",
    "            print(\"Bisa pinjam\".format(varNama))\n",
    "            print(\"Durasi waktu pinjam {} hari\".format(durasi))\n",
    "            pustaka['Jumlah'][i]-=1\n",
    "            break\n",
    "        elif i==len(pustaka['Kode'])-1:\n",
    "            print(\"Tidak bisa dipinjam\")"
   ]
  },
  {
   "cell_type": "code",
   "execution_count": 24,
   "id": "3b383962",
   "metadata": {},
   "outputs": [
    {
     "name": "stdout",
     "output_type": "stream",
     "text": [
      "Form Peminjaman\n",
      "Nama Peminjam =Jisoo\n",
      "Kode Buku= PS_004\n",
      "Bisa pinjam\n",
      "Durasi waktu pinjam 3 hari\n"
     ]
    }
   ],
   "source": [
    "peminjaman()"
   ]
  },
  {
   "cell_type": "code",
   "execution_count": 25,
   "id": "10ebe9dd",
   "metadata": {},
   "outputs": [
    {
     "data": {
      "text/plain": [
       "{'Nama': ['Fisika', 'Kimia', 'Biologi', 'Seni'],\n",
       " 'Kode': ['PS_001', 'PS_002', 'PS_003', 'PS_004'],\n",
       " 'Jumlah': [10, 10, 10, 12]}"
      ]
     },
     "execution_count": 25,
     "metadata": {},
     "output_type": "execute_result"
    }
   ],
   "source": [
    "pustaka"
   ]
  },
  {
   "cell_type": "code",
   "execution_count": 26,
   "id": "432e9904",
   "metadata": {},
   "outputs": [],
   "source": [
    "def pengembalian(pustaka=pustaka):\n",
    "    print(\"Form Pengembalian\")\n",
    "    varNama=str(input(\"Nama Peminjam\\t=\"))\n",
    "    varBuku=str(input(\"Kode Buku\\t=\"))\n",
    "    varHari=int(input(\"Jumlah Hari\\t=\"))\n",
    "    for i in range(len(pustaka['Kode'])):\n",
    "        if varBuku==pustaka['Kode'][i]:\n",
    "            if varHari>=durasi:\n",
    "                denda=(varHari-durasi)*1000\n",
    "                print(\"Terima kasih, {}\\nDenda sebesar Rp.{}\".format(varNama,denda))\n",
    "                pustaka['Jumlah'][i]+=1\n",
    "                break\n",
    "            else:\n",
    "                print(\"Terima kasih,{}\".format(varNama,denda))\n",
    "                pustaka['Jumlah'][i]+=1\n",
    "                break\n",
    "        elif i==len(pustaka['Kode'])-1:\n",
    "            print(\"Salah kode\")\n"
   ]
  },
  {
   "cell_type": "code",
   "execution_count": 27,
   "id": "fe271933",
   "metadata": {},
   "outputs": [
    {
     "name": "stdout",
     "output_type": "stream",
     "text": [
      "Form Pengembalian\n",
      "Nama Peminjam\t=Jisoo\n",
      "Kode Buku\t=PS_004\n",
      "Jumlah Hari\t=800\n",
      "Terima kasih, Jisoo\n",
      "Denda sebesar Rp.797000\n"
     ]
    }
   ],
   "source": [
    "pengembalian()"
   ]
  },
  {
   "cell_type": "code",
   "execution_count": 28,
   "id": "6718d76d",
   "metadata": {},
   "outputs": [],
   "source": [
    "def tambah_buku(varBuku,varKode,varJumlah):\n",
    "    for i in range(len(pustaka['Kode'])):\n",
    "        if varKode==pustaka['Kode'][i]:\n",
    "            pustaka['Jumlah'][i]+=varJumlah\n",
    "            print(\"Buku {} dengan Jumlah {}\".format(pustaka[\"Nama\"][i],\n",
    "                                                    pustaka['Jumlah'][i]))\n",
    "            break\n",
    "    else:\n",
    "        pustaka['Nama'].append(varBuku)\n",
    "        pustaka['Kode'].append(varKode)\n",
    "        pustaka['Jumlah'].append(varJumlah)\n",
    "        \n",
    "        print(\"Buku Baru {} dengan Jumlah {}\".format(pustaka[\"Nama\"][-1],\n",
    "                                                     pustaka['Jumlah'][-1]))"
   ]
  },
  {
   "cell_type": "code",
   "execution_count": 29,
   "id": "86a79017",
   "metadata": {},
   "outputs": [
    {
     "name": "stdout",
     "output_type": "stream",
     "text": [
      "Buku yang tersedia:\n",
      "Nama Buku\t Kode Buku\t Jumlah\n",
      "Buku Fisika\t kode PS_001\t 10\n",
      "Buku Kimia\t kode PS_002\t 10\n",
      "Buku Biologi\t kode PS_003\t 10\n",
      "Buku Seni\t kode PS_004\t 13\n"
     ]
    }
   ],
   "source": [
    "Data_terakhir()"
   ]
  },
  {
   "cell_type": "code",
   "execution_count": 30,
   "id": "d1c5cc60",
   "metadata": {},
   "outputs": [
    {
     "name": "stdout",
     "output_type": "stream",
     "text": [
      "Buku Baru TKJ dengan Jumlah 7\n"
     ]
    }
   ],
   "source": [
    "Judul=\"TKJ\"\n",
    "Kode=\"PS_005\"\n",
    "Jumlah= 7\n",
    "tambah_buku(Judul,Kode,Jumlah)"
   ]
  },
  {
   "cell_type": "code",
   "execution_count": 31,
   "id": "0b514a81",
   "metadata": {},
   "outputs": [
    {
     "name": "stdout",
     "output_type": "stream",
     "text": [
      "Buku yang tersedia:\n",
      "Nama Buku\t Kode Buku\t Jumlah\n",
      "Buku Fisika\t kode PS_001\t 10\n",
      "Buku Kimia\t kode PS_002\t 10\n",
      "Buku Biologi\t kode PS_003\t 10\n",
      "Buku Seni\t kode PS_004\t 13\n",
      "Buku TKJ\t kode PS_005\t 7\n"
     ]
    }
   ],
   "source": [
    "Data_terakhir()"
   ]
  },
  {
   "cell_type": "code",
   "execution_count": 32,
   "id": "98a6fc67",
   "metadata": {},
   "outputs": [
    {
     "name": "stdout",
     "output_type": "stream",
     "text": [
      "Buku Baru Sastra dengan Jumlah 5\n"
     ]
    }
   ],
   "source": [
    "Judul=\"Sastra\"\n",
    "Kode=\"PS_006\"\n",
    "Jumlah=5\n",
    "tambah_buku(Judul,Kode,Jumlah)"
   ]
  },
  {
   "cell_type": "code",
   "execution_count": 33,
   "id": "c520b6dc",
   "metadata": {},
   "outputs": [
    {
     "name": "stdout",
     "output_type": "stream",
     "text": [
      "Buku TKJ dengan Jumlah 27\n"
     ]
    }
   ],
   "source": [
    "Judul=\"TKJ\"\n",
    "kode=\"PS_005\"\n",
    "jumlah= 20\n",
    "tambah_buku(Judul,kode,jumlah)"
   ]
  },
  {
   "cell_type": "code",
   "execution_count": 35,
   "id": "82baf9f9",
   "metadata": {},
   "outputs": [
    {
     "name": "stdout",
     "output_type": "stream",
     "text": [
      "Buku yang tersedia:\n",
      "Nama Buku\t Kode Buku\t Jumlah\n",
      "Buku Fisika\t kode PS_001\t 10\n",
      "Buku Kimia\t kode PS_002\t 10\n",
      "Buku Biologi\t kode PS_003\t 10\n",
      "Buku Seni\t kode PS_004\t 13\n",
      "Buku TKJ\t kode PS_005\t 27\n",
      "Buku Sastra\t kode PS_006\t 5\n"
     ]
    }
   ],
   "source": [
    "Data_terakhir()"
   ]
  },
  {
   "cell_type": "code",
   "execution_count": null,
   "id": "cf518270",
   "metadata": {},
   "outputs": [],
   "source": []
  }
 ],
 "metadata": {
  "kernelspec": {
   "display_name": "Python 3 (ipykernel)",
   "language": "python",
   "name": "python3"
  },
  "language_info": {
   "codemirror_mode": {
    "name": "ipython",
    "version": 3
   },
   "file_extension": ".py",
   "mimetype": "text/x-python",
   "name": "python",
   "nbconvert_exporter": "python",
   "pygments_lexer": "ipython3",
   "version": "3.10.8"
  }
 },
 "nbformat": 4,
 "nbformat_minor": 5
}
